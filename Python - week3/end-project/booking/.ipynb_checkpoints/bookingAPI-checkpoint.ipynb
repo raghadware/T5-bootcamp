{
 "cells": [
  {
   "cell_type": "markdown",
   "id": "718f2a64-649f-4ad7-97ea-7d5f12f1e292",
   "metadata": {},
   "source": [
    "# Applying Setniment Analysis on Booking Data"
   ]
  },
  {
   "cell_type": "markdown",
   "id": "7afd2409-1f47-4c78-9df4-3ad5384bed59",
   "metadata": {},
   "source": [
    "#### Data API: [Booking data API - RapidAPI](https://rapidapi.com/tipsters/api/booking-com)"
   ]
  },
  {
   "cell_type": "markdown",
   "id": "471a683b-1b88-4186-a1b8-46e92ec8bff6",
   "metadata": {},
   "source": [
    "**Import required libraries**"
   ]
  },
  {
   "cell_type": "code",
   "execution_count": 131,
   "id": "786b323f-e624-4ac4-840d-baef22d5e090",
   "metadata": {},
   "outputs": [],
   "source": [
    "import pandas as pd\n",
    "import requests"
   ]
  },
  {
   "cell_type": "markdown",
   "id": "9fa24a4e-2931-491c-a52e-08ceffbc8f71",
   "metadata": {},
   "source": [
    "**Request API access**"
   ]
  },
  {
   "cell_type": "code",
   "execution_count": 118,
   "id": "0073effb-e49b-4fa3-87a5-795514808e7b",
   "metadata": {
    "collapsed": true,
    "jupyter": {
     "outputs_hidden": true
    },
    "tags": []
   },
   "outputs": [
    {
     "name": "stdout",
     "output_type": "stream",
     "text": [
      "{'result': [{'travel_purpose': 'leisure', 'helpful_vote_count': 0, 'review_hash': '0e3047be91e84701', 'countrycode': 'ae', 'review_id': 4192864805, 'user_new_badges': [], 'pros': 'The hotel was remarkable. Its location was great and the hotel services and staff were more than amazing especially kristela! She was so so helpful and very professional.', 'cons': '', 'anonymous': '', 'reviewng': 1, 'title': 'Exceptional', 'hotel_id': 1676161, 'languagecode': 'en-gb', 'is_moderated': 0, 'is_incentivised': 0, 'author': {'nr_reviews': 0, 'type': 'review_category_group_of_friends', 'type_string': 'Group of friends', 'age_group': '', 'helpful_vote_count': 0, 'name': 'Suha', 'avatar': 'https://lh3.googleusercontent.com/-XdUIqdMkCWA/AAAAAAAAAAI/AAAAAAAAAAA/4252rscbv5M/photo.jpg?sz=5064', 'countrycode': 'ae', 'user_id': 163290578, 'city': ''}, 'tags': [], 'stayed_room_info': {'room_name': 'Superior Double or Twin Room with City View', 'num_nights': 1, 'checkout': '2023-09-10', 'room_id': 167616104, 'photo': {'url_square60': 'https://cf.bstatic.com/images/hotel/square60/284/284760287.jpg', 'ratio': 1.5, 'url_640x200': 'https://cf.bstatic.com/images/hotel/640x200/284/284760287.jpg', 'photo_id': 284760287, 'url_max300': 'https://cf.bstatic.com/images/hotel/max300/284/284760287.jpg', 'url_original': 'https://cf.bstatic.com/images/hotel/max500/284/284760287.jpg'}, 'checkin': '2023-09-09'}, 'date': '2023-09-15 13:36:22', 'cons_translated': '', 'pros_translated': '', 'reviewer_photos': [], 'average_score': 4.0, 'is_trivial': 0, 'title_translated': '', 'hotelier_response': 'Dear Suha, \\nThank you for taking a moment to share your experience at Maritim Plaza Tirana. We are so pleased to \\nhear you found service to your liking. We look forward to welcoming you back again soon. \\nYours Sincerely, \\nGeneral Manager', 'hotelier_name': 'Maritim Hotel Plaza Tirana', 'hotelier_response_date': 1695109874}, {'anonymous': '', 'reviewng': 1, 'title': 'Fabulous', 'hotel_id': 1676161, 'languagecode': 'en-gb', 'travel_purpose': 'leisure', 'helpful_vote_count': 0, 'review_hash': '716a683066e9550b', 'countrycode': 'gb', 'review_id': 3786991980, 'user_new_badges': [], 'pros': '1) Great Location \\n2) Spacious  Rooms\\n3) Breakfast \\n4) Restaurants\\n5) Helpful Staff', 'cons': '1) Toaster during breakfast was broken during our stay, wasnt a quick turnaround to resolve this issue.', 'hotelier_response': 'Dear Sugra, \\nThank you for taking a moment to share your experience at Maritim Hotel Plaza. We are so pleased to \\nhear you found service to your liking. We look forward to welcoming you back again soon. \\nYours Sincerely, \\nGeneral Manager', 'hotelier_name': 'Maritim Hotel Plaza Tirana', 'hotelier_response_date': 1694591134, 'is_moderated': 0, 'is_incentivised': 0, 'author': {'nr_reviews': 0, 'helpful_vote_count': 0, 'type_string': 'Group of friends', 'age_group': '', 'type': 'review_category_group_of_friends', 'countrycode': 'gb', 'name': 'Sugra', 'user_id': 397631103, 'city': ''}, 'tags': [], 'stayed_room_info': {'num_nights': 2, 'room_name': 'Double or Twin Room', 'photo': {'url_square60': 'https://cf.bstatic.com/images/hotel/square60/702/70292338.jpg', 'ratio': 1.50075037518759, 'photo_id': 70292338, 'url_max300': 'https://cf.bstatic.com/images/hotel/max300/702/70292338.jpg', 'url_original': 'https://cf.bstatic.com/images/hotel/max500/702/70292338.jpg', 'url_640x200': 'https://cf.bstatic.com/images/hotel/640x200/702/70292338.jpg'}, 'checkin': '2023-08-18', 'checkout': '2023-08-20', 'room_id': 167616101}, 'date': '2023-09-12 16:52:04', 'cons_translated': '', 'pros_translated': '', 'reviewer_photos': [], 'is_trivial': 0, 'average_score': 3.59999990463257, 'title_translated': ''}, {'hotelier_response_date': 1694591658, 'hotelier_response': 'Dear Sting, \\nThank you for sharing a review of your recent experience. Our team here at Maritim Plaza Tirana is \\ncommitted to providing high-quality customer service, and we’re thrilled to hear that we made a good \\nimpression on you. We hope you’ll visit us again soon.\\nYours Sincerely, \\nGeneral Manager', 'hotelier_name': 'Maritim Hotel Plaza Tirana', 'reviewer_photos': [], 'pros_translated': '', 'cons_translated': '', 'title_translated': '', 'is_trivial': 0, 'average_score': 4.0, 'author': {'countrycode': 'ch', 'name': 'Stig', 'user_id': 217523914, 'city': '', 'nr_reviews': 0, 'helpful_vote_count': 1, 'type_string': 'Solo traveller', 'age_group': '', 'type': 'solo_traveller'}, 'is_incentivised': 0, 'is_moderated': 0, 'date': '2023-09-11 21:46:08', 'stayed_room_info': {'checkout': '2023-09-11', 'room_id': 167616104, 'photo': {'url_640x200': 'https://cf.bstatic.com/images/hotel/640x200/284/284760287.jpg', 'photo_id': 284760287, 'url_max300': 'https://cf.bstatic.com/images/hotel/max300/284/284760287.jpg', 'url_original': 'https://cf.bstatic.com/images/hotel/max500/284/284760287.jpg', 'ratio': 1.5, 'url_square60': 'https://cf.bstatic.com/images/hotel/square60/284/284760287.jpg'}, 'checkin': '2023-09-10', 'room_name': 'Superior Double or Twin Room with City View', 'num_nights': 1}, 'tags': [], 'hotel_id': 1676161, 'title': 'Exceptional', 'languagecode': 'en-gb', 'anonymous': '', 'reviewng': 1, 'review_id': 4638117267, 'countrycode': 'ch', 'review_hash': 'b6d7276c598476a7', 'cons': 'Nothing.', 'pros': 'Super service friendly staff, rich breakfast, good bed, good business location, easy hotel parking.', 'user_new_badges': [], 'travel_purpose': 'business', 'helpful_vote_count': 1}, {'date': '2023-09-02 23:14:04', 'stayed_room_info': {'checkin': '2023-09-01', 'photo': {'url_square60': 'https://cf.bstatic.com/images/hotel/square60/702/70292338.jpg', 'ratio': 1.50075037518759, 'url_original': 'https://cf.bstatic.com/images/hotel/max500/702/70292338.jpg', 'url_max300': 'https://cf.bstatic.com/images/hotel/max300/702/70292338.jpg', 'photo_id': 70292338, 'url_640x200': 'https://cf.bstatic.com/images/hotel/640x200/702/70292338.jpg'}, 'room_id': 167616101, 'checkout': '2023-09-02', 'num_nights': 1, 'room_name': 'Double or Twin Room'}, 'tags': [], 'is_incentivised': 0, 'author': {'type': 'solo_traveller', 'helpful_vote_count': 0, 'type_string': 'Solo traveller', 'age_group': '', 'nr_reviews': 0, 'user_id': 24573, 'city': '', 'name': 'Dror', 'countrycode': 'il'}, 'is_moderated': 0, 'title_translated': '', 'is_trivial': 0, 'average_score': 3.20000004768372, 'reviewer_photos': [], 'pros_translated': '', 'cons_translated': '', 'hotelier_name': 'Maritim Hotel Plaza Tirana', 'hotelier_response': 'Dear Dror, \\nThank you for taking a moment to share your experience at Maritim Hotel Plaza. We are so pleased to \\nhear you found service to your liking. We look forward to welcoming you back again soon. \\nYours Sincerely, \\nGeneral Manager', 'hotelier_response_date': 1694591358, 'helpful_vote_count': 0, 'travel_purpose': 'leisure', 'cons': 'The water of the shower was not warm enough', 'pros': 'Nice hotel, good location', 'user_new_badges': [], 'review_id': 2487795514, 'countrycode': 'il', 'review_hash': 'b4e1c8238e7ac7ea', 'reviewng': 1, 'anonymous': '', 'languagecode': 'en-us', 'hotel_id': 1676161, 'title': 'Very good'}, {'languagecode': 'en-us', 'hotel_id': 1676161, 'title': 'Amazing hotel in the middle of the city.', 'reviewng': 1, 'anonymous': '', 'cons': '', 'user_new_badges': [], 'pros': 'Great facilities', 'countrycode': 'us', 'review_id': 3652668262, 'review_hash': '7fb3415aa9356b43', 'helpful_vote_count': 1, 'travel_purpose': 'leisure', 'hotelier_response_date': 1692948629, 'hotelier_name': 'Maritim Hotel Plaza Tirana', 'hotelier_response': 'Dear Gjilberta, \\nThank you for sharing a review of your recent experience. Our team here at Maritim Plaza Tirana is \\ncommitted to providing high-quality customer service, and we’re thrilled to hear that we made a good \\nimpression on you. We hope you’ll visit us again soon. \\nYours Sincerely, \\nGeneral Manager', 'average_score': 4.0, 'is_trivial': 0, 'title_translated': '', 'pros_translated': '', 'reviewer_photos': [{'max1280x900': 'https://cf.bstatic.com/xdata/images/xphoto/max1280x900/262088062.jpg?k=cfea2619a047fb9c575a51ecd468a9cf9bcaa6495497e851f988bf2230d21184&o=', 'square60_ao': 'https://cf.bstatic.com/xdata/images/xphoto/square60_ao/262088062.jpg?k=cfea2619a047fb9c575a51ecd468a9cf9bcaa6495497e851f988bf2230d21184&o=', 'square90': 'https://cf.bstatic.com/xdata/images/xphoto/square90/262088062.jpg?k=cfea2619a047fb9c575a51ecd468a9cf9bcaa6495497e851f988bf2230d21184&o=', 'max500_ao': 'https://cf.bstatic.com/xdata/images/xphoto/max500_ao/262088062.jpg?k=cfea2619a047fb9c575a51ecd468a9cf9bcaa6495497e851f988bf2230d21184&o='}, {'max500_ao': 'https://cf.bstatic.com/xdata/images/xphoto/max500_ao/262088073.jpg?k=22b906e25ac4b0844f5179e47481e55bb1af686451e620a0eea7979996d6ee3b&o=', 'square90': 'https://cf.bstatic.com/xdata/images/xphoto/square90/262088073.jpg?k=22b906e25ac4b0844f5179e47481e55bb1af686451e620a0eea7979996d6ee3b&o=', 'max1280x900': 'https://cf.bstatic.com/xdata/images/xphoto/max1280x900/262088073.jpg?k=22b906e25ac4b0844f5179e47481e55bb1af686451e620a0eea7979996d6ee3b&o=', 'square60_ao': 'https://cf.bstatic.com/xdata/images/xphoto/square60_ao/262088073.jpg?k=22b906e25ac4b0844f5179e47481e55bb1af686451e620a0eea7979996d6ee3b&o='}], 'cons_translated': '', 'date': '2023-08-22 15:18:53', 'tags': [], 'stayed_room_info': {'room_name': 'Double or Twin Room', 'num_nights': 2, 'room_id': 167616101, 'checkout': '2023-08-18', 'checkin': '2023-08-16', 'photo': {'url_square60': 'https://cf.bstatic.com/images/hotel/square60/702/70292338.jpg', 'ratio': 1.50075037518759, 'url_640x200': 'https://cf.bstatic.com/images/hotel/640x200/702/70292338.jpg', 'url_max300': 'https://cf.bstatic.com/images/hotel/max300/702/70292338.jpg', 'photo_id': 70292338, 'url_original': 'https://cf.bstatic.com/images/hotel/max500/702/70292338.jpg'}}, 'is_incentivised': 0, 'author': {'age_group': '', 'type_string': 'Solo traveller', 'helpful_vote_count': 1, 'type': 'solo_traveller', 'nr_reviews': 0, 'user_id': 161496973, 'city': '', 'countrycode': 'us', 'name': 'Gjilberta'}, 'is_moderated': 0}, {'hotelier_name': 'Maritim Hotel Plaza Tirana', 'hotelier_response': 'Dear Ahmet,\\nThank you for sharing a review of your recent experience. Our team here at Maritim Plaza Tirana is\\ncommitted to providing high-quality customer service, and we’re thrilled to hear that we made a good \\nimpression on you. We hope you’ll visit us again soon.\\nYour Sincerely, \\nGeneral Manager', 'hotelier_response_date': 1692708591, 'date': '2023-08-22 13:58:05', 'stayed_room_info': {'num_nights': 2, 'room_name': 'Double or Twin Room', 'checkin': '2023-08-16', 'photo': {'url_original': 'https://cf.bstatic.com/images/hotel/max500/702/70292338.jpg', 'url_max300': 'https://cf.bstatic.com/images/hotel/max300/702/70292338.jpg', 'photo_id': 70292338, 'url_640x200': 'https://cf.bstatic.com/images/hotel/640x200/702/70292338.jpg', 'url_square60': 'https://cf.bstatic.com/images/hotel/square60/702/70292338.jpg', 'ratio': 1.50075037518759}, 'room_id': 167616101, 'checkout': '2023-08-18'}, 'tags': [], 'author': {'user_id': 307936426, 'city': '', 'countrycode': 'de', 'name': 'Ahmet', 'type_string': 'Solo traveller', 'helpful_vote_count': 1, 'age_group': '', 'type': 'solo_traveller', 'nr_reviews': 0}, 'is_incentivised': 0, 'is_moderated': 0, 'title_translated': '', 'is_trivial': 0, 'average_score': 3.59999990463257, 'reviewer_photos': [], 'pros_translated': '', 'cons_translated': '', 'reviewng': 1, 'anonymous': '', 'languagecode': 'en-gb', 'hotel_id': 1676161, 'title': 'Rally nice frandly hapy', 'helpful_vote_count': 1, 'travel_purpose': 'business', 'cons': '?', 'pros': 'naice', 'user_new_badges': [], 'review_id': 4635230341, 'countrycode': 'de', 'review_hash': 'bbae489dedd87729'}, {'travel_purpose': 'leisure', 'helpful_vote_count': 1, 'countrycode': 'au', 'review_id': 4634040404, 'review_hash': '3ef7bf6dfe71981d', 'cons': '', 'user_new_badges': [], 'pros': 'Best hotel! Best staff too! Next time I am in Tirane, there is only one place I would stay - Best of Tirane!', 'anonymous': '', 'reviewng': 1, 'hotel_id': 1676161, 'title': 'Exceptional', 'languagecode': 'en-gb', 'is_incentivised': 0, 'author': {'user_id': 678849518, 'city': '', 'avatar': 'https://lh3.googleusercontent.com/a/AEdFTp44GXuafxb6ASdLOVq7Fu98cUVugJQ7XQ43ZiKunQ=s96-c64', 'countrycode': 'au', 'name': 'Menx', 'age_group': '', 'type_string': 'Group of friends', 'helpful_vote_count': 1, 'type': 'review_category_group_of_friends', 'nr_reviews': 0}, 'is_moderated': 0, 'date': '2023-08-15 03:21:27', 'stayed_room_info': {'num_nights': 3, 'room_name': 'Double or Twin Room', 'photo': {'url_640x200': 'https://cf.bstatic.com/images/hotel/640x200/702/70292338.jpg', 'photo_id': 70292338, 'url_max300': 'https://cf.bstatic.com/images/hotel/max300/702/70292338.jpg', 'url_original': 'https://cf.bstatic.com/images/hotel/max500/702/70292338.jpg', 'url_square60': 'https://cf.bstatic.com/images/hotel/square60/702/70292338.jpg', 'ratio': 1.50075037518759}, 'checkin': '2023-07-16', 'checkout': '2023-07-19', 'room_id': 167616101}, 'tags': [], 'pros_translated': '', 'reviewer_photos': [], 'cons_translated': '', 'average_score': 4.0, 'is_trivial': 0, 'title_translated': '', 'hotelier_response': 'Dear Menx,\\nThank you for sharing a review of your recent experience. Our team here at Maritim Plaza Tirana is\\ncommitted to providing high-quality customer service, and we’re thrilled to hear that we made a good \\nimpression on you. We hope you’ll visit us again soon.\\nYours Sincerely, \\nGeneral Manager', 'hotelier_name': 'Maritim Hotel Plaza Tirana', 'hotelier_response_date': 1692108319}, {'title': 'Exceptional', 'hotel_id': 1676161, 'languagecode': 'en-us', 'anonymous': '', 'reviewng': 1, 'review_hash': 'bacfdb71fb265bf1', 'countrycode': 'us', 'review_id': 4633833547, 'user_new_badges': [], 'pros': 'Everything was excellent very nice hotel', 'cons': '', 'travel_purpose': 'leisure', 'helpful_vote_count': 0, 'hotelier_response_date': 1691999632, 'hotelier_response': 'Dear Ramo, \\nThank you for taking a moment to share your experience at Maritim Plaza Tirana. We are so pleased to\\nhear you found service to your liking. We look forward to welcoming you back again soon. \\nYours Sincerely, \\nGeneral Manager', 'hotelier_name': 'Maritim Hotel Plaza Tirana', 'cons_translated': '', 'pros_translated': '', 'reviewer_photos': [], 'average_score': 4.0, 'is_trivial': 0, 'title_translated': '', 'is_moderated': 0, 'is_incentivised': 0, 'author': {'type': 'review_category_group_of_friends', 'helpful_vote_count': 0, 'type_string': 'Group of friends', 'age_group': '', 'nr_reviews': 0, 'city': '', 'user_id': 4577681, 'name': 'Ramo', 'countrycode': 'us'}, 'stayed_room_info': {'checkin': '2023-08-11', 'photo': {'ratio': 1.5, 'url_square60': 'https://cf.bstatic.com/images/hotel/square60/284/284760287.jpg', 'photo_id': 284760287, 'url_max300': 'https://cf.bstatic.com/images/hotel/max300/284/284760287.jpg', 'url_original': 'https://cf.bstatic.com/images/hotel/max500/284/284760287.jpg', 'url_640x200': 'https://cf.bstatic.com/images/hotel/640x200/284/284760287.jpg'}, 'room_id': 167616104, 'checkout': '2023-08-13', 'num_nights': 2, 'room_name': 'Superior Double or Twin Room with City View'}, 'tags': [], 'date': '2023-08-13 23:37:39'}, {'hotelier_response_date': 1691999801, 'hotelier_response': 'Dear Kristen,\\nThank you for sharing a review of your recent experience. Our team here at Maritim Hotel Plaza is \\ncommitted to providing high-quality customer service, and we’re thrilled to hear that we made a good \\nimpression on you. We hope you’ll visit us again soon.\\nYours Sincerely, \\nGeneral Manager', 'hotelier_name': 'Maritim Hotel Plaza Tirana', 'reviewer_photos': [{'square60_ao': 'https://cf.bstatic.com/xdata/images/xphoto/square60_ao/256736083.jpg?k=ae2be7888c9823e41fff76d16b82ce8c8e32a81f4eef11a2bc0f22edbb4fa11c&o=', 'max1280x900': 'https://cf.bstatic.com/xdata/images/xphoto/max1280x900/256736083.jpg?k=ae2be7888c9823e41fff76d16b82ce8c8e32a81f4eef11a2bc0f22edbb4fa11c&o=', 'square90': 'https://cf.bstatic.com/xdata/images/xphoto/square90/256736083.jpg?k=ae2be7888c9823e41fff76d16b82ce8c8e32a81f4eef11a2bc0f22edbb4fa11c&o=', 'max500_ao': 'https://cf.bstatic.com/xdata/images/xphoto/max500_ao/256736083.jpg?k=ae2be7888c9823e41fff76d16b82ce8c8e32a81f4eef11a2bc0f22edbb4fa11c&o='}, {'max500_ao': 'https://cf.bstatic.com/xdata/images/xphoto/max500_ao/256736111.jpg?k=4c2a64324074849364dceee73e64de2307c9c7a861529db5c2e6a38b33d812bb&o=', 'square60_ao': 'https://cf.bstatic.com/xdata/images/xphoto/square60_ao/256736111.jpg?k=4c2a64324074849364dceee73e64de2307c9c7a861529db5c2e6a38b33d812bb&o=', 'max1280x900': 'https://cf.bstatic.com/xdata/images/xphoto/max1280x900/256736111.jpg?k=4c2a64324074849364dceee73e64de2307c9c7a861529db5c2e6a38b33d812bb&o=', 'square90': 'https://cf.bstatic.com/xdata/images/xphoto/square90/256736111.jpg?k=4c2a64324074849364dceee73e64de2307c9c7a861529db5c2e6a38b33d812bb&o='}], 'pros_translated': '', 'cons_translated': '', 'title_translated': '', 'is_trivial': 0, 'average_score': 3.59999990463257, 'is_incentivised': 0, 'author': {'nr_reviews': 0, 'type': 'review_category_group_of_friends', 'type_string': 'Group of friends', 'helpful_vote_count': 0, 'age_group': '', 'name': 'Kristen', 'countrycode': 'us', 'city': '', 'user_id': 84259976}, 'is_moderated': 0, 'date': '2023-08-13 00:35:03', 'tags': [], 'stayed_room_info': {'room_name': 'Double or Twin Room', 'num_nights': 2, 'checkout': '2023-08-08', 'room_id': 167616101, 'photo': {'ratio': 1.50075037518759, 'url_square60': 'https://cf.bstatic.com/images/hotel/square60/702/70292338.jpg', 'url_max300': 'https://cf.bstatic.com/images/hotel/max300/702/70292338.jpg', 'url_original': 'https://cf.bstatic.com/images/hotel/max500/702/70292338.jpg', 'photo_id': 70292338, 'url_640x200': 'https://cf.bstatic.com/images/hotel/640x200/702/70292338.jpg'}, 'checkin': '2023-08-06'}, 'hotel_id': 1676161, 'title': 'Lovely stay in Tirana', 'languagecode': 'en-us', 'anonymous': '', 'reviewng': 1, 'review_id': 2347667063, 'countrycode': 'us', 'review_hash': 'bcadef108b256580', 'cons': '', 'pros': 'Central Tirana location with close proximity to the castle and other main sights. Hotel is very clean and rooms are spacious and well-appointed. Staff was helpful and accommodating. Parking was easy and accessing the car was quick with the help of hotel staff.', 'user_new_badges': [], 'travel_purpose': 'leisure', 'helpful_vote_count': 0}, {'reviewng': 1, 'anonymous': '', 'languagecode': 'en-gb', 'hotel_id': 1676161, 'title': 'Impressive on many levels.', 'helpful_vote_count': 0, 'travel_purpose': 'leisure', 'cons': 'Shower in bathroom big enough only for a small child', 'user_new_badges': [], 'pros': 'Location, excellent staff, room quality, superb breakfast buffet', 'countrycode': 'ie', 'review_id': 3700779259, 'review_hash': 'a05996f2cd61b14c', 'hotelier_name': 'Maritim Hotel Plaza Tirana', 'hotelier_response': 'Dear Brian, \\n\\nThank you for taking a moment to share your experience at Maritim Hotel Plaza. We are so pleased to \\nhear you found service to your liking. We look forward to welcoming you back again soon. \\n\\nYours Sincerely, \\nGeneral Manager', 'hotelier_response_date': 1691498321, 'date': '2023-08-08 10:18:35', 'tags': [], 'stayed_room_info': {'num_nights': 3, 'room_name': 'Double or Twin Room', 'checkin': '2023-08-04', 'photo': {'ratio': 1.50075037518759, 'url_square60': 'https://cf.bstatic.com/images/hotel/square60/702/70292338.jpg', 'url_max300': 'https://cf.bstatic.com/images/hotel/max300/702/70292338.jpg', 'url_original': 'https://cf.bstatic.com/images/hotel/max500/702/70292338.jpg', 'photo_id': 70292338, 'url_640x200': 'https://cf.bstatic.com/images/hotel/640x200/702/70292338.jpg'}, 'room_id': 167616101, 'checkout': '2023-08-07'}, 'author': {'user_id': 4147952, 'city': '', 'countrycode': 'ie', 'name': 'Brian', 'age_group': '', 'type_string': 'Solo traveller', 'helpful_vote_count': 0, 'type': 'solo_traveller', 'nr_reviews': 0}, 'is_incentivised': 0, 'is_moderated': 0, 'is_trivial': 0, 'average_score': 3.20000004768372, 'title_translated': '', 'pros_translated': '', 'reviewer_photos': [], 'cons_translated': ''}, {'languagecode': 'en-us', 'hotel_id': 1676161, 'title': 'Very good', 'reviewng': 1, 'anonymous': '', 'cons': '', 'pros': 'Nice hotel with great location and friendly staff', 'user_new_badges': [], 'review_id': 3815795798, 'countrycode': 'ae', 'review_hash': '7d8258661fee43fd', 'helpful_vote_count': 0, 'travel_purpose': 'leisure', 'hotelier_response_date': 1690787237, 'hotelier_name': 'Maritim Hotel Plaza Tirana', 'hotelier_response': 'Dear Mohamed, \\nThank you for taking a moment to share your experience at Maritim Plaza Tirana. We are so pleased to hear you found service to your liking. We look forward to welcoming you back again soon.\\nYours Sincerely, \\nGeneral Manager', 'title_translated': '', 'is_trivial': 0, 'average_score': 3.20000004768372, 'reviewer_photos': [], 'pros_translated': '', 'cons_translated': '', 'date': '2023-07-31 01:14:31', 'tags': [], 'stayed_room_info': {'checkin': '2023-06-29', 'photo': {'url_original': 'https://cf.bstatic.com/images/hotel/max500/284/284760287.jpg', 'url_max300': 'https://cf.bstatic.com/images/hotel/max300/284/284760287.jpg', 'photo_id': 284760287, 'url_640x200': 'https://cf.bstatic.com/images/hotel/640x200/284/284760287.jpg', 'ratio': 1.5, 'url_square60': 'https://cf.bstatic.com/images/hotel/square60/284/284760287.jpg'}, 'room_id': 167616104, 'checkout': '2023-06-30', 'num_nights': 1, 'room_name': 'Superior Double or Twin Room with City View'}, 'is_incentivised': 0, 'author': {'name': 'Mohamed', 'countrycode': 'ae', 'user_id': 41161033, 'city': '', 'nr_reviews': 0, 'type': 'review_category_group_of_friends', 'helpful_vote_count': 0, 'type_string': 'Group of friends', 'age_group': ''}, 'is_moderated': 0}, {'is_trivial': 0, 'average_score': 4.0, 'title_translated': '', 'pros_translated': '', 'reviewer_photos': [], 'cons_translated': '', 'date': '2023-07-27 09:58:53', 'stayed_room_info': {'num_nights': 9, 'room_name': 'Superior Double or Twin Room with City View', 'checkin': '2023-07-17', 'photo': {'url_max300': 'https://cf.bstatic.com/images/hotel/max300/284/284760287.jpg', 'photo_id': 284760287, 'url_original': 'https://cf.bstatic.com/images/hotel/max500/284/284760287.jpg', 'url_640x200': 'https://cf.bstatic.com/images/hotel/640x200/284/284760287.jpg', 'url_square60': 'https://cf.bstatic.com/images/hotel/square60/284/284760287.jpg', 'ratio': 1.5}, 'room_id': 167616104, 'checkout': '2023-07-26'}, 'tags': [], 'author': {'type': 'review_category_group_of_friends', 'type_string': 'Group of friends', 'helpful_vote_count': 2, 'age_group': '', 'nr_reviews': 0, 'city': '', 'user_id': 2283391, 'name': 'Bassem', 'countrycode': 'de', 'avatar': 'https://lh4.googleusercontent.com/-CbXSqhKKP5k/AAAAAAAAAAI/AAAAAAAAAKY/L29EQ9FKHdI/s96-c/photo.jpg64'}, 'is_incentivised': 0, 'is_moderated': 0, 'hotelier_name': 'Maritim Hotel Plaza Tirana', 'hotelier_response': '', 'cons': \"My bag got delayed in the airport for 5 days\\r\\nJust a small tip, don't trust that the Airport will deliver it, just go there yourself and search\\r\\nand this is amazing advice I got from the hotel concierge \\r\\nbut the hotel by itself had ZERO mistakes\", 'user_new_badges': [], 'pros': 'the SPA, breakfast, location, staff, Casino, everything was flawless\\r\\nit protects you from the randomness that new cities bring\\r\\nIs the weather really hot and your tour got cancelled, no worries, the Hotel is amazing and location is great', 'countrycode': 'de', 'review_id': 4631247864, 'review_hash': 'ba502ce787d4fdd9', 'helpful_vote_count': 2, 'travel_purpose': 'leisure', 'languagecode': 'en-us', 'hotel_id': 1676161, 'title': 'Flawless, best in Tirana', 'reviewng': 1, 'anonymous': ''}, {'anonymous': '', 'reviewng': 1, 'hotel_id': 1676161, 'title': 'Exceptional', 'languagecode': 'en-gb', 'travel_purpose': 'leisure', 'helpful_vote_count': 0, 'countrycode': 'no', 'review_id': 4630115382, 'review_hash': 'cebe5bc8595067cf', 'cons': 'The finnish sauna had a temperature of 80 Celsius. It should have been 90 degrees or higher to be called a finnish sauna.', 'user_new_badges': [], 'pros': 'Very good selection of food items for breakfast. The rooftop bar is worth a visit. Very good spa area. The hotel is situated very close to the bus station where buses to Tirana airport arrives.', 'hotelier_response': 'Dear Bard, \\nThank you for choosing us. We’re glad to hear that you were satisfied with your \\nexperience. We look forward to welcoming you back to Maritim Plaza Tirana in the near future.\\nYours Sincerely, \\nGeneral Manager', 'hotelier_name': 'Maritim Hotel Plaza Tirana', 'hotelier_response_date': 1689775700, 'author': {'nr_reviews': 0, 'type': 'review_category_group_of_friends', 'type_string': 'Group of friends', 'helpful_vote_count': 0, 'age_group': '', 'name': 'Bård', 'countrycode': 'no', 'city': '', 'user_id': 239737505}, 'is_incentivised': 0, 'is_moderated': 0, 'date': '2023-07-19 13:57:30', 'tags': [], 'stayed_room_info': {'num_nights': 2, 'room_name': 'Double or Twin Room', 'checkin': '2023-07-08', 'photo': {'ratio': 1.50075037518759, 'url_square60': 'https://cf.bstatic.com/images/hotel/square60/702/70292338.jpg', 'url_640x200': 'https://cf.bstatic.com/images/hotel/640x200/702/70292338.jpg', 'url_max300': 'https://cf.bstatic.com/images/hotel/max300/702/70292338.jpg', 'photo_id': 70292338, 'url_original': 'https://cf.bstatic.com/images/hotel/max500/702/70292338.jpg'}, 'room_id': 167616101, 'checkout': '2023-07-10'}, 'pros_translated': '', 'reviewer_photos': [], 'cons_translated': '', 'is_trivial': 0, 'average_score': 4.0, 'title_translated': ''}, {'cons_translated': '', 'reviewer_photos': [], 'pros_translated': '', 'title_translated': '', 'average_score': 4.0, 'is_trivial': 0, 'is_moderated': 0, 'author': {'age_group': '', 'type_string': 'Group of friends', 'helpful_vote_count': 1, 'type': 'review_category_group_of_friends', 'nr_reviews': 0, 'user_id': 422997387, 'city': '', 'avatar': 'https://lh6.googleusercontent.com/-x67AEV0ASUo/AAAAAAAAAAI/AAAAAAAAAAA/AMZuuclYrtF0Ymg16QfmmcmN5udUS0_4Bw/s96-c/photo.jpg64', 'countrycode': 'gb', 'name': 'Pajaziti'}, 'is_incentivised': 0, 'tags': [], 'stayed_room_info': {'room_id': 167616104, 'checkout': '2023-07-02', 'checkin': '2023-07-01', 'photo': {'url_original': 'https://cf.bstatic.com/images/hotel/max500/284/284760287.jpg', 'url_max300': 'https://cf.bstatic.com/images/hotel/max300/284/284760287.jpg', 'photo_id': 284760287, 'url_640x200': 'https://cf.bstatic.com/images/hotel/640x200/284/284760287.jpg', 'ratio': 1.5, 'url_square60': 'https://cf.bstatic.com/images/hotel/square60/284/284760287.jpg'}, 'room_name': 'Superior Double or Twin Room with City View', 'num_nights': 1}, 'date': '2023-07-02 22:14:05', 'hotelier_response_date': 1688388076, 'hotelier_response': 'Dear Pajaziti, \\nThank you for sharing a review of your recent experience. Our team here at Maritim Hotel Plaza committed to providing high-quality customer service, and we’re thrilled to hear that we made a good \\nimpression on you. We hope you’ll visit us again soon.\\nYours Sincerely, \\nGeneral Manager', 'hotelier_name': 'Maritim Hotel Plaza Tirana', 'review_hash': '8b1bfb77ede5e1ee', 'review_id': 4627989239, 'countrycode': 'gb', 'pros': 'Everything', 'user_new_badges': [], 'cons': 'Nothing', 'travel_purpose': 'leisure', 'helpful_vote_count': 1, 'title': 'Exceptional', 'hotel_id': 1676161, 'languagecode': 'en-us', 'anonymous': '', 'reviewng': 1}, {'hotelier_response_date': 1688388139, 'hotelier_response': 'Dear Khaled, \\nThank you for sharing a review of your recent experience. Our team here at Maritim Hotel Plaza is\\ncommitted to providing high-quality customer service, and we’re thrilled to hear that we made a good \\nimpression on you. We hope you’ll visit us again soon.\\nYours Sincerely, \\nGeneral Manager\\n', 'hotelier_name': 'Maritim Hotel Plaza Tirana', 'reviewer_photos': [], 'pros_translated': '', 'cons_translated': '', 'title_translated': '', 'average_score': 4.0, 'is_trivial': 0, 'author': {'type': 'review_category_group_of_friends', 'type_string': 'Group of friends', 'age_group': '', 'helpful_vote_count': 1, 'nr_reviews': 0, 'city': '', 'user_id': 63952401, 'name': 'Khaled', 'countrycode': 'sa'}, 'is_incentivised': 0, 'is_moderated': 0, 'date': '2023-07-02 11:51:26', 'stayed_room_info': {'num_nights': 1, 'room_name': 'Double or Twin Room', 'photo': {'url_square60': 'https://cf.bstatic.com/images/hotel/square60/702/70292338.jpg', 'ratio': 1.50075037518759, 'url_original': 'https://cf.bstatic.com/images/hotel/max500/702/70292338.jpg', 'url_max300': 'https://cf.bstatic.com/images/hotel/max300/702/70292338.jpg', 'photo_id': 70292338, 'url_640x200': 'https://cf.bstatic.com/images/hotel/640x200/702/70292338.jpg'}, 'checkin': '2023-06-27', 'checkout': '2023-06-28', 'room_id': 167616101}, 'tags': [], 'hotel_id': 1676161, 'title': 'Staff 😍😍😍😍', 'languagecode': 'en-gb', 'anonymous': '', 'reviewng': 1, 'review_id': 3761987626, 'countrycode': 'sa', 'review_hash': 'c31e1c6c99c7a5e7', 'cons': 'Nothing', 'pros': 'Everything', 'user_new_badges': [], 'travel_purpose': 'leisure', 'helpful_vote_count': 1}, {'review_id': 4627644057, 'countrycode': 'gr', 'review_hash': 'f74e9931ff7e4608', 'cons': 'Breakfast needs some improvement', 'pros': 'Room is new and with all necessary stuff. Location is just excellent. Breakfast not so rich, coffee needs a lot of work.', 'user_new_badges': [], 'travel_purpose': 'business', 'helpful_vote_count': 0, 'hotel_id': 1676161, 'title': 'Overall a great experience and I recommend a stay there', 'languagecode': 'en-gb', 'anonymous': '', 'reviewng': 1, 'reviewer_photos': [], 'pros_translated': '', 'cons_translated': '', 'title_translated': '', 'is_trivial': 0, 'average_score': 3.59999990463257, 'is_incentivised': 0, 'author': {'type_string': 'Group of friends', 'age_group': '', 'helpful_vote_count': 0, 'type': 'review_category_group_of_friends', 'nr_reviews': 0, 'user_id': 1416456, 'city': '', 'avatar': 'https://cf.bstatic.com/xdata/images/xphoto/square64/157331755.jpg?k=1bc2cd0fa0fbf608c0902a614a3ad4158d2dcb6f2bfad3bc3018910bd44861c0&o=?t=1654342995', 'countrycode': 'gr', 'name': 'Sol'}, 'is_moderated': 0, 'date': '2023-06-29 21:16:54', 'stayed_room_info': {'checkin': '2023-06-27', 'photo': {'url_square60': 'https://cf.bstatic.com/images/hotel/square60/702/70292338.jpg', 'ratio': 1.50075037518759, 'photo_id': 70292338, 'url_max300': 'https://cf.bstatic.com/images/hotel/max300/702/70292338.jpg', 'url_original': 'https://cf.bstatic.com/images/hotel/max500/702/70292338.jpg', 'url_640x200': 'https://cf.bstatic.com/images/hotel/640x200/702/70292338.jpg'}, 'room_id': 167616101, 'checkout': '2023-06-29', 'num_nights': 2, 'room_name': 'Double or Twin Room'}, 'tags': [], 'hotelier_response_date': 1688125881, 'hotelier_response': 'Dear Sol, \\nThank you for sharing this positive review. We appreciate our location just as much as you do. We hope you’ll stop by again soon when you’re in the neighborhood.\\nYours Sincerely, \\nGeneral Manager', 'hotelier_name': 'Maritim Hotel Plaza Tirana'}, {'hotelier_response_date': 1686311718, 'hotelier_name': 'Maritim Hotel Plaza Tirana', 'hotelier_response': 'Dear Ian,\\n\\nThank you for posting your positive review. At Maritim Hotel Plaza, we value your time and always strive \\nto provide fast and efficient service. We are so pleased to hear our service was provided in a timely manner. We look forward to welcoming you back soon.\\n\\nYours Sincerely, \\nGeneral Manager', 'title_translated': '', 'average_score': 3.59999990463257, 'is_trivial': 0, 'reviewer_photos': [], 'pros_translated': '', 'cons_translated': '', 'date': '2023-06-09 13:25:15', 'stayed_room_info': {'room_id': 167616101, 'checkout': '2023-06-05', 'checkin': '2023-06-03', 'photo': {'url_640x200': 'https://cf.bstatic.com/images/hotel/640x200/702/70292338.jpg', 'url_original': 'https://cf.bstatic.com/images/hotel/max500/702/70292338.jpg', 'url_max300': 'https://cf.bstatic.com/images/hotel/max300/702/70292338.jpg', 'photo_id': 70292338, 'ratio': 1.50075037518759, 'url_square60': 'https://cf.bstatic.com/images/hotel/square60/702/70292338.jpg'}, 'room_name': 'Double or Twin Room', 'num_nights': 2}, 'tags': [], 'is_incentivised': 0, 'author': {'countrycode': 'gb', 'name': 'Ian', 'city': '', 'user_id': 149936726, 'nr_reviews': 0, 'age_group': '', 'type_string': 'Solo traveller', 'helpful_vote_count': 1, 'type': 'solo_traveller'}, 'is_moderated': 0, 'languagecode': 'en-gb', 'hotel_id': 1676161, 'title': 'City centre hotel with great facilities and excellent service', 'reviewng': 1, 'anonymous': '', 'cons': \"The price did seem a bit high, but I don't know how it compares. However the service was excellent so justified the price.\", 'pros': 'The location is excellent, just off the main square.\\r\\nThe staff were brilliant. Check-in / out was very efficient. On my arrival they realised I had mistakenly booked for 2 people which meant I was paying more than necessary. They then altered the booking to get me the correct rate.\\r\\nThey arranged a breakfast bag for the day I was leaving because I had an early start.', 'user_new_badges': [], 'review_id': 4625184391, 'countrycode': 'gb', 'review_hash': 'a7867eed7319fd54', 'helpful_vote_count': 1, 'travel_purpose': 'business'}, {'helpful_vote_count': 2, 'travel_purpose': 'leisure', 'pros': 'central location , clean room , comfortable bed , excellent staff,good breakfast.', 'user_new_badges': [], 'cons': 'recommend in house coffee shop in the lobby .', 'review_hash': 'b17e1091ad10600f', 'review_id': 3279546807, 'countrycode': 'sg', 'reviewng': 1, 'anonymous': '', 'languagecode': 'en-gb', 'title': 'excellent and comfortable bed with good breakfast.', 'hotel_id': 1676161, 'tags': [], 'stayed_room_info': {'room_id': 167616101, 'checkout': '2023-05-29', 'checkin': '2023-05-26', 'photo': {'url_original': 'https://cf.bstatic.com/images/hotel/max500/702/70292338.jpg', 'url_max300': 'https://cf.bstatic.com/images/hotel/max300/702/70292338.jpg', 'photo_id': 70292338, 'url_640x200': 'https://cf.bstatic.com/images/hotel/640x200/702/70292338.jpg', 'ratio': 1.50075037518759, 'url_square60': 'https://cf.bstatic.com/images/hotel/square60/702/70292338.jpg'}, 'room_name': 'Double or Twin Room', 'num_nights': 3}, 'date': '2023-06-01 11:04:01', 'is_moderated': 0, 'author': {'age_group': '', 'type_string': 'Solo traveller', 'helpful_vote_count': 2, 'type': 'solo_traveller', 'nr_reviews': 0, 'city': '', 'user_id': 688418995, 'countrycode': 'sg', 'name': 'Amit'}, 'is_incentivised': 0, 'title_translated': '', 'is_trivial': 0, 'average_score': 3.20000004768372, 'cons_translated': '', 'reviewer_photos': [], 'pros_translated': '', 'hotelier_name': 'Maritim Hotel Plaza Tirana', 'hotelier_response': 'Dear Amit, \\nThank you for leaving a review. We’re so glad you were able to visit us at Maritim Hotel Plaza. Our team \\nis always working to offer the best service to our guests. We hope you’ll have a chance to come back soon.\\nYours Sincerely, \\nGeneral Manager', 'hotelier_response_date': 1685690417}, {'date': '2023-04-20 14:29:06', 'tags': [], 'stayed_room_info': {'photo': {'url_max300': 'https://cf.bstatic.com/images/hotel/max300/702/70292338.jpg', 'url_original': 'https://cf.bstatic.com/images/hotel/max500/702/70292338.jpg', 'photo_id': 70292338, 'url_640x200': 'https://cf.bstatic.com/images/hotel/640x200/702/70292338.jpg', 'url_square60': 'https://cf.bstatic.com/images/hotel/square60/702/70292338.jpg', 'ratio': 1.50075037518759}, 'checkin': '2023-04-07', 'checkout': '2023-04-08', 'room_id': 167616101, 'num_nights': 1, 'room_name': 'Double or Twin Room'}, 'is_incentivised': 0, 'author': {'nr_reviews': 0, 'helpful_vote_count': 0, 'type_string': 'Solo traveller', 'age_group': '', 'type': 'solo_traveller', 'countrycode': 'gb', 'avatar': 'https://lh3.googleusercontent.com/a/AItbvmmEAZdnZErNlVO8Uw_m8eu7RMx-Rr-Ocl2MZJOF=s96-c64', 'name': 'Armir', 'city': '', 'user_id': 143024060}, 'is_moderated': 0, 'average_score': 4.0, 'is_trivial': 0, 'title_translated': '', 'pros_translated': '', 'reviewer_photos': [], 'cons_translated': '', 'hotelier_name': 'Maritim Hotel Plaza Tirana', 'hotelier_response': 'Dear Armir, thank you for taking a moment to share your experience at Maritim Hotel Plaza Tirana. We look forward to welcoming you back again soon. Yours sincerely, General Manager\\n', 'hotelier_response_date': 1681997120, 'helpful_vote_count': 0, 'travel_purpose': 'leisure', 'cons': '', 'user_new_badges': [], 'pros': 'great', 'countrycode': 'gb', 'review_id': 3562096512, 'review_hash': 'd4cb14c9d7fd2828', 'reviewng': 1, 'anonymous': '', 'languagecode': 'en-gb', 'hotel_id': 1676161, 'title': 'Exceptional'}, {'anonymous': '', 'reviewng': 1, 'title': 'A totally satisfying experience!', 'hotel_id': 1676161, 'languagecode': 'en-gb', 'travel_purpose': 'business', 'helpful_vote_count': 1, 'review_hash': '22725b511df59415', 'countrycode': 'gr', 'review_id': 2972354351, 'user_new_badges': [], 'pros': 'The room and all the amenities were excellent. I specifically enjoyed the breakfast buffet, that was amazingly balanced between sour and sweet tastes. \\n\\nThe staff was really helpful with anything that we needed.', 'cons': 'I literally do not have to report a negative thing during my stay.', 'hotelier_response': 'Dear Mr. Kostantinos, thank you for sharing a review of your recent experience. Our team here at Maritim Plaza is committed to providing high-quality customer service, and we’re thrilled to hear that we made a good impression on you. We hope you’ll visit us again soon.\\nYours sincerely, \\nGeneral Manager\\n', 'hotelier_name': 'Maritim Hotel Plaza Tirana', 'hotelier_response_date': 1680851776, 'is_moderated': 0, 'author': {'nr_reviews': 0, 'type_string': 'Solo traveller', 'age_group': '', 'helpful_vote_count': 1, 'type': 'solo_traveller', 'avatar': 'https://lh3.googleusercontent.com/-oxwlwtpHDcM/AAAAAAAAAAI/AAAAAAAACsM/daD3bG4EqGA/photo.jpg?sz=5064', 'countrycode': 'gr', 'name': 'Vk', 'user_id': 86327485, 'city': ''}, 'is_incentivised': 0, 'stayed_room_info': {'num_nights': 3, 'room_name': 'Double or Twin Room', 'photo': {'ratio': 1.50075037518759, 'url_square60': 'https://cf.bstatic.com/images/hotel/square60/702/70292338.jpg', 'url_640x200': 'https://cf.bstatic.com/images/hotel/640x200/702/70292338.jpg', 'url_original': 'https://cf.bstatic.com/images/hotel/max500/702/70292338.jpg', 'url_max300': 'https://cf.bstatic.com/images/hotel/max300/702/70292338.jpg', 'photo_id': 70292338}, 'checkin': '2023-04-03', 'checkout': '2023-04-06', 'room_id': 167616101}, 'tags': [], 'date': '2023-04-07 07:34:03', 'cons_translated': '', 'pros_translated': '', 'reviewer_photos': [{'max1280x900': 'https://cf.bstatic.com/xdata/images/xphoto/max1280x900/217014883.jpg?k=103ffe9a80e99ed8adf08dd26791c2865d2eb00fd4dffa5d7a2a723d65b59303&o=', 'square60_ao': 'https://cf.bstatic.com/xdata/images/xphoto/square60_ao/217014883.jpg?k=103ffe9a80e99ed8adf08dd26791c2865d2eb00fd4dffa5d7a2a723d65b59303&o=', 'square90': 'https://cf.bstatic.com/xdata/images/xphoto/square90/217014883.jpg?k=103ffe9a80e99ed8adf08dd26791c2865d2eb00fd4dffa5d7a2a723d65b59303&o=', 'max500_ao': 'https://cf.bstatic.com/xdata/images/xphoto/max500_ao/217014883.jpg?k=103ffe9a80e99ed8adf08dd26791c2865d2eb00fd4dffa5d7a2a723d65b59303&o='}, {'max500_ao': 'https://cf.bstatic.com/xdata/images/xphoto/max500_ao/217014904.jpg?k=86e712a597049f8fc1c1c1bc70f0ce9285d84cbfc10c16821448fef1735c2552&o=', 'square90': 'https://cf.bstatic.com/xdata/images/xphoto/square90/217014904.jpg?k=86e712a597049f8fc1c1c1bc70f0ce9285d84cbfc10c16821448fef1735c2552&o=', 'max1280x900': 'https://cf.bstatic.com/xdata/images/xphoto/max1280x900/217014904.jpg?k=86e712a597049f8fc1c1c1bc70f0ce9285d84cbfc10c16821448fef1735c2552&o=', 'square60_ao': 'https://cf.bstatic.com/xdata/images/xphoto/square60_ao/217014904.jpg?k=86e712a597049f8fc1c1c1bc70f0ce9285d84cbfc10c16821448fef1735c2552&o='}, {'square60_ao': 'https://cf.bstatic.com/xdata/images/xphoto/square60_ao/217014933.jpg?k=ed062e02db8c91b845f1149c9f992ccf45808040ff428454fe04dd539e645a2e&o=', 'max1280x900': 'https://cf.bstatic.com/xdata/images/xphoto/max1280x900/217014933.jpg?k=ed062e02db8c91b845f1149c9f992ccf45808040ff428454fe04dd539e645a2e&o=', 'square90': 'https://cf.bstatic.com/xdata/images/xphoto/square90/217014933.jpg?k=ed062e02db8c91b845f1149c9f992ccf45808040ff428454fe04dd539e645a2e&o=', 'max500_ao': 'https://cf.bstatic.com/xdata/images/xphoto/max500_ao/217014933.jpg?k=ed062e02db8c91b845f1149c9f992ccf45808040ff428454fe04dd539e645a2e&o='}, {'square90': 'https://cf.bstatic.com/xdata/images/xphoto/square90/217014956.jpg?k=9ffc4db01800c43994f538417a2d19e2733e600661b65979d4464f5809954bf3&o=', 'square60_ao': 'https://cf.bstatic.com/xdata/images/xphoto/square60_ao/217014956.jpg?k=9ffc4db01800c43994f538417a2d19e2733e600661b65979d4464f5809954bf3&o=', 'max1280x900': 'https://cf.bstatic.com/xdata/images/xphoto/max1280x900/217014956.jpg?k=9ffc4db01800c43994f538417a2d19e2733e600661b65979d4464f5809954bf3&o=', 'max500_ao': 'https://cf.bstatic.com/xdata/images/xphoto/max500_ao/217014956.jpg?k=9ffc4db01800c43994f538417a2d19e2733e600661b65979d4464f5809954bf3&o='}], 'is_trivial': 0, 'average_score': 4.0, 'title_translated': ''}, {'review_hash': 'bfea3a7dc9510f1a', 'countrycode': 'om', 'review_id': 4616625321, 'user_new_badges': [], 'pros': 'best hotel in town \\r\\nlocation is excellent.\\r\\nstuff is perfect.', 'cons': 'nothing', 'travel_purpose': 'leisure', 'helpful_vote_count': 0, 'title': 'Very good', 'hotel_id': 1676161, 'languagecode': 'en-gb', 'anonymous': '', 'reviewng': 1, 'cons_translated': '', 'pros_translated': '', 'reviewer_photos': [], 'is_trivial': 0, 'average_score': 3.20000004768372, 'title_translated': '', 'is_moderated': 0, 'author': {'nr_reviews': 0, 'type': 'review_category_group_of_friends', 'type_string': 'Group of friends', 'age_group': '', 'helpful_vote_count': 0, 'name': 'Moosa', 'countrycode': 'om', 'avatar': 'https://lh3.googleusercontent.com/-2vFvo5lFFQQ/AAAAAAAAAAI/AAAAAAAAAAA/ACHi3reCdHjSCI2meweTC5YyG6VIa3ZrIQ/photo.jpg64', 'city': '', 'user_id': 333531942}, 'is_incentivised': 0, 'tags': [], 'stayed_room_info': {'room_id': 167616101, 'checkout': '2023-02-05', 'checkin': '2023-02-04', 'photo': {'url_square60': 'https://cf.bstatic.com/images/hotel/square60/702/70292338.jpg', 'ratio': 1.50075037518759, 'url_640x200': 'https://cf.bstatic.com/images/hotel/640x200/702/70292338.jpg', 'url_max300': 'https://cf.bstatic.com/images/hotel/max300/702/70292338.jpg', 'photo_id': 70292338, 'url_original': 'https://cf.bstatic.com/images/hotel/max500/702/70292338.jpg'}, 'room_name': 'Double or Twin Room', 'num_nights': 1}, 'date': '2023-03-19 08:50:40', 'hotelier_response_date': 1679387535, 'hotelier_response': 'Dear Moosa,\\nThank you for your review, we greatly appreciate the time you have taken to provide us this valuable feedback. Yours Sincerely, General Manager', 'hotelier_name': 'Maritim Hotel Plaza Tirana'}, {'helpful_vote_count': 1, 'travel_purpose': 'leisure', 'user_new_badges': [], 'pros': 'Very welcome and delicious food,the best food so far lots of selection. Amazing stuff and friendly whit perfect English. X', 'cons': 'No decaf coffee in my room.', 'review_hash': 'fe0c3c68f922928e', 'countrycode': 'gb', 'review_id': 4615985485, 'reviewng': 1, 'anonymous': '', 'languagecode': 'en-gb', 'title': 'Exceptional', 'hotel_id': 1676161, 'tags': [], 'stayed_room_info': {'room_id': 167616101, 'checkout': '2023-03-07', 'checkin': '2023-03-04', 'photo': {'url_max300': 'https://cf.bstatic.com/images/hotel/max300/702/70292338.jpg', 'url_original': 'https://cf.bstatic.com/images/hotel/max500/702/70292338.jpg', 'photo_id': 70292338, 'url_640x200': 'https://cf.bstatic.com/images/hotel/640x200/702/70292338.jpg', 'url_square60': 'https://cf.bstatic.com/images/hotel/square60/702/70292338.jpg', 'ratio': 1.50075037518759}, 'room_name': 'Double or Twin Room', 'num_nights': 3}, 'date': '2023-03-11 15:12:03', 'is_moderated': 0, 'is_incentivised': 0, 'author': {'type_string': 'Group of friends', 'helpful_vote_count': 1, 'age_group': '', 'type': 'review_category_group_of_friends', 'nr_reviews': 0, 'city': '', 'user_id': 0, 'countrycode': 'gb', 'name': 'Amalia'}, 'is_trivial': 0, 'average_score': 4.0, 'title_translated': '', 'cons_translated': '', 'pros_translated': '', 'reviewer_photos': [], 'hotelier_name': 'Maritim Hotel Plaza Tirana', 'hotelier_response': 'Dear Amalia,\\nThank you for your review, we greatly appreciate the time you have taken to provide us this valuable feedback. Come back and see us soon.\\nYours sincerely, \\nGeneral Manager\\n\\n', 'hotelier_response_date': 1678696870}, {'hotelier_response_date': 1678103895, 'hotelier_response': 'Dear Zoya,\\nThank you for your review, we greatly appreciate the time you have taken to provide us this valuable feedback.\\nYours Sincerely, General Manager', 'hotelier_name': 'Maritim Hotel Plaza Tirana', 'reviewer_photos': [], 'pros_translated': '', 'cons_translated': '', 'title_translated': '', 'is_trivial': 0, 'average_score': 4.0, 'is_incentivised': 0, 'author': {'city': '', 'user_id': 65256791, 'name': 'Zoya', 'countrycode': 'nl', 'avatar': 'https://graph.facebook.com/v2.9/1255238606/picture?type=square&height=64&width=64', 'type': 'solo_traveller', 'type_string': 'Solo traveller', 'age_group': '', 'helpful_vote_count': 2, 'nr_reviews': 0}, 'is_moderated': 0, 'date': '2023-03-05 12:37:55', 'stayed_room_info': {'num_nights': 2, 'room_name': 'Double or Twin Room', 'checkin': '2023-02-27', 'photo': {'url_640x200': 'https://cf.bstatic.com/images/hotel/640x200/702/70292338.jpg', 'url_max300': 'https://cf.bstatic.com/images/hotel/max300/702/70292338.jpg', 'photo_id': 70292338, 'url_original': 'https://cf.bstatic.com/images/hotel/max500/702/70292338.jpg', 'ratio': 1.50075037518759, 'url_square60': 'https://cf.bstatic.com/images/hotel/square60/702/70292338.jpg'}, 'room_id': 167616101, 'checkout': '2023-03-01'}, 'tags': [], 'hotel_id': 1676161, 'title': 'Recommend it!', 'languagecode': 'en-gb', 'anonymous': '', 'reviewng': 1, 'review_id': 2608805554, 'countrycode': 'nl', 'review_hash': 'f855be7844715277', 'cons': 'no comment', 'pros': 'very clean, well located and friendly staff', 'user_new_badges': [], 'travel_purpose': 'business', 'helpful_vote_count': 2}, {'hotelier_response_date': 1677591674, 'hotelier_response': 'Dear Patrick,\\nThank you for your review, we greatly appreciate the time you have taken to provide us this valuable feedback. Yours Sincerely, General Manager', 'hotelier_name': 'Maritim Hotel Plaza Tirana', 'cons_translated': '', 'reviewer_photos': [], 'pros_translated': '', 'title_translated': '', 'is_trivial': 0, 'average_score': 3.59999990463257, 'is_moderated': 0, 'author': {'user_id': 93878333, 'city': '', 'name': 'Patrick', 'countrycode': 'za', 'type': 'solo_traveller', 'helpful_vote_count': 0, 'type_string': 'Solo traveller', 'age_group': '', 'nr_reviews': 0}, 'is_incentivised': 0, 'tags': [], 'stayed_room_info': {'num_nights': 3, 'room_name': 'Deluxe Double Room with City View', 'photo': {'url_square60': 'https://cf.bstatic.com/images/hotel/square60/702/70292426.jpg', 'ratio': 1.5, 'url_original': 'https://cf.bstatic.com/images/hotel/max500/702/70292426.jpg', 'url_max300': 'https://cf.bstatic.com/images/hotel/max300/702/70292426.jpg', 'photo_id': 70292426, 'url_640x200': 'https://cf.bstatic.com/images/hotel/640x200/702/70292426.jpg'}, 'checkin': '2023-02-21', 'checkout': '2023-02-24', 'room_id': 167616103}, 'date': '2023-02-28 14:12:27', 'title': 'Fabulous', 'hotel_id': 1676161, 'languagecode': 'en-gb', 'anonymous': '', 'reviewng': 1, 'review_hash': 'f39246082cc36ed8', 'review_id': 4615093353, 'countrycode': 'za', 'pros': 'Friendly and attentive staff; huge, comfortable room and bathroom, great view.', 'user_new_badges': [], 'cons': 'nothing.', 'travel_purpose': 'business', 'helpful_vote_count': 0}, {'helpful_vote_count': 2, 'travel_purpose': 'leisure', 'user_new_badges': [], 'pros': 'Fantastic', 'cons': '', 'review_hash': 'a91afa7610d71874', 'countrycode': 'gb', 'review_id': 4614159911, 'reviewng': 1, 'anonymous': '', 'languagecode': 'en-gb', 'title': 'Albania is getting better and better', 'hotel_id': 1676161, 'tags': [], 'stayed_room_info': {'num_nights': 2, 'room_name': 'Double or Twin Room', 'checkin': '2023-01-20', 'photo': {'url_square60': 'https://cf.bstatic.com/images/hotel/square60/702/70292338.jpg', 'ratio': 1.50075037518759, 'url_640x200': 'https://cf.bstatic.com/images/hotel/640x200/702/70292338.jpg', 'url_max300': 'https://cf.bstatic.com/images/hotel/max300/702/70292338.jpg', 'url_original': 'https://cf.bstatic.com/images/hotel/max500/702/70292338.jpg', 'photo_id': 70292338}, 'room_id': 167616101, 'checkout': '2023-01-22'}, 'date': '2023-02-18 19:59:59', 'is_moderated': 0, 'author': {'name': 'Lefter', 'countrycode': 'gb', 'avatar': 'https://lh3.googleusercontent.com/a/AEdFTp53ba5aQ5J3rTDHk-5AeUPFrlst711t4ctEmC_J=s96-c64', 'city': '', 'user_id': 369752972, 'nr_reviews': 0, 'type': 'solo_traveller', 'type_string': 'Solo traveller', 'age_group': '', 'helpful_vote_count': 2}, 'is_incentivised': 0, 'is_trivial': 0, 'average_score': 4.0, 'title_translated': '', 'cons_translated': '', 'pros_translated': '', 'reviewer_photos': [], 'hotelier_name': 'Maritim Hotel Plaza Tirana', 'hotelier_response': 'Dear Lefter, \\nThank you for your time to write this review. Yours Sincerely, General Manager', 'hotelier_response_date': 1677577577}], 'sort_options': [], 'count': 25}\n"
     ]
    }
   ],
   "source": [
    "url = \"https://booking-com.p.rapidapi.com/v1/hotels/reviews\"\n",
    "\n",
    "querystring = {\"sort_type\":\"SORT_MOST_RELEVANT\",\"hotel_id\":\"1676161\",\"locale\":\"en-gb\",\"language_filter\":\"en-gb,de,fr\",\"customer_type\":\"solo_traveller,review_category_group_of_friends\"}\n",
    "\n",
    "headers = {\n",
    "\t\"X-RapidAPI-Key\": \"2850e10abcmshfd4aefea12432e5p1d19d4jsn6b8952a03dac\",\n",
    "\t\"X-RapidAPI-Host\": \"booking-com.p.rapidapi.com\"\n",
    "}\n",
    "\n",
    "response = requests.get(url, headers=headers, params=querystring)\n",
    "\n",
    "\n",
    "booking = response.json()\n",
    "print(booking)"
   ]
  },
  {
   "cell_type": "markdown",
   "id": "e33d0fa5-3876-41ea-9eaa-4a625b088d5a",
   "metadata": {},
   "source": [
    "**Considering `pros` and `cons` as the hotel reviews. `pros` and `cons` belong to the pair with `result` as its key \n",
    "Here we worked on extracting `pros` and `cons` and append them on reviews list**"
   ]
  },
  {
   "cell_type": "code",
   "execution_count": 120,
   "id": "b21534bc-96df-4bbe-9af7-c817020c6e11",
   "metadata": {},
   "outputs": [],
   "source": [
    "#create empty list\n",
    "review = []\n",
    "#loop through every index in the list of pairs under the key `result`\n",
    "for i in range(len(booking)):\n",
    "    #append the pros and the cons of every result in the reviews list\n",
    "    review.append(booking['result'][i]['pros'])\n",
    "    review.append(booking['result'][i]['cons'])"
   ]
  },
  {
   "cell_type": "markdown",
   "id": "328010fb-e878-4414-85df-2c51df9f559d",
   "metadata": {},
   "source": [
    "**Create a dataframe called `df_booking` to hold the reviews list.**"
   ]
  },
  {
   "cell_type": "code",
   "execution_count": 121,
   "id": "66a5c5b9-052e-464b-9420-9729e501a4c6",
   "metadata": {},
   "outputs": [
    {
     "data": {
      "text/html": [
       "<div>\n",
       "<style scoped>\n",
       "    .dataframe tbody tr th:only-of-type {\n",
       "        vertical-align: middle;\n",
       "    }\n",
       "\n",
       "    .dataframe tbody tr th {\n",
       "        vertical-align: top;\n",
       "    }\n",
       "\n",
       "    .dataframe thead th {\n",
       "        text-align: right;\n",
       "    }\n",
       "</style>\n",
       "<table border=\"1\" class=\"dataframe\">\n",
       "  <thead>\n",
       "    <tr style=\"text-align: right;\">\n",
       "      <th></th>\n",
       "      <th>0</th>\n",
       "    </tr>\n",
       "  </thead>\n",
       "  <tbody>\n",
       "    <tr>\n",
       "      <th>0</th>\n",
       "      <td>The hotel was remarkable. Its location was gre...</td>\n",
       "    </tr>\n",
       "    <tr>\n",
       "      <th>1</th>\n",
       "      <td></td>\n",
       "    </tr>\n",
       "    <tr>\n",
       "      <th>2</th>\n",
       "      <td>1) Great Location \\n2) Spacious  Rooms\\n3) Bre...</td>\n",
       "    </tr>\n",
       "    <tr>\n",
       "      <th>3</th>\n",
       "      <td>1) Toaster during breakfast was broken during ...</td>\n",
       "    </tr>\n",
       "    <tr>\n",
       "      <th>4</th>\n",
       "      <td>Super service friendly staff, rich breakfast, ...</td>\n",
       "    </tr>\n",
       "    <tr>\n",
       "      <th>5</th>\n",
       "      <td>Nothing.</td>\n",
       "    </tr>\n",
       "  </tbody>\n",
       "</table>\n",
       "</div>"
      ],
      "text/plain": [
       "                                                   0\n",
       "0  The hotel was remarkable. Its location was gre...\n",
       "1                                                   \n",
       "2  1) Great Location \\n2) Spacious  Rooms\\n3) Bre...\n",
       "3  1) Toaster during breakfast was broken during ...\n",
       "4  Super service friendly staff, rich breakfast, ...\n",
       "5                                           Nothing."
      ]
     },
     "execution_count": 121,
     "metadata": {},
     "output_type": "execute_result"
    }
   ],
   "source": [
    "df_booking = pd.DataFrame(review)\n",
    "df_booking"
   ]
  },
  {
   "cell_type": "markdown",
   "id": "a2fbc01d-0908-49b9-8efd-0b405aa0b121",
   "metadata": {},
   "source": [
    "**Column label needs to be changed to `Reviews`**"
   ]
  },
  {
   "cell_type": "code",
   "execution_count": 122,
   "id": "d4fa4b5f-ec42-4a35-84ed-6e6fc0c6b1fa",
   "metadata": {},
   "outputs": [],
   "source": [
    "#rename column `0`\n",
    "df_booking = df_booking.rename(columns={0 : 'Reviews'})"
   ]
  },
  {
   "cell_type": "markdown",
   "id": "8986d14e-dc48-488d-a884-05624d0e3045",
   "metadata": {},
   "source": [
    "**Add a new column to the `df_booking` dataframe to hold the labels of the review's sentiment.**"
   ]
  },
  {
   "cell_type": "code",
   "execution_count": 123,
   "id": "cccd0493-a8e5-444e-91ee-4715af2d358a",
   "metadata": {},
   "outputs": [],
   "source": [
    "df_booking['Label'] = None"
   ]
  },
  {
   "cell_type": "code",
   "execution_count": 124,
   "id": "535b3ba7-b091-480a-adab-d1e56e5acd4f",
   "metadata": {},
   "outputs": [
    {
     "data": {
      "text/html": [
       "<div>\n",
       "<style scoped>\n",
       "    .dataframe tbody tr th:only-of-type {\n",
       "        vertical-align: middle;\n",
       "    }\n",
       "\n",
       "    .dataframe tbody tr th {\n",
       "        vertical-align: top;\n",
       "    }\n",
       "\n",
       "    .dataframe thead th {\n",
       "        text-align: right;\n",
       "    }\n",
       "</style>\n",
       "<table border=\"1\" class=\"dataframe\">\n",
       "  <thead>\n",
       "    <tr style=\"text-align: right;\">\n",
       "      <th></th>\n",
       "      <th>Reviews</th>\n",
       "      <th>Label</th>\n",
       "    </tr>\n",
       "  </thead>\n",
       "  <tbody>\n",
       "    <tr>\n",
       "      <th>0</th>\n",
       "      <td>The hotel was remarkable. Its location was gre...</td>\n",
       "      <td>None</td>\n",
       "    </tr>\n",
       "    <tr>\n",
       "      <th>1</th>\n",
       "      <td></td>\n",
       "      <td>None</td>\n",
       "    </tr>\n",
       "    <tr>\n",
       "      <th>2</th>\n",
       "      <td>1) Great Location \\n2) Spacious  Rooms\\n3) Bre...</td>\n",
       "      <td>None</td>\n",
       "    </tr>\n",
       "    <tr>\n",
       "      <th>3</th>\n",
       "      <td>1) Toaster during breakfast was broken during ...</td>\n",
       "      <td>None</td>\n",
       "    </tr>\n",
       "    <tr>\n",
       "      <th>4</th>\n",
       "      <td>Super service friendly staff, rich breakfast, ...</td>\n",
       "      <td>None</td>\n",
       "    </tr>\n",
       "    <tr>\n",
       "      <th>5</th>\n",
       "      <td>Nothing.</td>\n",
       "      <td>None</td>\n",
       "    </tr>\n",
       "  </tbody>\n",
       "</table>\n",
       "</div>"
      ],
      "text/plain": [
       "                                             Reviews Label\n",
       "0  The hotel was remarkable. Its location was gre...  None\n",
       "1                                                     None\n",
       "2  1) Great Location \\n2) Spacious  Rooms\\n3) Bre...  None\n",
       "3  1) Toaster during breakfast was broken during ...  None\n",
       "4  Super service friendly staff, rich breakfast, ...  None\n",
       "5                                           Nothing.  None"
      ]
     },
     "execution_count": 124,
     "metadata": {},
     "output_type": "execute_result"
    }
   ],
   "source": [
    "df_booking"
   ]
  },
  {
   "cell_type": "markdown",
   "id": "e98b9a8b-090b-4b63-b201-d78b72460b4b",
   "metadata": {},
   "source": [
    "**The dataframe contains empty reviews that we need to get rid of**"
   ]
  },
  {
   "cell_type": "code",
   "execution_count": 125,
   "id": "35041f3d-199f-4537-972c-328e10e5c2db",
   "metadata": {},
   "outputs": [
    {
     "data": {
      "text/html": [
       "<div>\n",
       "<style scoped>\n",
       "    .dataframe tbody tr th:only-of-type {\n",
       "        vertical-align: middle;\n",
       "    }\n",
       "\n",
       "    .dataframe tbody tr th {\n",
       "        vertical-align: top;\n",
       "    }\n",
       "\n",
       "    .dataframe thead th {\n",
       "        text-align: right;\n",
       "    }\n",
       "</style>\n",
       "<table border=\"1\" class=\"dataframe\">\n",
       "  <thead>\n",
       "    <tr style=\"text-align: right;\">\n",
       "      <th></th>\n",
       "      <th>Reviews</th>\n",
       "      <th>Label</th>\n",
       "    </tr>\n",
       "  </thead>\n",
       "  <tbody>\n",
       "    <tr>\n",
       "      <th>0</th>\n",
       "      <td>The hotel was remarkable. Its location was gre...</td>\n",
       "      <td>None</td>\n",
       "    </tr>\n",
       "    <tr>\n",
       "      <th>1</th>\n",
       "      <td>1) Great Location \\n2) Spacious  Rooms\\n3) Bre...</td>\n",
       "      <td>None</td>\n",
       "    </tr>\n",
       "    <tr>\n",
       "      <th>2</th>\n",
       "      <td>1) Toaster during breakfast was broken during ...</td>\n",
       "      <td>None</td>\n",
       "    </tr>\n",
       "    <tr>\n",
       "      <th>3</th>\n",
       "      <td>Super service friendly staff, rich breakfast, ...</td>\n",
       "      <td>None</td>\n",
       "    </tr>\n",
       "    <tr>\n",
       "      <th>4</th>\n",
       "      <td>Nothing.</td>\n",
       "      <td>None</td>\n",
       "    </tr>\n",
       "  </tbody>\n",
       "</table>\n",
       "</div>"
      ],
      "text/plain": [
       "                                             Reviews Label\n",
       "0  The hotel was remarkable. Its location was gre...  None\n",
       "1  1) Great Location \\n2) Spacious  Rooms\\n3) Bre...  None\n",
       "2  1) Toaster during breakfast was broken during ...  None\n",
       "3  Super service friendly staff, rich breakfast, ...  None\n",
       "4                                           Nothing.  None"
      ]
     },
     "execution_count": 125,
     "metadata": {},
     "output_type": "execute_result"
    }
   ],
   "source": [
    "#keep the rows with non-empty reviews (after stripping it if its still empty drop it)\n",
    "df_booking = df_booking[df_booking['Reviews'].str.strip() != \"\"]\n",
    "#reorder the index\n",
    "df_booking = df_booking.reset_index(drop=True)\n",
    "df_booking"
   ]
  },
  {
   "cell_type": "markdown",
   "id": "4ea00079-55f6-41a4-be8f-e1aeba4893d3",
   "metadata": {},
   "source": [
    "**The second review has escape characters and numbers that needs to be cleaned.**"
   ]
  },
  {
   "cell_type": "code",
   "execution_count": 126,
   "id": "f99953b0-d9b1-46b1-b8e6-850b7fab2886",
   "metadata": {},
   "outputs": [
    {
     "name": "stdout",
     "output_type": "stream",
     "text": [
      "                                             Reviews Label\n",
      "0  The hotel was remarkable. Its location was gre...  None\n",
      "1   Great Location . Spacious  Rooms. Breakfast ....  None\n",
      "2   Toaster during breakfast was broken during ou...  None\n",
      "3  Super service friendly staff, rich breakfast, ...  None\n",
      "4                                           Nothing.  None\n"
     ]
    },
    {
     "name": "stderr",
     "output_type": "stream",
     "text": [
      "/var/folders/g0/mmfhfgtj0hg5j2sjq28n4rvc0000gn/T/ipykernel_14754/2148255694.py:4: FutureWarning: The default value of regex will change from True to False in a future version.\n",
      "  df_booking['Reviews'] = df_booking['Reviews'].str.replace(r'\\d+\\)', '')\n"
     ]
    }
   ],
   "source": [
    "#replace every escape character with dot\n",
    "df_booking['Reviews'] = df_booking['Reviews'].str.replace('\\n', '.')\n",
    "#replace every digit followed by `\\` with nothing using regex\n",
    "df_booking['Reviews'] = df_booking['Reviews'].str.replace(r'\\d+\\)', '')\n",
    "\n",
    "print(df_booking) "
   ]
  },
  {
   "cell_type": "code",
   "execution_count": 127,
   "id": "6f50c09e-9a86-4ac8-97bc-eac253480136",
   "metadata": {},
   "outputs": [
    {
     "data": {
      "text/html": [
       "<div>\n",
       "<style scoped>\n",
       "    .dataframe tbody tr th:only-of-type {\n",
       "        vertical-align: middle;\n",
       "    }\n",
       "\n",
       "    .dataframe tbody tr th {\n",
       "        vertical-align: top;\n",
       "    }\n",
       "\n",
       "    .dataframe thead th {\n",
       "        text-align: right;\n",
       "    }\n",
       "</style>\n",
       "<table border=\"1\" class=\"dataframe\">\n",
       "  <thead>\n",
       "    <tr style=\"text-align: right;\">\n",
       "      <th></th>\n",
       "      <th>Reviews</th>\n",
       "      <th>Label</th>\n",
       "    </tr>\n",
       "  </thead>\n",
       "  <tbody>\n",
       "    <tr>\n",
       "      <th>0</th>\n",
       "      <td>The hotel was remarkable. Its location was gre...</td>\n",
       "      <td>None</td>\n",
       "    </tr>\n",
       "    <tr>\n",
       "      <th>1</th>\n",
       "      <td>Great Location . Spacious  Rooms. Breakfast ....</td>\n",
       "      <td>None</td>\n",
       "    </tr>\n",
       "    <tr>\n",
       "      <th>2</th>\n",
       "      <td>Toaster during breakfast was broken during ou...</td>\n",
       "      <td>None</td>\n",
       "    </tr>\n",
       "    <tr>\n",
       "      <th>3</th>\n",
       "      <td>Super service friendly staff, rich breakfast, ...</td>\n",
       "      <td>None</td>\n",
       "    </tr>\n",
       "    <tr>\n",
       "      <th>4</th>\n",
       "      <td>Nothing.</td>\n",
       "      <td>None</td>\n",
       "    </tr>\n",
       "  </tbody>\n",
       "</table>\n",
       "</div>"
      ],
      "text/plain": [
       "                                             Reviews Label\n",
       "0  The hotel was remarkable. Its location was gre...  None\n",
       "1   Great Location . Spacious  Rooms. Breakfast ....  None\n",
       "2   Toaster during breakfast was broken during ou...  None\n",
       "3  Super service friendly staff, rich breakfast, ...  None\n",
       "4                                           Nothing.  None"
      ]
     },
     "execution_count": 127,
     "metadata": {},
     "output_type": "execute_result"
    }
   ],
   "source": [
    "df_booking"
   ]
  },
  {
   "cell_type": "markdown",
   "id": "aa9f1380-cd9d-495b-811d-cd678a28a14e",
   "metadata": {},
   "source": [
    "# Sentiment analysis"
   ]
  },
  {
   "cell_type": "markdown",
   "id": "a71e0c18-fd1f-43f1-8097-9c096e8773de",
   "metadata": {},
   "source": [
    ">**TextBlob is a Python library for processing textual data. It provides a simple API for diving into common natural language processing (NLP) tasks such as sentiment analysis**"
   ]
  },
  {
   "cell_type": "markdown",
   "id": "381b9188-bd84-4396-b868-2271a49c3805",
   "metadata": {},
   "source": []
  },
  {
   "cell_type": "code",
   "execution_count": 128,
   "id": "c6dc567a-c87d-4d38-ace7-cd409a456e22",
   "metadata": {
    "collapsed": true,
    "jupyter": {
     "outputs_hidden": true
    },
    "tags": []
   },
   "outputs": [
    {
     "name": "stdout",
     "output_type": "stream",
     "text": [
      "Requirement already satisfied: textblob in /Users/rare/opt/anaconda3/lib/python3.9/site-packages (0.17.1)\n",
      "Requirement already satisfied: nltk>=3.1 in /Users/rare/opt/anaconda3/lib/python3.9/site-packages (from textblob) (3.7)\n",
      "Requirement already satisfied: joblib in /Users/rare/opt/anaconda3/lib/python3.9/site-packages (from nltk>=3.1->textblob) (1.1.0)\n",
      "Requirement already satisfied: click in /Users/rare/opt/anaconda3/lib/python3.9/site-packages (from nltk>=3.1->textblob) (8.0.4)\n",
      "Requirement already satisfied: regex>=2021.8.3 in /Users/rare/opt/anaconda3/lib/python3.9/site-packages (from nltk>=3.1->textblob) (2022.7.9)\n",
      "Requirement already satisfied: tqdm in /Users/rare/opt/anaconda3/lib/python3.9/site-packages (from nltk>=3.1->textblob) (4.64.1)\n"
     ]
    }
   ],
   "source": [
    "!pip install textblob"
   ]
  },
  {
   "cell_type": "code",
   "execution_count": 129,
   "id": "56087357-7323-4446-9204-aa20be70fb29",
   "metadata": {
    "collapsed": true,
    "jupyter": {
     "outputs_hidden": true
    },
    "tags": []
   },
   "outputs": [
    {
     "name": "stdout",
     "output_type": "stream",
     "text": [
      "[nltk_data] Downloading package brown to /Users/rare/nltk_data...\n",
      "[nltk_data]   Package brown is already up-to-date!\n",
      "[nltk_data] Downloading package punkt to /Users/rare/nltk_data...\n",
      "[nltk_data]   Package punkt is already up-to-date!\n",
      "[nltk_data] Downloading package wordnet to /Users/rare/nltk_data...\n",
      "[nltk_data]   Package wordnet is already up-to-date!\n",
      "[nltk_data] Downloading package averaged_perceptron_tagger to\n",
      "[nltk_data]     /Users/rare/nltk_data...\n",
      "[nltk_data]   Package averaged_perceptron_tagger is already up-to-\n",
      "[nltk_data]       date!\n",
      "[nltk_data] Downloading package conll2000 to /Users/rare/nltk_data...\n",
      "[nltk_data]   Package conll2000 is already up-to-date!\n",
      "[nltk_data] Downloading package movie_reviews to\n",
      "[nltk_data]     /Users/rare/nltk_data...\n",
      "[nltk_data]   Package movie_reviews is already up-to-date!\n",
      "Finished.\n"
     ]
    }
   ],
   "source": [
    "!python -m textblob.download_corpora"
   ]
  },
  {
   "cell_type": "markdown",
   "id": "7f9c7fc2-c061-4cea-937c-cb66cd11d3b0",
   "metadata": {},
   "source": [
    "- **create a list to store the sentiment labels of each tweet in the dataframe `df`**\n",
    "- **create `blob` object**\n",
    "- **use the blob object to call the`.sentiment.polarity` function and store the numeric value in the `sentiment_score`**\n",
    "- **used chained conditional statements to decide the labels and append them to the `sentiment_list`**\n",
    "- **add the `sentiment_list` as a column in the `df['label']` already existing column**"
   ]
  },
  {
   "cell_type": "code",
   "execution_count": 130,
   "id": "f931c68f-90ad-4902-a6bb-27a6360b3466",
   "metadata": {},
   "outputs": [
    {
     "data": {
      "text/html": [
       "<div>\n",
       "<style scoped>\n",
       "    .dataframe tbody tr th:only-of-type {\n",
       "        vertical-align: middle;\n",
       "    }\n",
       "\n",
       "    .dataframe tbody tr th {\n",
       "        vertical-align: top;\n",
       "    }\n",
       "\n",
       "    .dataframe thead th {\n",
       "        text-align: right;\n",
       "    }\n",
       "</style>\n",
       "<table border=\"1\" class=\"dataframe\">\n",
       "  <thead>\n",
       "    <tr style=\"text-align: right;\">\n",
       "      <th></th>\n",
       "      <th>Reviews</th>\n",
       "      <th>Label</th>\n",
       "    </tr>\n",
       "  </thead>\n",
       "  <tbody>\n",
       "    <tr>\n",
       "      <th>0</th>\n",
       "      <td>The hotel was remarkable. Its location was gre...</td>\n",
       "      <td>Positive</td>\n",
       "    </tr>\n",
       "    <tr>\n",
       "      <th>1</th>\n",
       "      <td>Great Location . Spacious  Rooms. Breakfast ....</td>\n",
       "      <td>Positive</td>\n",
       "    </tr>\n",
       "    <tr>\n",
       "      <th>2</th>\n",
       "      <td>Toaster during breakfast was broken during ou...</td>\n",
       "      <td>Negative</td>\n",
       "    </tr>\n",
       "    <tr>\n",
       "      <th>3</th>\n",
       "      <td>Super service friendly staff, rich breakfast, ...</td>\n",
       "      <td>Positive</td>\n",
       "    </tr>\n",
       "    <tr>\n",
       "      <th>4</th>\n",
       "      <td>Nothing.</td>\n",
       "      <td>Neutral</td>\n",
       "    </tr>\n",
       "  </tbody>\n",
       "</table>\n",
       "</div>"
      ],
      "text/plain": [
       "                                             Reviews     Label\n",
       "0  The hotel was remarkable. Its location was gre...  Positive\n",
       "1   Great Location . Spacious  Rooms. Breakfast ....  Positive\n",
       "2   Toaster during breakfast was broken during ou...  Negative\n",
       "3  Super service friendly staff, rich breakfast, ...  Positive\n",
       "4                                           Nothing.   Neutral"
      ]
     },
     "execution_count": 130,
     "metadata": {},
     "output_type": "execute_result"
    }
   ],
   "source": [
    "from textblob import TextBlob\n",
    "\n",
    "review_labels = []\n",
    "for review in df_booking['Reviews']:\n",
    "    blob = TextBlob(review)\n",
    "    review_score = blob.sentiment.polarity\n",
    "\n",
    "    if review_score > 0:\n",
    "        review_labels.append(\"Positive\")\n",
    "    elif review_score < 0:\n",
    "        review_labels.append(\"Negative\")\n",
    "    else:\n",
    "        review_labels.append(\"Neutral\")\n",
    "\n",
    "df_booking['Label'] = review_labels\n",
    "\n",
    "df_booking"
   ]
  },
  {
   "cell_type": "markdown",
   "id": "d5dca33e-7e7d-4cd7-a44b-2ebe80db24a8",
   "metadata": {},
   "source": [
    "# **THE END**"
   ]
  }
 ],
 "metadata": {
  "kernelspec": {
   "display_name": "Python 3 (ipykernel)",
   "language": "python",
   "name": "python3"
  },
  "language_info": {
   "codemirror_mode": {
    "name": "ipython",
    "version": 3
   },
   "file_extension": ".py",
   "mimetype": "text/x-python",
   "name": "python",
   "nbconvert_exporter": "python",
   "pygments_lexer": "ipython3",
   "version": "3.9.13"
  }
 },
 "nbformat": 4,
 "nbformat_minor": 5
}
