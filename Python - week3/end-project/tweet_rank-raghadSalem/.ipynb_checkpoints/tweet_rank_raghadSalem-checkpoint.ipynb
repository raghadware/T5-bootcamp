{
 "cells": [
  {
   "cell_type": "markdown",
   "id": "585ecd96-a1a3-47f4-b203-93516c74406a",
   "metadata": {},
   "source": [
    "# Project: Rank Tweets by Kindness\n",
    "\n",
    "**Sentiment Analysis**: Social media can be a great place to connect with others and share positive thoughts and experiences. However, it can also be a breeding ground for negativity and hate speech. This project aims to develop a system to rank tweets by kindness in order to promote more positive and supportive online interactions.\n",
    "\n",
    "**Benefits:**\n",
    "\n",
    "The proposed system has the potential to provide a number of benefits, including:\n",
    "\n",
    "- Promoting more positive and supportive online interactions\n",
    "- Reducing the spread of negativity and hate speech\n",
    "- Helping people to find and connect with others who share their values\n",
    "- Making social media a more enjoyable and welcoming place for everyone\n",
    "\n",
    "**Tasks:**\n",
    "\n",
    "The proposed system will use sentiment analysis to identify and rank tweets based on their level of kindness. This will be done by the following steps:\n",
    "\n",
    "1. Read the `nice_words.txt` file into a list. This file will contain a list of words that are typically associated with kindness, such as \"love,\" \"compassion,\" and \"gratitude.\"\n",
    "1. Read the `tweets.txt` file into a tweets list. This file will contain a collection of tweets to be ranked.\n",
    "1. Look at each of the tweets and count the number of nice words.\n",
    "1. Sort the tweets in descending order based on the number of nice words, with the most kind tweet first.\n",
    "1. Display the tweets, along with the count of nice words in each tweet.\n",
    "1. Display the tweets, along with sentiment label using textblob library for sentiment analysis.**(Bonus)**"
   ]
  },
  {
   "cell_type": "markdown",
   "id": "2f050cf8-accd-4141-a91e-6c108ce61d77",
   "metadata": {},
   "source": [
    "**import libraries**"
   ]
  },
  {
   "cell_type": "code",
   "execution_count": 23,
   "id": "4e936ff0-4955-48ec-9c1d-c8a8dbd56d3e",
   "metadata": {},
   "outputs": [],
   "source": [
    "import pandas as pd\n",
    "from textblob import TextBlob"
   ]
  },
  {
   "cell_type": "markdown",
   "id": "a8593570-f827-45be-9513-9101728e8862",
   "metadata": {
    "tags": []
   },
   "source": [
    "**reading the files**"
   ]
  },
  {
   "cell_type": "code",
   "execution_count": 3,
   "id": "63ba0436-1465-4e85-bd6b-49427a55b991",
   "metadata": {},
   "outputs": [],
   "source": [
    "with open('tweets.txt', 'r') as tweet:\n",
    "    content_tweet = tweet.readlines()\n",
    "\n",
    "with open('nice_words.txt', 'r') as kindness:\n",
    "    content_kindness = kindness.read().splitlines() "
   ]
  },
  {
   "cell_type": "code",
   "execution_count": 13,
   "id": "e82dc6bd-6cf8-4481-a8ac-7b643378b34d",
   "metadata": {},
   "outputs": [
    {
     "data": {
      "text/plain": [
       "['Grateful for the amazing people in my life who make it so wonderful\\n',\n",
       " 'The beautiful flowers were in full bloom and the sweet scent filled the air      a. The birds were singing merrily and the sun was shining brightly . It was a perfect day\\n',\n",
       " 'The kind and generous old man was always willing to help others . He was a role model for the entire community and he was loved by everyone\\n',\n",
       " 'The intelligent and talented young woman had a bright future ahead of her . She was passionate about her work and she was determined to make a difference in the world\\n',\n",
       " 'Sending out good vibes to everyone today! Have a beautiful day!']"
      ]
     },
     "execution_count": 13,
     "metadata": {},
     "output_type": "execute_result"
    }
   ],
   "source": [
    "#print content from tweets.txt file\n",
    "content_tweet"
   ]
  },
  {
   "cell_type": "code",
   "execution_count": 9,
   "id": "4d7ff209-22cb-4f7e-8638-e5c79ea95df4",
   "metadata": {},
   "outputs": [],
   "source": [
    "lines = []\n",
    "\n",
    "#for each tweet in the content tweet list strip and split by '.' then add to line[] list\n",
    "for item in content_tweet:\n",
    "    lines.extend([line.strip() for line in item.split('.')])"
   ]
  },
  {
   "cell_type": "code",
   "execution_count": 10,
   "id": "cfa44aaf-9557-4039-b661-fd24fe9a6e2c",
   "metadata": {},
   "outputs": [
    {
     "name": "stdout",
     "output_type": "stream",
     "text": [
      "Grateful for the amazing people in my life who make it so wonderful\n",
      "The beautiful flowers were in full bloom and the sweet scent filled the air      a\n",
      "The birds were singing merrily and the sun was shining brightly\n",
      "It was a perfect day\n",
      "The kind and generous old man was always willing to help others\n",
      "He was a role model for the entire community and he was loved by everyone\n",
      "The intelligent and talented young woman had a bright future ahead of her\n",
      "She was passionate about her work and she was determined to make a difference in the world\n",
      "Sending out good vibes to everyone today! Have a beautiful day!\n"
     ]
    }
   ],
   "source": [
    "for line in lines:\n",
    "    print(line)"
   ]
  },
  {
   "cell_type": "code",
   "execution_count": 12,
   "id": "9a69a394-7d26-4f5b-9461-a33a9aeb49b8",
   "metadata": {
    "collapsed": true,
    "jupyter": {
     "outputs_hidden": true
    },
    "tags": []
   },
   "outputs": [
    {
     "data": {
      "text/plain": [
       "['awesome',\n",
       " 'beautiful',\n",
       " 'brilliant',\n",
       " 'caring',\n",
       " 'charming',\n",
       " 'clever',\n",
       " 'courageous',\n",
       " 'creative',\n",
       " 'delightful',\n",
       " 'excellent',\n",
       " 'fantastic',\n",
       " 'friendly',\n",
       " 'generous',\n",
       " 'gentle',\n",
       " 'genuine',\n",
       " 'glorious',\n",
       " 'good',\n",
       " 'great',\n",
       " 'helpful',\n",
       " 'honest',\n",
       " 'intelligent',\n",
       " 'kind',\n",
       " 'loving',\n",
       " 'marvelous',\n",
       " 'neat',\n",
       " 'noble',\n",
       " 'outstanding',\n",
       " 'perfect',\n",
       " 'pleasant',\n",
       " 'polite',\n",
       " 'positive',\n",
       " 'precious',\n",
       " 'pretty',\n",
       " 'proud',\n",
       " 'qualified',\n",
       " 'radiant',\n",
       " 'reliable',\n",
       " 'remarkable',\n",
       " 'responsible',\n",
       " 'respectful',\n",
       " 'responsible',\n",
       " 'safe',\n",
       " 'satisfied',\n",
       " 'secure',\n",
       " 'sensible',\n",
       " 'sensational',\n",
       " 'sincere',\n",
       " 'skillful',\n",
       " 'smart',\n",
       " 'splendid',\n",
       " 'stunning',\n",
       " 'superb',\n",
       " 'talented',\n",
       " 'terrific',\n",
       " 'thoughtful',\n",
       " 'tremendous',\n",
       " 'trustworthy',\n",
       " 'valuable',\n",
       " 'wonderful',\n",
       " 'zealous']"
      ]
     },
     "execution_count": 12,
     "metadata": {},
     "output_type": "execute_result"
    }
   ],
   "source": [
    "#print words read from the kindness file \n",
    "content_kindness"
   ]
  },
  {
   "cell_type": "code",
   "execution_count": 15,
   "id": "33a1454e-a0bf-450d-afbf-b46d718fdaaf",
   "metadata": {},
   "outputs": [],
   "source": [
    "def nice_counter(line):\n",
    "    counter = 0\n",
    "    line_words = line.split(' ')\n",
    "    for word in line_words:\n",
    "        if word in content_kindness:\n",
    "            counter+=1\n",
    "    return counter"
   ]
  },
  {
   "cell_type": "markdown",
   "id": "780cf612-ceda-4a64-a9d9-956d0375e459",
   "metadata": {},
   "source": [
    "**store each line in a dictionary as key and the count of the nice words in that line its value**"
   ]
  },
  {
   "cell_type": "code",
   "execution_count": 16,
   "id": "8de53ea8-888d-4c67-a186-485b8d95d940",
   "metadata": {},
   "outputs": [],
   "source": [
    "#create dictionary\n",
    "tweet_dic = dict()\n",
    "#store lines and nice words counts in a dictionary {'tweet':'nice_word counts'}\n",
    "for line in lines:\n",
    "    tweet_dic[line] = nice_counter(line) "
   ]
  },
  {
   "cell_type": "code",
   "execution_count": 17,
   "id": "047ba2ca-a820-4d42-b686-51e5ebac16db",
   "metadata": {
    "collapsed": true,
    "jupyter": {
     "outputs_hidden": true
    },
    "tags": []
   },
   "outputs": [
    {
     "data": {
      "text/plain": [
       "{'Grateful for the amazing people in my life who make it so wonderful': 1,\n",
       " 'The beautiful flowers were in full bloom and the sweet scent filled the air      a': 1,\n",
       " 'The birds were singing merrily and the sun was shining brightly': 0,\n",
       " 'It was a perfect day': 1,\n",
       " 'The kind and generous old man was always willing to help others': 2,\n",
       " 'He was a role model for the entire community and he was loved by everyone': 0,\n",
       " 'The intelligent and talented young woman had a bright future ahead of her': 2,\n",
       " 'She was passionate about her work and she was determined to make a difference in the world': 0,\n",
       " 'Sending out good vibes to everyone today! Have a beautiful day!': 2}"
      ]
     },
     "execution_count": 17,
     "metadata": {},
     "output_type": "execute_result"
    }
   ],
   "source": [
    "#print tweet dictionary\n",
    "tweet_dic"
   ]
  },
  {
   "cell_type": "code",
   "execution_count": 18,
   "id": "32df5989-d32c-4b8e-aa4d-a69d3a3ec863",
   "metadata": {},
   "outputs": [
    {
     "data": {
      "text/plain": [
       "[('The kind and generous old man was always willing to help others', 2),\n",
       " ('The intelligent and talented young woman had a bright future ahead of her',\n",
       "  2),\n",
       " ('Sending out good vibes to everyone today! Have a beautiful day!', 2),\n",
       " ('Grateful for the amazing people in my life who make it so wonderful', 1),\n",
       " ('The beautiful flowers were in full bloom and the sweet scent filled the air      a',\n",
       "  1),\n",
       " ('It was a perfect day', 1),\n",
       " ('The birds were singing merrily and the sun was shining brightly', 0),\n",
       " ('He was a role model for the entire community and he was loved by everyone',\n",
       "  0),\n",
       " ('She was passionate about her work and she was determined to make a difference in the world',\n",
       "  0)]"
      ]
     },
     "execution_count": 18,
     "metadata": {},
     "output_type": "execute_result"
    }
   ],
   "source": [
    "rank_tweets=sorted(tweet_dic.items(), key=lambda item: item[1],reverse=True)\n",
    "rank_tweets"
   ]
  },
  {
   "cell_type": "code",
   "execution_count": 20,
   "id": "9f9d3a3d-51be-44fc-a3f9-1d82bb6fabb1",
   "metadata": {},
   "outputs": [],
   "source": [
    "#create dataframe holds the rank_tweets\n",
    "df = pd.DataFrame(rank_tweets)"
   ]
  },
  {
   "cell_type": "markdown",
   "id": "5934fad0-329b-4c1c-b034-f18e01feeda1",
   "metadata": {},
   "source": [
    "**rename columns from 0 and 1 to `Tweet` and `Rank`**"
   ]
  },
  {
   "cell_type": "code",
   "execution_count": 27,
   "id": "95937474-443b-4d15-802a-078c1457716c",
   "metadata": {},
   "outputs": [
    {
     "data": {
      "text/html": [
       "<div>\n",
       "<style scoped>\n",
       "    .dataframe tbody tr th:only-of-type {\n",
       "        vertical-align: middle;\n",
       "    }\n",
       "\n",
       "    .dataframe tbody tr th {\n",
       "        vertical-align: top;\n",
       "    }\n",
       "\n",
       "    .dataframe thead th {\n",
       "        text-align: right;\n",
       "    }\n",
       "</style>\n",
       "<table border=\"1\" class=\"dataframe\">\n",
       "  <thead>\n",
       "    <tr style=\"text-align: right;\">\n",
       "      <th></th>\n",
       "      <th>Tweet</th>\n",
       "      <th>Rank</th>\n",
       "      <th>label</th>\n",
       "    </tr>\n",
       "  </thead>\n",
       "  <tbody>\n",
       "    <tr>\n",
       "      <th>0</th>\n",
       "      <td>The kind and generous old man was always willi...</td>\n",
       "      <td>2</td>\n",
       "      <td>None</td>\n",
       "    </tr>\n",
       "    <tr>\n",
       "      <th>1</th>\n",
       "      <td>The intelligent and talented young woman had a...</td>\n",
       "      <td>2</td>\n",
       "      <td>None</td>\n",
       "    </tr>\n",
       "    <tr>\n",
       "      <th>2</th>\n",
       "      <td>Sending out good vibes to everyone today! Have...</td>\n",
       "      <td>2</td>\n",
       "      <td>None</td>\n",
       "    </tr>\n",
       "    <tr>\n",
       "      <th>3</th>\n",
       "      <td>Grateful for the amazing people in my life who...</td>\n",
       "      <td>1</td>\n",
       "      <td>None</td>\n",
       "    </tr>\n",
       "    <tr>\n",
       "      <th>4</th>\n",
       "      <td>The beautiful flowers were in full bloom and t...</td>\n",
       "      <td>1</td>\n",
       "      <td>None</td>\n",
       "    </tr>\n",
       "    <tr>\n",
       "      <th>5</th>\n",
       "      <td>It was a perfect day</td>\n",
       "      <td>1</td>\n",
       "      <td>None</td>\n",
       "    </tr>\n",
       "    <tr>\n",
       "      <th>6</th>\n",
       "      <td>The birds were singing merrily and the sun was...</td>\n",
       "      <td>0</td>\n",
       "      <td>None</td>\n",
       "    </tr>\n",
       "    <tr>\n",
       "      <th>7</th>\n",
       "      <td>He was a role model for the entire community a...</td>\n",
       "      <td>0</td>\n",
       "      <td>None</td>\n",
       "    </tr>\n",
       "    <tr>\n",
       "      <th>8</th>\n",
       "      <td>She was passionate about her work and she was ...</td>\n",
       "      <td>0</td>\n",
       "      <td>None</td>\n",
       "    </tr>\n",
       "  </tbody>\n",
       "</table>\n",
       "</div>"
      ],
      "text/plain": [
       "                                               Tweet  Rank label\n",
       "0  The kind and generous old man was always willi...     2  None\n",
       "1  The intelligent and talented young woman had a...     2  None\n",
       "2  Sending out good vibes to everyone today! Have...     2  None\n",
       "3  Grateful for the amazing people in my life who...     1  None\n",
       "4  The beautiful flowers were in full bloom and t...     1  None\n",
       "5                               It was a perfect day     1  None\n",
       "6  The birds were singing merrily and the sun was...     0  None\n",
       "7  He was a role model for the entire community a...     0  None\n",
       "8  She was passionate about her work and she was ...     0  None"
      ]
     },
     "execution_count": 27,
     "metadata": {},
     "output_type": "execute_result"
    }
   ],
   "source": [
    "df = df.rename(columns={0 : 'Tweet', 1: 'Rank'})\n",
    "df"
   ]
  },
  {
   "cell_type": "markdown",
   "id": "aab6b04e-01c8-4bef-bdce-b4dc68b200ad",
   "metadata": {},
   "source": [
    "# Sentiment Analysis"
   ]
  },
  {
   "cell_type": "markdown",
   "id": "caaa0f78-4b08-4289-ba37-52cdf1c04271",
   "metadata": {},
   "source": [
    "**TextBlob is a Python library for processing textual data. It provides a simple API for diving into common natural language processing (NLP) tasks such as sentiment analysis**"
   ]
  },
  {
   "cell_type": "code",
   "execution_count": 68,
   "id": "346c84e2-992f-42ee-ba78-1ef25a810fdb",
   "metadata": {
    "collapsed": true,
    "jupyter": {
     "outputs_hidden": true
    },
    "tags": []
   },
   "outputs": [
    {
     "name": "stdout",
     "output_type": "stream",
     "text": [
      "Collecting textblob\n",
      "  Downloading textblob-0.17.1-py2.py3-none-any.whl (636 kB)\n",
      "\u001b[2K     \u001b[90m━━━━━━━━━━━━━━━━━━━━━━━━━━━━━━━━━━━━━━━\u001b[0m \u001b[32m636.8/636.8 kB\u001b[0m \u001b[31m2.1 MB/s\u001b[0m eta \u001b[36m0:00:00\u001b[0ma \u001b[36m0:00:01\u001b[0m\n",
      "\u001b[?25hRequirement already satisfied: nltk>=3.1 in /Users/rare/opt/anaconda3/lib/python3.9/site-packages (from textblob) (3.7)\n",
      "Requirement already satisfied: regex>=2021.8.3 in /Users/rare/opt/anaconda3/lib/python3.9/site-packages (from nltk>=3.1->textblob) (2022.7.9)\n",
      "Requirement already satisfied: click in /Users/rare/opt/anaconda3/lib/python3.9/site-packages (from nltk>=3.1->textblob) (8.0.4)\n",
      "Requirement already satisfied: joblib in /Users/rare/opt/anaconda3/lib/python3.9/site-packages (from nltk>=3.1->textblob) (1.1.0)\n",
      "Requirement already satisfied: tqdm in /Users/rare/opt/anaconda3/lib/python3.9/site-packages (from nltk>=3.1->textblob) (4.64.1)\n",
      "Installing collected packages: textblob\n",
      "Successfully installed textblob-0.17.1\n"
     ]
    }
   ],
   "source": [
    "!pip install textblob"
   ]
  },
  {
   "cell_type": "code",
   "execution_count": 69,
   "id": "fa833dc1-b1ce-4569-a6bc-b0ad8f3803ec",
   "metadata": {
    "collapsed": true,
    "jupyter": {
     "outputs_hidden": true
    },
    "tags": []
   },
   "outputs": [
    {
     "name": "stdout",
     "output_type": "stream",
     "text": [
      "[nltk_data] Downloading package brown to /Users/rare/nltk_data...\n",
      "[nltk_data]   Unzipping corpora/brown.zip.\n",
      "[nltk_data] Downloading package punkt to /Users/rare/nltk_data...\n",
      "[nltk_data]   Unzipping tokenizers/punkt.zip.\n",
      "[nltk_data] Downloading package wordnet to /Users/rare/nltk_data...\n",
      "[nltk_data] Downloading package averaged_perceptron_tagger to\n",
      "[nltk_data]     /Users/rare/nltk_data...\n",
      "[nltk_data]   Unzipping taggers/averaged_perceptron_tagger.zip.\n",
      "[nltk_data] Downloading package conll2000 to /Users/rare/nltk_data...\n",
      "[nltk_data]   Unzipping corpora/conll2000.zip.\n",
      "[nltk_data] Downloading package movie_reviews to\n",
      "[nltk_data]     /Users/rare/nltk_data...\n",
      "[nltk_data]   Unzipping corpora/movie_reviews.zip.\n",
      "Finished.\n"
     ]
    }
   ],
   "source": [
    " !python -m textblob.download_corpora"
   ]
  },
  {
   "cell_type": "markdown",
   "id": "e94096dd-b97e-4d39-b0fe-1cfb5577ef76",
   "metadata": {},
   "source": [
    "**Add `label` column with None values as a start, this label will take the sentiment result for each row (or tweet)**"
   ]
  },
  {
   "cell_type": "code",
   "execution_count": 26,
   "id": "d378d24f-de34-41ba-baf9-5eb9d3a808f8",
   "metadata": {},
   "outputs": [
    {
     "data": {
      "text/html": [
       "<div>\n",
       "<style scoped>\n",
       "    .dataframe tbody tr th:only-of-type {\n",
       "        vertical-align: middle;\n",
       "    }\n",
       "\n",
       "    .dataframe tbody tr th {\n",
       "        vertical-align: top;\n",
       "    }\n",
       "\n",
       "    .dataframe thead th {\n",
       "        text-align: right;\n",
       "    }\n",
       "</style>\n",
       "<table border=\"1\" class=\"dataframe\">\n",
       "  <thead>\n",
       "    <tr style=\"text-align: right;\">\n",
       "      <th></th>\n",
       "      <th>0</th>\n",
       "      <th>1</th>\n",
       "      <th>label</th>\n",
       "    </tr>\n",
       "  </thead>\n",
       "  <tbody>\n",
       "    <tr>\n",
       "      <th>0</th>\n",
       "      <td>The kind and generous old man was always willi...</td>\n",
       "      <td>2</td>\n",
       "      <td>None</td>\n",
       "    </tr>\n",
       "    <tr>\n",
       "      <th>1</th>\n",
       "      <td>The intelligent and talented young woman had a...</td>\n",
       "      <td>2</td>\n",
       "      <td>None</td>\n",
       "    </tr>\n",
       "    <tr>\n",
       "      <th>2</th>\n",
       "      <td>Sending out good vibes to everyone today! Have...</td>\n",
       "      <td>2</td>\n",
       "      <td>None</td>\n",
       "    </tr>\n",
       "    <tr>\n",
       "      <th>3</th>\n",
       "      <td>Grateful for the amazing people in my life who...</td>\n",
       "      <td>1</td>\n",
       "      <td>None</td>\n",
       "    </tr>\n",
       "    <tr>\n",
       "      <th>4</th>\n",
       "      <td>The beautiful flowers were in full bloom and t...</td>\n",
       "      <td>1</td>\n",
       "      <td>None</td>\n",
       "    </tr>\n",
       "    <tr>\n",
       "      <th>5</th>\n",
       "      <td>It was a perfect day</td>\n",
       "      <td>1</td>\n",
       "      <td>None</td>\n",
       "    </tr>\n",
       "    <tr>\n",
       "      <th>6</th>\n",
       "      <td>The birds were singing merrily and the sun was...</td>\n",
       "      <td>0</td>\n",
       "      <td>None</td>\n",
       "    </tr>\n",
       "    <tr>\n",
       "      <th>7</th>\n",
       "      <td>He was a role model for the entire community a...</td>\n",
       "      <td>0</td>\n",
       "      <td>None</td>\n",
       "    </tr>\n",
       "    <tr>\n",
       "      <th>8</th>\n",
       "      <td>She was passionate about her work and she was ...</td>\n",
       "      <td>0</td>\n",
       "      <td>None</td>\n",
       "    </tr>\n",
       "  </tbody>\n",
       "</table>\n",
       "</div>"
      ],
      "text/plain": [
       "                                                   0  1 label\n",
       "0  The kind and generous old man was always willi...  2  None\n",
       "1  The intelligent and talented young woman had a...  2  None\n",
       "2  Sending out good vibes to everyone today! Have...  2  None\n",
       "3  Grateful for the amazing people in my life who...  1  None\n",
       "4  The beautiful flowers were in full bloom and t...  1  None\n",
       "5                               It was a perfect day  1  None\n",
       "6  The birds were singing merrily and the sun was...  0  None\n",
       "7  He was a role model for the entire community a...  0  None\n",
       "8  She was passionate about her work and she was ...  0  None"
      ]
     },
     "execution_count": 26,
     "metadata": {},
     "output_type": "execute_result"
    }
   ],
   "source": [
    "df['label'] = None\n",
    "df"
   ]
  },
  {
   "cell_type": "markdown",
   "id": "18956ff8-51a7-491a-b726-a86f3af2e3b9",
   "metadata": {},
   "source": [
    "- **create a list to store the sentiment labels of each tweet in the dataframe `df`**\n",
    "- **create `blob` object**\n",
    "- **use the blob object to call the`.sentiment.polarity` function and store the numeric value in the `sentiment_score`**\n",
    "- **used chained conditional statements to decide the labels and append them to the `sentiment_list`**\n",
    "- **add the `sentiment_list` as a column in the `df['label']` already existing column**"
   ]
  },
  {
   "cell_type": "code",
   "execution_count": 28,
   "id": "946e5f59-d82d-4b4c-befe-9faeab6f19de",
   "metadata": {},
   "outputs": [],
   "source": [
    "sentiment_labels = []\n",
    "for tweet in df['Tweet']:\n",
    "    # TextBlob object\n",
    "    blob = TextBlob(tweet)\n",
    "    sentiment_score = blob.sentiment.polarity\n",
    "\n",
    "    if sentiment_score > 0:\n",
    "        sentiment_labels.append(\"Positive\")\n",
    "    elif sentiment_score < 0:\n",
    "        sentiment_labels.append(\"Negative\")\n",
    "    else:\n",
    "        sentiment_labels.append(\"Neutral\")\n",
    "    \n",
    "    \n",
    "df['label'] = sentiment_labels"
   ]
  },
  {
   "cell_type": "code",
   "execution_count": 29,
   "id": "ffc42f15-d1d3-420c-83be-4ca37fc3b571",
   "metadata": {},
   "outputs": [
    {
     "data": {
      "text/html": [
       "<div>\n",
       "<style scoped>\n",
       "    .dataframe tbody tr th:only-of-type {\n",
       "        vertical-align: middle;\n",
       "    }\n",
       "\n",
       "    .dataframe tbody tr th {\n",
       "        vertical-align: top;\n",
       "    }\n",
       "\n",
       "    .dataframe thead th {\n",
       "        text-align: right;\n",
       "    }\n",
       "</style>\n",
       "<table border=\"1\" class=\"dataframe\">\n",
       "  <thead>\n",
       "    <tr style=\"text-align: right;\">\n",
       "      <th></th>\n",
       "      <th>Tweet</th>\n",
       "      <th>Rank</th>\n",
       "      <th>label</th>\n",
       "    </tr>\n",
       "  </thead>\n",
       "  <tbody>\n",
       "    <tr>\n",
       "      <th>0</th>\n",
       "      <td>The kind and generous old man was always willi...</td>\n",
       "      <td>2</td>\n",
       "      <td>Positive</td>\n",
       "    </tr>\n",
       "    <tr>\n",
       "      <th>1</th>\n",
       "      <td>The intelligent and talented young woman had a...</td>\n",
       "      <td>2</td>\n",
       "      <td>Positive</td>\n",
       "    </tr>\n",
       "    <tr>\n",
       "      <th>2</th>\n",
       "      <td>Sending out good vibes to everyone today! Have...</td>\n",
       "      <td>2</td>\n",
       "      <td>Positive</td>\n",
       "    </tr>\n",
       "    <tr>\n",
       "      <th>3</th>\n",
       "      <td>Grateful for the amazing people in my life who...</td>\n",
       "      <td>1</td>\n",
       "      <td>Positive</td>\n",
       "    </tr>\n",
       "    <tr>\n",
       "      <th>4</th>\n",
       "      <td>The beautiful flowers were in full bloom and t...</td>\n",
       "      <td>1</td>\n",
       "      <td>Positive</td>\n",
       "    </tr>\n",
       "    <tr>\n",
       "      <th>5</th>\n",
       "      <td>It was a perfect day</td>\n",
       "      <td>1</td>\n",
       "      <td>Positive</td>\n",
       "    </tr>\n",
       "    <tr>\n",
       "      <th>6</th>\n",
       "      <td>The birds were singing merrily and the sun was...</td>\n",
       "      <td>0</td>\n",
       "      <td>Positive</td>\n",
       "    </tr>\n",
       "    <tr>\n",
       "      <th>7</th>\n",
       "      <td>He was a role model for the entire community a...</td>\n",
       "      <td>0</td>\n",
       "      <td>Positive</td>\n",
       "    </tr>\n",
       "    <tr>\n",
       "      <th>8</th>\n",
       "      <td>She was passionate about her work and she was ...</td>\n",
       "      <td>0</td>\n",
       "      <td>Negative</td>\n",
       "    </tr>\n",
       "  </tbody>\n",
       "</table>\n",
       "</div>"
      ],
      "text/plain": [
       "                                               Tweet  Rank     label\n",
       "0  The kind and generous old man was always willi...     2  Positive\n",
       "1  The intelligent and talented young woman had a...     2  Positive\n",
       "2  Sending out good vibes to everyone today! Have...     2  Positive\n",
       "3  Grateful for the amazing people in my life who...     1  Positive\n",
       "4  The beautiful flowers were in full bloom and t...     1  Positive\n",
       "5                               It was a perfect day     1  Positive\n",
       "6  The birds were singing merrily and the sun was...     0  Positive\n",
       "7  He was a role model for the entire community a...     0  Positive\n",
       "8  She was passionate about her work and she was ...     0  Negative"
      ]
     },
     "execution_count": 29,
     "metadata": {},
     "output_type": "execute_result"
    }
   ],
   "source": [
    "df"
   ]
  }
 ],
 "metadata": {
  "kernelspec": {
   "display_name": "Python 3 (ipykernel)",
   "language": "python",
   "name": "python3"
  },
  "language_info": {
   "codemirror_mode": {
    "name": "ipython",
    "version": 3
   },
   "file_extension": ".py",
   "mimetype": "text/x-python",
   "name": "python",
   "nbconvert_exporter": "python",
   "pygments_lexer": "ipython3",
   "version": "3.9.13"
  }
 },
 "nbformat": 4,
 "nbformat_minor": 5
}
