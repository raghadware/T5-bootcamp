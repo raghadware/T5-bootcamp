{
 "cells": [
  {
   "cell_type": "markdown",
   "id": "312a153d",
   "metadata": {},
   "source": [
    "# Employee number analysis according to facility size\n",
    "### By : Raghad Salem and Renad Amer"
   ]
  },
  {
   "cell_type": "markdown",
   "id": "31dbd477",
   "metadata": {},
   "source": [
    "\n",
    "\n",
    "### **Dataset:** \n",
    "Number of employees (Saudis (males) – Saudi women (females) – foreigners (males) – foreigners (females)) according to the size of the establishment (micro, small, medium, and large, using the classification of establishments) and economic activity (using the National Classification of Economic Activities (ISIC4). ) - Level Two) in each geographical region for the year 2023. [Dataset can be downloaded here](https://od.data.gov.sa/Data/ar/dataset/the-total-number-of-employees-2023)\n",
    "\n",
    "\n",
    "### **Objectives:** \n",
    "\n",
    "**Questions:**\n",
    "- How does the facility size affect the variety of employees?\n",
    "- What is the primary focus economic activity of each region?\n",
    "- how ficilities are distributed on regions around Saudi Arabia?\n",
    "- what are the top 5 regions with the highest saudi employments number?\n",
    "- what is the ratio of the number of saudi employees compared to the number of foreign employees in large facilities?\n",
    "\n",
    "**Answering these questions is expected to lead us to insights about the following:**\n",
    "- economic development and regional growth.\n",
    "- dominant economic activity in each region.\n",
    "- Identify employment hubs and the ditribution of labor around the country.\n",
    "- Identify the growth of saudi employments.\n",
    "\n",
    "\n",
    "\n",
    "\n",
    "### **This notebook consists of 4 sections/steps:**\n",
    "1. Data Wrangling\n",
    "2. Data Analysis\n",
    "3. Data Visualization\n",
    "4. Report Generation"
   ]
  },
  {
   "cell_type": "markdown",
   "id": "b2fef74e",
   "metadata": {},
   "source": [
    "**Start by importing necessary libraries**"
   ]
  },
  {
   "cell_type": "code",
   "execution_count": 67,
   "id": "4d303189",
   "metadata": {},
   "outputs": [],
   "source": [
    "import pandas as pd \n",
    "import seaborn as sns\n",
    "import numpy as np\n",
    "import matplotlib.pyplot as plt\n",
    "#import googletrans"
   ]
  },
  {
   "cell_type": "markdown",
   "id": "6f040a7e-2b8b-4012-a6ed-123e162ef3d4",
   "metadata": {},
   "source": [
    "**Install library to read data from excel**"
   ]
  },
  {
   "cell_type": "code",
   "execution_count": 68,
   "id": "171d8c16",
   "metadata": {
    "collapsed": true,
    "jupyter": {
     "outputs_hidden": true
    },
    "tags": []
   },
   "outputs": [
    {
     "name": "stdout",
     "output_type": "stream",
     "text": [
      "Collecting package metadata (current_repodata.json): done\n",
      "Solving environment: done\n",
      "\n",
      "\n",
      "==> WARNING: A newer version of conda exists. <==\n",
      "  current version: 23.3.1\n",
      "  latest version: 23.9.0\n",
      "\n",
      "Please update conda by running\n",
      "\n",
      "    $ conda update -n base -c defaults conda\n",
      "\n",
      "Or to minimize the number of packages updated during conda update use\n",
      "\n",
      "     conda install conda=23.9.0\n",
      "\n",
      "\n",
      "\n",
      "# All requested packages already installed.\n",
      "\n",
      "\n",
      "Note: you may need to restart the kernel to use updated packages.\n"
     ]
    }
   ],
   "source": [
    "conda install xlrd"
   ]
  },
  {
   "cell_type": "code",
   "execution_count": 69,
   "id": "d537d769",
   "metadata": {
    "tags": []
   },
   "outputs": [
    {
     "name": "stdout",
     "output_type": "stream",
     "text": [
      "usage: conda [-h] [-V] command ...\n",
      "conda: error: unrecognized arguments: --upgrade\n",
      "\n",
      "Note: you may need to restart the kernel to use updated packages.\n"
     ]
    }
   ],
   "source": [
    "conda install openpyxl --upgrade\n"
   ]
  },
  {
   "cell_type": "markdown",
   "id": "b8bac7c6",
   "metadata": {},
   "source": [
    "> ## 1. Data Wrangling"
   ]
  },
  {
   "cell_type": "markdown",
   "id": "6b732d51",
   "metadata": {},
   "source": [
    "**[Dataset can be downloaded here](https://od.data.gov.sa/Data/ar/dataset/the-total-number-of-employees-2023), after that read the data from excel file.**"
   ]
  },
  {
   "cell_type": "code",
   "execution_count": 70,
   "id": "1b286858",
   "metadata": {},
   "outputs": [
    {
     "data": {
      "text/html": [
       "<div>\n",
       "<style scoped>\n",
       "    .dataframe tbody tr th:only-of-type {\n",
       "        vertical-align: middle;\n",
       "    }\n",
       "\n",
       "    .dataframe tbody tr th {\n",
       "        vertical-align: top;\n",
       "    }\n",
       "\n",
       "    .dataframe thead th {\n",
       "        text-align: right;\n",
       "    }\n",
       "</style>\n",
       "<table border=\"1\" class=\"dataframe\">\n",
       "  <thead>\n",
       "    <tr style=\"text-align: right;\">\n",
       "      <th></th>\n",
       "      <th>السنة</th>\n",
       "      <th>الربع</th>\n",
       "      <th>المنطقة</th>\n",
       "      <th>النشاط الاقتصادي</th>\n",
       "      <th>حجم المنشأة</th>\n",
       "      <th>عدد المنشآت</th>\n",
       "      <th>عدد العاملين السعوديين</th>\n",
       "      <th>عدد السعوديين (ذكور)</th>\n",
       "      <th>عدد السعوديات (إناث)</th>\n",
       "      <th>عدد العاملين الأجانب</th>\n",
       "      <th>عدد الأجانب (ذكور)</th>\n",
       "      <th>عدد الأجنبيات (إناث)</th>\n",
       "      <th>Unnamed: 12</th>\n",
       "    </tr>\n",
       "  </thead>\n",
       "  <tbody>\n",
       "    <tr>\n",
       "      <th>0</th>\n",
       "      <td>2023</td>\n",
       "      <td>1</td>\n",
       "      <td>المنطقة الشرقية</td>\n",
       "      <td>وكالات السفر ومشغّلو الجولات السياحية وخدمات ا...</td>\n",
       "      <td>صغيرة</td>\n",
       "      <td>54</td>\n",
       "      <td>320</td>\n",
       "      <td>137</td>\n",
       "      <td>183</td>\n",
       "      <td>523</td>\n",
       "      <td>516</td>\n",
       "      <td>7</td>\n",
       "      <td>NaN</td>\n",
       "    </tr>\n",
       "    <tr>\n",
       "      <th>1</th>\n",
       "      <td>2023</td>\n",
       "      <td>1</td>\n",
       "      <td>المنطقة الشرقية</td>\n",
       "      <td>وكالات السفر ومشغّلو الجولات السياحية وخدمات ا...</td>\n",
       "      <td>كبيرة</td>\n",
       "      <td>1</td>\n",
       "      <td>221</td>\n",
       "      <td>207</td>\n",
       "      <td>14</td>\n",
       "      <td>213</td>\n",
       "      <td>212</td>\n",
       "      <td>1</td>\n",
       "      <td>NaN</td>\n",
       "    </tr>\n",
       "    <tr>\n",
       "      <th>2</th>\n",
       "      <td>2023</td>\n",
       "      <td>1</td>\n",
       "      <td>المنطقة الشرقية</td>\n",
       "      <td>وكالات السفر ومشغّلو الجولات السياحية وخدمات ا...</td>\n",
       "      <td>متناهية الصغر</td>\n",
       "      <td>184</td>\n",
       "      <td>122</td>\n",
       "      <td>65</td>\n",
       "      <td>57</td>\n",
       "      <td>287</td>\n",
       "      <td>285</td>\n",
       "      <td>2</td>\n",
       "      <td>NaN</td>\n",
       "    </tr>\n",
       "    <tr>\n",
       "      <th>3</th>\n",
       "      <td>2023</td>\n",
       "      <td>1</td>\n",
       "      <td>المنطقة الشرقية</td>\n",
       "      <td>وكالات السفر ومشغّلو الجولات السياحية وخدمات ا...</td>\n",
       "      <td>متوسطة</td>\n",
       "      <td>6</td>\n",
       "      <td>239</td>\n",
       "      <td>130</td>\n",
       "      <td>109</td>\n",
       "      <td>329</td>\n",
       "      <td>326</td>\n",
       "      <td>3</td>\n",
       "      <td>NaN</td>\n",
       "    </tr>\n",
       "    <tr>\n",
       "      <th>4</th>\n",
       "      <td>2023</td>\n",
       "      <td>1</td>\n",
       "      <td>منطقة الباحة</td>\n",
       "      <td>وكالات السفر ومشغّلو الجولات السياحية وخدمات ا...</td>\n",
       "      <td>متناهية الصغر</td>\n",
       "      <td>7</td>\n",
       "      <td>2</td>\n",
       "      <td>2</td>\n",
       "      <td>0</td>\n",
       "      <td>13</td>\n",
       "      <td>13</td>\n",
       "      <td>0</td>\n",
       "      <td>NaN</td>\n",
       "    </tr>\n",
       "  </tbody>\n",
       "</table>\n",
       "</div>"
      ],
      "text/plain": [
       "   السنة  الربع          المنطقة  \\\n",
       "0   2023      1  المنطقة الشرقية   \n",
       "1   2023      1  المنطقة الشرقية   \n",
       "2   2023      1  المنطقة الشرقية   \n",
       "3   2023      1  المنطقة الشرقية   \n",
       "4   2023      1     منطقة الباحة   \n",
       "\n",
       "                                    النشاط الاقتصادي    حجم المنشأة  \\\n",
       "0  وكالات السفر ومشغّلو الجولات السياحية وخدمات ا...          صغيرة   \n",
       "1  وكالات السفر ومشغّلو الجولات السياحية وخدمات ا...          كبيرة   \n",
       "2  وكالات السفر ومشغّلو الجولات السياحية وخدمات ا...  متناهية الصغر   \n",
       "3  وكالات السفر ومشغّلو الجولات السياحية وخدمات ا...         متوسطة   \n",
       "4  وكالات السفر ومشغّلو الجولات السياحية وخدمات ا...  متناهية الصغر   \n",
       "\n",
       "   عدد المنشآت  عدد العاملين السعوديين  عدد السعوديين (ذكور)  \\\n",
       "0           54                     320                   137   \n",
       "1            1                     221                   207   \n",
       "2          184                     122                    65   \n",
       "3            6                     239                   130   \n",
       "4            7                       2                     2   \n",
       "\n",
       "   عدد السعوديات (إناث)  عدد العاملين الأجانب  عدد الأجانب (ذكور)  \\\n",
       "0                   183                   523                 516   \n",
       "1                    14                   213                 212   \n",
       "2                    57                   287                 285   \n",
       "3                   109                   329                 326   \n",
       "4                     0                    13                  13   \n",
       "\n",
       "   عدد الأجنبيات (إناث)  Unnamed: 12  \n",
       "0                     7          NaN  \n",
       "1                     1          NaN  \n",
       "2                     2          NaN  \n",
       "3                     3          NaN  \n",
       "4                     0          NaN  "
      ]
     },
     "execution_count": 70,
     "metadata": {},
     "output_type": "execute_result"
    }
   ],
   "source": [
    "df = pd.read_excel('number-of-employees-2023-q1.xlsx' , engine='openpyxl')\n",
    "df.head()"
   ]
  },
  {
   "cell_type": "code",
   "execution_count": 71,
   "id": "1e3ec82c",
   "metadata": {
    "tags": []
   },
   "outputs": [
    {
     "name": "stdout",
     "output_type": "stream",
     "text": [
      "<class 'pandas.core.frame.DataFrame'>\n",
      "RangeIndex: 2761 entries, 0 to 2760\n",
      "Data columns (total 13 columns):\n",
      " #   Column                  Non-Null Count  Dtype  \n",
      "---  ------                  --------------  -----  \n",
      " 0   السنة                   2761 non-null   int64  \n",
      " 1   الربع                   2761 non-null   int64  \n",
      " 2   المنطقة                 2761 non-null   object \n",
      " 3   النشاط الاقتصادي        2761 non-null   object \n",
      " 4   حجم المنشأة             2761 non-null   object \n",
      " 5   عدد المنشآت             2761 non-null   int64  \n",
      " 6   عدد العاملين السعوديين  2761 non-null   int64  \n",
      " 7   عدد السعوديين (ذكور)    2761 non-null   int64  \n",
      " 8   عدد السعوديات (إناث)    2761 non-null   int64  \n",
      " 9   عدد العاملين الأجانب    2761 non-null   int64  \n",
      " 10  عدد الأجانب (ذكور)      2761 non-null   int64  \n",
      " 11  عدد الأجنبيات (إناث)    2761 non-null   int64  \n",
      " 12  Unnamed: 12             0 non-null      float64\n",
      "dtypes: float64(1), int64(9), object(3)\n",
      "memory usage: 280.5+ KB\n"
     ]
    }
   ],
   "source": [
    "df.info()"
   ]
  },
  {
   "cell_type": "markdown",
   "id": "88388466-319d-45f5-aa02-236d5f513840",
   "metadata": {},
   "source": [
    "- Notice that there are no missing values except the last column all Null values.\n",
    "- Data types of `النشاط الاقتصادي` , `حجم المنشأة`,`المنطقة` are `str`.\n"
   ]
  },
  {
   "cell_type": "code",
   "execution_count": 72,
   "id": "90a2d8e0",
   "metadata": {},
   "outputs": [
    {
     "data": {
      "text/plain": [
       "13"
      ]
     },
     "execution_count": 72,
     "metadata": {},
     "output_type": "execute_result"
    }
   ],
   "source": [
    "df['المنطقة'].nunique()"
   ]
  },
  {
   "cell_type": "markdown",
   "id": "fe083285-781b-4453-a7b8-28fae94b1cd6",
   "metadata": {},
   "source": [
    "**There are 13 different regions in this dataset**"
   ]
  },
  {
   "cell_type": "code",
   "execution_count": 73,
   "id": "50eaaef9",
   "metadata": {},
   "outputs": [
    {
     "data": {
      "text/plain": [
       "array(['المنطقة الشرقية', 'منطقة الباحة', 'منطقة الجوف',\n",
       "       'منطقة الحدود الشمالية', 'منطقة الرياض', 'منطقة القصيم',\n",
       "       'منطقة المدينة المنورة', 'منطقة تبوك', 'منطقة جازان', 'منطقة حائل',\n",
       "       'منطقة عسير', 'منطقة مكة المكرمة', 'منطقة نجران'], dtype=object)"
      ]
     },
     "execution_count": 73,
     "metadata": {},
     "output_type": "execute_result"
    }
   ],
   "source": [
    "df['المنطقة'].unique()"
   ]
  },
  {
   "cell_type": "code",
   "execution_count": 74,
   "id": "4be0074b",
   "metadata": {},
   "outputs": [
    {
     "data": {
      "text/plain": [
       "array(['صغيرة', 'كبيرة', 'متناهية الصغر', 'متوسطة'], dtype=object)"
      ]
     },
     "execution_count": 74,
     "metadata": {},
     "output_type": "execute_result"
    }
   ],
   "source": [
    "df['حجم المنشأة'].unique()"
   ]
  },
  {
   "cell_type": "markdown",
   "id": "dbaebaaf-2e08-44bd-bd78-0f0c0fd3cec1",
   "metadata": {},
   "source": [
    "**And 4 different facility sizes.**"
   ]
  },
  {
   "cell_type": "code",
   "execution_count": 75,
   "id": "7534451f",
   "metadata": {
    "tags": []
   },
   "outputs": [
    {
     "data": {
      "text/plain": [
       "(array(['وكالات السفر ومشغّلو الجولات السياحية وخدمات الحجز والأنشطة المتصلة بها',\n",
       "        'صيد الأسماك وتربية المائيات',\n",
       "        'صنع منتجات المعادن المشكلة ( باستثناء الآلات والمعدات )',\n",
       "        'صنع منتجات المعادن اللافلزية الأخرى',\n",
       "        'صنع منتجات المطاط واللدائن',\n",
       "        'صنع فحم الكوك والمنتجات النفطية المكررة',\n",
       "        'صُنع الورق ومنتجات الورق',\n",
       "        'صُنع المواد الكيميائية والمنتجات الكيميائية', 'صُنع المنسوجات',\n",
       "        'صُنع المنتجات الغذائية',\n",
       "        'صنع المنتجات الصيدلانية الأساسية والمستحضرات الصيدلانية',\n",
       "        'صُنع المنتجات الجلدية والمنتجات ذات الصلة', 'صُنع الملبوسات',\n",
       "        'صنع المعدات الكهربائية', 'صُنع المشروبات', 'صنع الفلزات القاعدية',\n",
       "        'صُنع الخشب ومنتجات الخشب والفلين ، باستثناء الأثاث ، صُنع أصناف من القش ومواد الضفر',\n",
       "        'صنع الحواسيب والمنتجات الإلكترونية والبصرية', 'صنع الأثاث',\n",
       "        'صناعة معدات النقل الأخرى',\n",
       "        'صناعة المركبات ذات المحركات والمركبات المقطورة ونصف المقطورة',\n",
       "        'صناعة الآلات والمعدات غير المصنفة في موضع أخر',\n",
       "        'توصيل الكهرباء والغاز والبخار وتكييف الهواء',\n",
       "        'تمويل التأمين وإعادة التأمين وصناديق المعاشات التقاعدية باستثناء الضمان الاجتماعي الإلزامي',\n",
       "        'تعدين ركازات الفلزات', 'تعدين الفحم والليغنيت', 'تشييد المباني',\n",
       "        'تجميع المياه ومعالجتها وتوصيلها',\n",
       "        'تجارة الجملة والتجزئة ، وإصلاح المركبات ذات المحركات والدراجات النارية',\n",
       "        'تجارة الجملة ، باستثناء المركبات ذات المحركات والدراجات النارية',\n",
       "        'تجارة التجزئة، باستثناء المركبات ذات المحركات والدراجات النارية',\n",
       "        'أنشطة زراعة المحاصيل والإنتاج الحيواني والصيد والخدمات المتصلة',\n",
       "        'أنشطة خدمات دعم التعدين', 'أنشطة خدمات المعلومات',\n",
       "        'أنشطة خدمات الأطعمة والمشروبات',\n",
       "        'أنشطة جمع النفايات ومعالجتها وتصريفها ، واسترجاع المواد',\n",
       "        'أنشطة تقديم الخدمات للمباني وتجميل المواقع', 'أنشطة النشر',\n",
       "        'أنشطة المنظمات ذات العضوية',\n",
       "        'أنشطة المكتبات والمحفوظات والمتاحف والأنشطة الثقافية الأخرى',\n",
       "        'أنشطة المكاتب الرئيسية، والأنشطة الاستشارية في مجال الإدارة',\n",
       "        'أنشطة المعمارية والهندسية ، والاختبارات الفنية والتحليل',\n",
       "        'أنشطة المعالجة وخدمات إدارة النفايات الأخرى',\n",
       "        'أنشطة العمل الاجتماعي، دون إقامة',\n",
       "        'أنشطة الخدمات المالية ، فيما عدا تمويل التأمين وصناديق المعاشات',\n",
       "        'أنشطة الخدمات الشخصية الأخرى', 'أنشطة التشييد المتخصصة',\n",
       "        'أنشطة البريد ونقل الرسائل والطرود بواسطة مندوبين',\n",
       "        'أنشطة البرمجة والإذاعة',\n",
       "        'أنشطة البرمجة الحاسوبية والخبرة الاستشارية وما يتصل بها من أنشطة',\n",
       "        'أنشطة الأمن والتحقيقات',\n",
       "        'أنشطة الاسر المعيشية التي تستخدم أفراداً للعمل المنزلي',\n",
       "        'أنشطة الاستخدام', 'الهندسة المدنية', 'النقل المائي',\n",
       "        'النقل الجوي', 'النقل البري و النقل عبر الأنابيب',\n",
       "        'الطباعة واستنساخ وسائط الأعلام المسجّلة',\n",
       "        'الصناعة التحويلية الأخرى', 'الصرف الصحي', 'الصحة البشرية',\n",
       "        'الرعاية مع الإقامة', 'الحراجة وقطع الأخشاب', 'التعليم',\n",
       "        'التخزين وأنشطة الدعم للنقل', 'البحث والتطوير في المجال العلمي',\n",
       "        'الأنشطة غير المتميزة لإنتاج السلع والخدمات التي تقوم بها الأسر المعيشية الخاصة لإستعمالها الخاص',\n",
       "        'الأنشطة المهنية والعلمية والتقنية الأخرى',\n",
       "        'الأنشطة المساعدة لأنشطة الخدمات المالية وأنشطة التأمين',\n",
       "        'الأنشطة القانونية وأنشطة المحاسبة', 'الأنشطة العقارية',\n",
       "        'الأنشطة الرياضية وأنشطة التسلية والترفيه', 'الأنشطة البيطرية',\n",
       "        'الأنشطة الإيجارية',\n",
       "        'الأنشطة الإدارية للمكاتب ، وأنشطة الدعم للمكاتب وغير ذلك من أنشطة الدعم للأعمال',\n",
       "        'الأنشطة الأخرى للتعدين واستغلال المحاجر',\n",
       "        'الأنشطة الإبداعية والفنون وأنشطة الترفيه', 'الإقامة',\n",
       "        'الإدارة العامة والدفاع ؛ والضمان الاجتماعي الإلزامي', 'الاتصالات',\n",
       "        'إصلاح وتركيب الآلات والمعدات',\n",
       "        'إصلاح أجهزة الحاسوب والسلع الشخصية والمنزلية',\n",
       "        'استخراج النفط الخام والغاز الطبيعي', 'أبحاث الإعلان والسوق',\n",
       "        'غير معرف'], dtype=object),\n",
       " 85)"
      ]
     },
     "execution_count": 75,
     "metadata": {},
     "output_type": "execute_result"
    }
   ],
   "source": [
    "df['النشاط الاقتصادي'].unique() , df['النشاط الاقتصادي'].nunique()"
   ]
  },
  {
   "cell_type": "markdown",
   "id": "44f2afbe",
   "metadata": {},
   "source": [
    "**the column `economic_activity` contains 85 activities, we will be reducing these activities into fewer categories:**\n",
    "\n",
    "1. الصناعات\n",
    "2. الخدمات\n",
    "3. النقل\n",
    "4. التجارة\n",
    "5. أنشطة المكاتب\n",
    "6. البرمجة\n",
    "7. التعدين\n",
    "8. الأنشطه المعماريه والهندسيه\n",
    "9. أخرى "
   ]
  },
  {
   "cell_type": "code",
   "execution_count": 76,
   "id": "70b5057c",
   "metadata": {},
   "outputs": [
    {
     "data": {
      "text/plain": [
       "السنة                        0\n",
       "الربع                        0\n",
       "المنطقة                      0\n",
       "النشاط الاقتصادي             0\n",
       "حجم المنشأة                  0\n",
       "عدد المنشآت                  0\n",
       "عدد العاملين السعوديين       0\n",
       "عدد السعوديين (ذكور)         0\n",
       "عدد السعوديات (إناث)         0\n",
       "عدد العاملين الأجانب         0\n",
       "عدد الأجانب (ذكور)           0\n",
       "عدد الأجنبيات (إناث)         0\n",
       "Unnamed: 12               2761\n",
       "dtype: int64"
      ]
     },
     "execution_count": 76,
     "metadata": {},
     "output_type": "execute_result"
    }
   ],
   "source": [
    "df.isna().sum()"
   ]
  },
  {
   "cell_type": "markdown",
   "id": "8ab722de",
   "metadata": {},
   "source": [
    "**All columns have no missing values except `Unnamed: 12` column all the values are null.**"
   ]
  },
  {
   "cell_type": "markdown",
   "id": "e95e1dfa",
   "metadata": {},
   "source": [
    "**to do:**\n",
    "1. Drop `Unnamed: 12` column.\n",
    "2. Rename column labels to english.\n",
    "3. Reduce `economic_activity` categories into a few main categories along with other category for uncategorized features.\n",
    "4. Change `facility_size` , `economic_activity` and `region` column datatype to `category` type.\n",
    "5. Group by and aggregate rows with duplicated `facility_size` for the same `economic_activity` by summing the employees numbers for all columns.\n",
    "6. Merge female columns into one `female` column.\n",
    "7. Merge male columns into one `male` column.\n",
    "8. Drop unnecessary columns."
   ]
  },
  {
   "cell_type": "markdown",
   "id": "1f8252d8",
   "metadata": {},
   "source": [
    "**Drop `Unnamed: 12` column**"
   ]
  },
  {
   "cell_type": "code",
   "execution_count": 77,
   "id": "7c3be154",
   "metadata": {
    "tags": []
   },
   "outputs": [],
   "source": [
    "#Drop unnamed column\n",
    "df.drop(columns=['Unnamed: 12'] , axis=1 , inplace=True )"
   ]
  },
  {
   "cell_type": "code",
   "execution_count": 78,
   "id": "2153666c",
   "metadata": {
    "tags": []
   },
   "outputs": [
    {
     "data": {
      "text/html": [
       "<div>\n",
       "<style scoped>\n",
       "    .dataframe tbody tr th:only-of-type {\n",
       "        vertical-align: middle;\n",
       "    }\n",
       "\n",
       "    .dataframe tbody tr th {\n",
       "        vertical-align: top;\n",
       "    }\n",
       "\n",
       "    .dataframe thead th {\n",
       "        text-align: right;\n",
       "    }\n",
       "</style>\n",
       "<table border=\"1\" class=\"dataframe\">\n",
       "  <thead>\n",
       "    <tr style=\"text-align: right;\">\n",
       "      <th></th>\n",
       "      <th>السنة</th>\n",
       "      <th>الربع</th>\n",
       "      <th>المنطقة</th>\n",
       "      <th>النشاط الاقتصادي</th>\n",
       "      <th>حجم المنشأة</th>\n",
       "      <th>عدد المنشآت</th>\n",
       "      <th>عدد العاملين السعوديين</th>\n",
       "      <th>عدد السعوديين (ذكور)</th>\n",
       "      <th>عدد السعوديات (إناث)</th>\n",
       "      <th>عدد العاملين الأجانب</th>\n",
       "      <th>عدد الأجانب (ذكور)</th>\n",
       "      <th>عدد الأجنبيات (إناث)</th>\n",
       "    </tr>\n",
       "  </thead>\n",
       "  <tbody>\n",
       "    <tr>\n",
       "      <th>0</th>\n",
       "      <td>2023</td>\n",
       "      <td>1</td>\n",
       "      <td>المنطقة الشرقية</td>\n",
       "      <td>وكالات السفر ومشغّلو الجولات السياحية وخدمات ا...</td>\n",
       "      <td>صغيرة</td>\n",
       "      <td>54</td>\n",
       "      <td>320</td>\n",
       "      <td>137</td>\n",
       "      <td>183</td>\n",
       "      <td>523</td>\n",
       "      <td>516</td>\n",
       "      <td>7</td>\n",
       "    </tr>\n",
       "    <tr>\n",
       "      <th>1</th>\n",
       "      <td>2023</td>\n",
       "      <td>1</td>\n",
       "      <td>المنطقة الشرقية</td>\n",
       "      <td>وكالات السفر ومشغّلو الجولات السياحية وخدمات ا...</td>\n",
       "      <td>كبيرة</td>\n",
       "      <td>1</td>\n",
       "      <td>221</td>\n",
       "      <td>207</td>\n",
       "      <td>14</td>\n",
       "      <td>213</td>\n",
       "      <td>212</td>\n",
       "      <td>1</td>\n",
       "    </tr>\n",
       "    <tr>\n",
       "      <th>2</th>\n",
       "      <td>2023</td>\n",
       "      <td>1</td>\n",
       "      <td>المنطقة الشرقية</td>\n",
       "      <td>وكالات السفر ومشغّلو الجولات السياحية وخدمات ا...</td>\n",
       "      <td>متناهية الصغر</td>\n",
       "      <td>184</td>\n",
       "      <td>122</td>\n",
       "      <td>65</td>\n",
       "      <td>57</td>\n",
       "      <td>287</td>\n",
       "      <td>285</td>\n",
       "      <td>2</td>\n",
       "    </tr>\n",
       "    <tr>\n",
       "      <th>3</th>\n",
       "      <td>2023</td>\n",
       "      <td>1</td>\n",
       "      <td>المنطقة الشرقية</td>\n",
       "      <td>وكالات السفر ومشغّلو الجولات السياحية وخدمات ا...</td>\n",
       "      <td>متوسطة</td>\n",
       "      <td>6</td>\n",
       "      <td>239</td>\n",
       "      <td>130</td>\n",
       "      <td>109</td>\n",
       "      <td>329</td>\n",
       "      <td>326</td>\n",
       "      <td>3</td>\n",
       "    </tr>\n",
       "    <tr>\n",
       "      <th>4</th>\n",
       "      <td>2023</td>\n",
       "      <td>1</td>\n",
       "      <td>منطقة الباحة</td>\n",
       "      <td>وكالات السفر ومشغّلو الجولات السياحية وخدمات ا...</td>\n",
       "      <td>متناهية الصغر</td>\n",
       "      <td>7</td>\n",
       "      <td>2</td>\n",
       "      <td>2</td>\n",
       "      <td>0</td>\n",
       "      <td>13</td>\n",
       "      <td>13</td>\n",
       "      <td>0</td>\n",
       "    </tr>\n",
       "  </tbody>\n",
       "</table>\n",
       "</div>"
      ],
      "text/plain": [
       "   السنة  الربع          المنطقة  \\\n",
       "0   2023      1  المنطقة الشرقية   \n",
       "1   2023      1  المنطقة الشرقية   \n",
       "2   2023      1  المنطقة الشرقية   \n",
       "3   2023      1  المنطقة الشرقية   \n",
       "4   2023      1     منطقة الباحة   \n",
       "\n",
       "                                    النشاط الاقتصادي    حجم المنشأة  \\\n",
       "0  وكالات السفر ومشغّلو الجولات السياحية وخدمات ا...          صغيرة   \n",
       "1  وكالات السفر ومشغّلو الجولات السياحية وخدمات ا...          كبيرة   \n",
       "2  وكالات السفر ومشغّلو الجولات السياحية وخدمات ا...  متناهية الصغر   \n",
       "3  وكالات السفر ومشغّلو الجولات السياحية وخدمات ا...         متوسطة   \n",
       "4  وكالات السفر ومشغّلو الجولات السياحية وخدمات ا...  متناهية الصغر   \n",
       "\n",
       "   عدد المنشآت  عدد العاملين السعوديين  عدد السعوديين (ذكور)  \\\n",
       "0           54                     320                   137   \n",
       "1            1                     221                   207   \n",
       "2          184                     122                    65   \n",
       "3            6                     239                   130   \n",
       "4            7                       2                     2   \n",
       "\n",
       "   عدد السعوديات (إناث)  عدد العاملين الأجانب  عدد الأجانب (ذكور)  \\\n",
       "0                   183                   523                 516   \n",
       "1                    14                   213                 212   \n",
       "2                    57                   287                 285   \n",
       "3                   109                   329                 326   \n",
       "4                     0                    13                  13   \n",
       "\n",
       "   عدد الأجنبيات (إناث)  \n",
       "0                     7  \n",
       "1                     1  \n",
       "2                     2  \n",
       "3                     3  \n",
       "4                     0  "
      ]
     },
     "execution_count": 78,
     "metadata": {},
     "output_type": "execute_result"
    }
   ],
   "source": [
    "#test\n",
    "df.head()"
   ]
  },
  {
   "cell_type": "code",
   "execution_count": 79,
   "id": "c661c718",
   "metadata": {},
   "outputs": [],
   "source": [
    "#save the cleaned version\n",
    "df.to_csv('employees-cleaned.csv' , index=False)"
   ]
  },
  {
   "cell_type": "markdown",
   "id": "4ec6a23e-402e-41fa-8cdf-4c300cbe7faa",
   "metadata": {},
   "source": [
    "**Rename column labels into english for easier coding.**"
   ]
  },
  {
   "cell_type": "code",
   "execution_count": 80,
   "id": "556c9de2-67ae-450a-a86e-f3aa108841ad",
   "metadata": {},
   "outputs": [],
   "source": [
    "df = df.rename(columns={'السنة': 'year'\n",
    "                        ,'الربع':'quarter'\n",
    "                        ,'المنطقة':'region'\n",
    "                        ,'النشاط الاقتصادي': 'economic_activity' \n",
    "                        , 'حجم المنشأة':'facility_size' \n",
    "                        , 'عدد المنشآت':'no_of_faicility'\n",
    "                        ,'عدد العاملين السعوديين':'saudi_employees'\n",
    "                        ,'عدد السعوديين (ذكور)':'male_saudies' \n",
    "                        , 'عدد السعوديات (إناث)':'female_saudies' \n",
    "                        , 'عدد العاملين الأجانب':'foreign_employees'\n",
    "                        , 'عدد الأجانب (ذكور)':'male_foreigners'\n",
    "                        , 'عدد الأجنبيات (إناث)':'female_foreigners'})"
   ]
  },
  {
   "cell_type": "code",
   "execution_count": null,
   "id": "668ebed5-bfc1-4ad3-a20a-6f7481571f08",
   "metadata": {
    "tags": []
   },
   "outputs": [
    {
     "data": {
      "text/html": [
       "<div>\n",
       "<style scoped>\n",
       "    .dataframe tbody tr th:only-of-type {\n",
       "        vertical-align: middle;\n",
       "    }\n",
       "\n",
       "    .dataframe tbody tr th {\n",
       "        vertical-align: top;\n",
       "    }\n",
       "\n",
       "    .dataframe thead th {\n",
       "        text-align: right;\n",
       "    }\n",
       "</style>\n",
       "<table border=\"1\" class=\"dataframe\">\n",
       "  <thead>\n",
       "    <tr style=\"text-align: right;\">\n",
       "      <th></th>\n",
       "      <th>year</th>\n",
       "      <th>quarter</th>\n",
       "      <th>region</th>\n",
       "      <th>economic_activity</th>\n",
       "      <th>facility_size</th>\n",
       "      <th>no_of_faicility</th>\n",
       "      <th>saudi_employees</th>\n",
       "      <th>male_saudies</th>\n",
       "      <th>female_saudies</th>\n",
       "      <th>foreign_employees</th>\n",
       "      <th>male_foreigners</th>\n",
       "      <th>female_foreigners</th>\n",
       "    </tr>\n",
       "  </thead>\n",
       "  <tbody>\n",
       "  </tbody>\n",
       "</table>\n",
       "</div>"
      ],
      "text/plain": [
       "Empty DataFrame\n",
       "Columns: [year, quarter, region, economic_activity, facility_size, no_of_faicility, saudi_employees, male_saudies, female_saudies, foreign_employees, male_foreigners, female_foreigners]\n",
       "Index: []"
      ]
     },
     "execution_count": 81,
     "metadata": {},
     "output_type": "execute_result"
    }
   ],
   "source": [
    "#test\n",
    "df.head(0)"
   ]
  },
  {
   "cell_type": "markdown",
   "id": "9b99a2e0-4a48-4a68-9a8b-326c87127c2d",
   "metadata": {},
   "source": [
    "**Reduce categories:**\n",
    "in this process we have categorized the 85 categories into 8 main categories along with `other` category for the rest.\n"
   ]
  },
  {
   "cell_type": "code",
   "execution_count": 82,
   "id": "11bd2618-7b91-43a2-a217-5a607b52b4ea",
   "metadata": {},
   "outputs": [],
   "source": [
    "#regex list that we want to match\n",
    "regex = ['.*خدمات.*' , '.*صُنع.*' , '.*صنع.*' , '.*صناعة.*' ,'.*تجارة.*' \n",
    "         , '.*للنقل.*' , '.*النقل.*' , '.*المكاتب.*' , '.*للمكاتب.*' , '.*البرمجة.*' \n",
    "         , '.*تعدين.*' ,'.*للتعدين.*' , '.*تشييد.*' , '.*المعمارية.*','.*الهندسة.*']\n",
    "#string to replace the corresponding regex with\n",
    "replace_with = ['الخدمات' , 'الصناعة' , 'الصناعة','الصناعة','التجارة','النقل','النقل','أنشطة المكاتب'\n",
    "                ,'أنشطة المكاتب','البرمجة','التعدين','التعدين','الأنشطه المعماريه والهندسيه' \n",
    "                , 'الأنشطه المعماريه والهندسيه','الأنشطه المعماريه والهندسيه']\n",
    "\n",
    "#loop for every regex and check if its in the column replace it \n",
    "for i in range(len(regex)):\n",
    "    df['economic_activity'] = df['economic_activity'].replace(regex[i] , replace_with[i] , regex=True)"
   ]
  },
  {
   "cell_type": "markdown",
   "id": "7a4a4a18-39ab-4947-a96b-78507ea236e4",
   "metadata": {},
   "source": [
    "**We have 15 regex we want to check if its found in any of `economic_activity` rows, we want to replace with the corresponding string**"
   ]
  },
  {
   "cell_type": "code",
   "execution_count": 83,
   "id": "cb3514ac-9ea8-4ea5-8197-f4b5fe2d3377",
   "metadata": {},
   "outputs": [
    {
     "data": {
      "text/plain": [
       "43"
      ]
     },
     "execution_count": 83,
     "metadata": {},
     "output_type": "execute_result"
    }
   ],
   "source": [
    "df['economic_activity'].nunique()"
   ]
  },
  {
   "cell_type": "markdown",
   "id": "23a6a3d1-3776-4290-90fc-a79061b37298",
   "metadata": {},
   "source": [
    "**After categorizing into 15 categories we still have 28 uncategorized activities which we will add to `أخرى` category.**"
   ]
  },
  {
   "cell_type": "code",
   "execution_count": 84,
   "id": "4dfb316a-8a68-40be-837a-4758a864393b",
   "metadata": {},
   "outputs": [
    {
     "data": {
      "text/plain": [
       "{'أنشطة المكاتب',\n",
       " 'الأنشطه المعماريه والهندسيه',\n",
       " 'البرمجة',\n",
       " 'التجارة',\n",
       " 'التعدين',\n",
       " 'الخدمات',\n",
       " 'الصناعة',\n",
       " 'النقل'}"
      ]
     },
     "execution_count": 84,
     "metadata": {},
     "output_type": "execute_result"
    }
   ],
   "source": [
    "unique_categories = set(replace_with)\n",
    "unique_categories"
   ]
  },
  {
   "cell_type": "markdown",
   "id": "acc24502-4d89-4611-ad5a-94c5f92c1bf1",
   "metadata": {},
   "source": [
    "**Add `أخرى` category that will take anything that is not in our `unique_categories`**"
   ]
  },
  {
   "cell_type": "code",
   "execution_count": 85,
   "id": "0ec7bc6a-b34f-4d2a-9628-699cb17686cc",
   "metadata": {
    "tags": []
   },
   "outputs": [],
   "source": [
    "#assign uncategorized actvities to `other` category\n",
    "def categorize(row):\n",
    "    if row['economic_activity'] not in unique_categories:\n",
    "        return 'أخرى'\n",
    "    return row['economic_activity']\n",
    "\n",
    "# Apply the function to create a new 'Categorized' column\n",
    "df['economic_activity'] = df.apply(categorize, axis=1)"
   ]
  },
  {
   "cell_type": "code",
   "execution_count": 86,
   "id": "565e831c-8ecf-458c-b822-279657330c8a",
   "metadata": {},
   "outputs": [
    {
     "data": {
      "text/plain": [
       "array(['الخدمات', 'أخرى', 'الصناعة', 'التعدين',\n",
       "       'الأنشطه المعماريه والهندسيه', 'التجارة', 'أنشطة المكاتب',\n",
       "       'البرمجة', 'النقل'], dtype=object)"
      ]
     },
     "execution_count": 86,
     "metadata": {},
     "output_type": "execute_result"
    }
   ],
   "source": [
    "df['economic_activity'].unique()"
   ]
  },
  {
   "cell_type": "markdown",
   "id": "f33ba82b-9f36-4a28-ae40-18bc624b8270",
   "metadata": {},
   "source": [
    "**Now we have 9 main categories**"
   ]
  },
  {
   "cell_type": "code",
   "execution_count": 87,
   "id": "34e39842-0439-4537-b42c-e8147be6ec49",
   "metadata": {
    "collapsed": true,
    "jupyter": {
     "outputs_hidden": true
    },
    "tags": []
   },
   "outputs": [
    {
     "data": {
      "text/html": [
       "<div>\n",
       "<style scoped>\n",
       "    .dataframe tbody tr th:only-of-type {\n",
       "        vertical-align: middle;\n",
       "    }\n",
       "\n",
       "    .dataframe tbody tr th {\n",
       "        vertical-align: top;\n",
       "    }\n",
       "\n",
       "    .dataframe thead th {\n",
       "        text-align: right;\n",
       "    }\n",
       "</style>\n",
       "<table border=\"1\" class=\"dataframe\">\n",
       "  <thead>\n",
       "    <tr style=\"text-align: right;\">\n",
       "      <th></th>\n",
       "      <th>year</th>\n",
       "      <th>quarter</th>\n",
       "      <th>region</th>\n",
       "      <th>economic_activity</th>\n",
       "      <th>facility_size</th>\n",
       "      <th>no_of_faicility</th>\n",
       "      <th>saudi_employees</th>\n",
       "      <th>male_saudies</th>\n",
       "      <th>female_saudies</th>\n",
       "      <th>foreign_employees</th>\n",
       "      <th>male_foreigners</th>\n",
       "      <th>female_foreigners</th>\n",
       "    </tr>\n",
       "  </thead>\n",
       "  <tbody>\n",
       "    <tr>\n",
       "      <th>102</th>\n",
       "      <td>2023</td>\n",
       "      <td>1</td>\n",
       "      <td>المنطقة الشرقية</td>\n",
       "      <td>الصناعة</td>\n",
       "      <td>صغيرة</td>\n",
       "      <td>296</td>\n",
       "      <td>1070</td>\n",
       "      <td>606</td>\n",
       "      <td>464</td>\n",
       "      <td>4687</td>\n",
       "      <td>4684</td>\n",
       "      <td>3</td>\n",
       "    </tr>\n",
       "    <tr>\n",
       "      <th>103</th>\n",
       "      <td>2023</td>\n",
       "      <td>1</td>\n",
       "      <td>المنطقة الشرقية</td>\n",
       "      <td>الصناعة</td>\n",
       "      <td>كبيرة</td>\n",
       "      <td>16</td>\n",
       "      <td>2176</td>\n",
       "      <td>1684</td>\n",
       "      <td>492</td>\n",
       "      <td>5396</td>\n",
       "      <td>5392</td>\n",
       "      <td>4</td>\n",
       "    </tr>\n",
       "    <tr>\n",
       "      <th>104</th>\n",
       "      <td>2023</td>\n",
       "      <td>1</td>\n",
       "      <td>المنطقة الشرقية</td>\n",
       "      <td>الصناعة</td>\n",
       "      <td>متناهية الصغر</td>\n",
       "      <td>377</td>\n",
       "      <td>128</td>\n",
       "      <td>77</td>\n",
       "      <td>51</td>\n",
       "      <td>902</td>\n",
       "      <td>899</td>\n",
       "      <td>3</td>\n",
       "    </tr>\n",
       "    <tr>\n",
       "      <th>105</th>\n",
       "      <td>2023</td>\n",
       "      <td>1</td>\n",
       "      <td>المنطقة الشرقية</td>\n",
       "      <td>الصناعة</td>\n",
       "      <td>متوسطة</td>\n",
       "      <td>139</td>\n",
       "      <td>3245</td>\n",
       "      <td>2010</td>\n",
       "      <td>1235</td>\n",
       "      <td>10389</td>\n",
       "      <td>10328</td>\n",
       "      <td>61</td>\n",
       "    </tr>\n",
       "    <tr>\n",
       "      <th>106</th>\n",
       "      <td>2023</td>\n",
       "      <td>1</td>\n",
       "      <td>منطقة الباحة</td>\n",
       "      <td>الصناعة</td>\n",
       "      <td>صغيرة</td>\n",
       "      <td>27</td>\n",
       "      <td>122</td>\n",
       "      <td>73</td>\n",
       "      <td>49</td>\n",
       "      <td>515</td>\n",
       "      <td>515</td>\n",
       "      <td>0</td>\n",
       "    </tr>\n",
       "    <tr>\n",
       "      <th>...</th>\n",
       "      <td>...</td>\n",
       "      <td>...</td>\n",
       "      <td>...</td>\n",
       "      <td>...</td>\n",
       "      <td>...</td>\n",
       "      <td>...</td>\n",
       "      <td>...</td>\n",
       "      <td>...</td>\n",
       "      <td>...</td>\n",
       "      <td>...</td>\n",
       "      <td>...</td>\n",
       "      <td>...</td>\n",
       "    </tr>\n",
       "    <tr>\n",
       "      <th>2756</th>\n",
       "      <td>2023</td>\n",
       "      <td>1</td>\n",
       "      <td>منطقة مكة المكرمة</td>\n",
       "      <td>أخرى</td>\n",
       "      <td>صغيرة</td>\n",
       "      <td>411</td>\n",
       "      <td>747</td>\n",
       "      <td>382</td>\n",
       "      <td>365</td>\n",
       "      <td>3415</td>\n",
       "      <td>3331</td>\n",
       "      <td>84</td>\n",
       "    </tr>\n",
       "    <tr>\n",
       "      <th>2757</th>\n",
       "      <td>2023</td>\n",
       "      <td>1</td>\n",
       "      <td>منطقة مكة المكرمة</td>\n",
       "      <td>أخرى</td>\n",
       "      <td>متناهية الصغر</td>\n",
       "      <td>15906</td>\n",
       "      <td>2160</td>\n",
       "      <td>1150</td>\n",
       "      <td>1010</td>\n",
       "      <td>26704</td>\n",
       "      <td>25862</td>\n",
       "      <td>842</td>\n",
       "    </tr>\n",
       "    <tr>\n",
       "      <th>2758</th>\n",
       "      <td>2023</td>\n",
       "      <td>1</td>\n",
       "      <td>منطقة مكة المكرمة</td>\n",
       "      <td>أخرى</td>\n",
       "      <td>متوسطة</td>\n",
       "      <td>8</td>\n",
       "      <td>225</td>\n",
       "      <td>129</td>\n",
       "      <td>96</td>\n",
       "      <td>585</td>\n",
       "      <td>582</td>\n",
       "      <td>3</td>\n",
       "    </tr>\n",
       "    <tr>\n",
       "      <th>2759</th>\n",
       "      <td>2023</td>\n",
       "      <td>1</td>\n",
       "      <td>منطقة نجران</td>\n",
       "      <td>أخرى</td>\n",
       "      <td>صغيرة</td>\n",
       "      <td>46</td>\n",
       "      <td>59</td>\n",
       "      <td>23</td>\n",
       "      <td>36</td>\n",
       "      <td>433</td>\n",
       "      <td>432</td>\n",
       "      <td>1</td>\n",
       "    </tr>\n",
       "    <tr>\n",
       "      <th>2760</th>\n",
       "      <td>2023</td>\n",
       "      <td>1</td>\n",
       "      <td>منطقة نجران</td>\n",
       "      <td>أخرى</td>\n",
       "      <td>متناهية الصغر</td>\n",
       "      <td>3306</td>\n",
       "      <td>239</td>\n",
       "      <td>131</td>\n",
       "      <td>108</td>\n",
       "      <td>6891</td>\n",
       "      <td>6849</td>\n",
       "      <td>42</td>\n",
       "    </tr>\n",
       "  </tbody>\n",
       "</table>\n",
       "<p>2357 rows × 12 columns</p>\n",
       "</div>"
      ],
      "text/plain": [
       "      year  quarter             region economic_activity  facility_size  \\\n",
       "102   2023        1    المنطقة الشرقية           الصناعة          صغيرة   \n",
       "103   2023        1    المنطقة الشرقية           الصناعة          كبيرة   \n",
       "104   2023        1    المنطقة الشرقية           الصناعة  متناهية الصغر   \n",
       "105   2023        1    المنطقة الشرقية           الصناعة         متوسطة   \n",
       "106   2023        1       منطقة الباحة           الصناعة          صغيرة   \n",
       "...    ...      ...                ...               ...            ...   \n",
       "2756  2023        1  منطقة مكة المكرمة              أخرى          صغيرة   \n",
       "2757  2023        1  منطقة مكة المكرمة              أخرى  متناهية الصغر   \n",
       "2758  2023        1  منطقة مكة المكرمة              أخرى         متوسطة   \n",
       "2759  2023        1        منطقة نجران              أخرى          صغيرة   \n",
       "2760  2023        1        منطقة نجران              أخرى  متناهية الصغر   \n",
       "\n",
       "      no_of_faicility  saudi_employees  male_saudies  female_saudies  \\\n",
       "102               296             1070           606             464   \n",
       "103                16             2176          1684             492   \n",
       "104               377              128            77              51   \n",
       "105               139             3245          2010            1235   \n",
       "106                27              122            73              49   \n",
       "...               ...              ...           ...             ...   \n",
       "2756              411              747           382             365   \n",
       "2757            15906             2160          1150            1010   \n",
       "2758                8              225           129              96   \n",
       "2759               46               59            23              36   \n",
       "2760             3306              239           131             108   \n",
       "\n",
       "      foreign_employees  male_foreigners  female_foreigners  \n",
       "102                4687             4684                  3  \n",
       "103                5396             5392                  4  \n",
       "104                 902              899                  3  \n",
       "105               10389            10328                 61  \n",
       "106                 515              515                  0  \n",
       "...                 ...              ...                ...  \n",
       "2756               3415             3331                 84  \n",
       "2757              26704            25862                842  \n",
       "2758                585              582                  3  \n",
       "2759                433              432                  1  \n",
       "2760               6891             6849                 42  \n",
       "\n",
       "[2357 rows x 12 columns]"
      ]
     },
     "execution_count": 87,
     "metadata": {},
     "output_type": "execute_result"
    }
   ],
   "source": [
    "#check for duplicated rows under the specified columns\n",
    "df[df.duplicated(subset=['region','economic_activity', 'facility_size'])==True]"
   ]
  },
  {
   "cell_type": "markdown",
   "id": "bb65446d-44df-4259-a06b-1c65759f878b",
   "metadata": {},
   "source": [
    "**There are 2357 duplicated rows from 2761. in order to solve this we need to perform aggregate sum on columns grouped by 3 features:**"
   ]
  },
  {
   "cell_type": "code",
   "execution_count": 88,
   "id": "3121576c-519c-41a6-893c-c7abe43878c6",
   "metadata": {},
   "outputs": [],
   "source": [
    "#create new clean copy to store the no-duplicates version.\n",
    "df_clean = df.groupby(['region', 'economic_activity', 'facility_size']).agg('sum').reset_index()"
   ]
  },
  {
   "cell_type": "code",
   "execution_count": 89,
   "id": "99f3cb3b-1f1e-4d52-9363-65cd41e87144",
   "metadata": {
    "tags": []
   },
   "outputs": [
    {
     "data": {
      "text/html": [
       "<div>\n",
       "<style scoped>\n",
       "    .dataframe tbody tr th:only-of-type {\n",
       "        vertical-align: middle;\n",
       "    }\n",
       "\n",
       "    .dataframe tbody tr th {\n",
       "        vertical-align: top;\n",
       "    }\n",
       "\n",
       "    .dataframe thead th {\n",
       "        text-align: right;\n",
       "    }\n",
       "</style>\n",
       "<table border=\"1\" class=\"dataframe\">\n",
       "  <thead>\n",
       "    <tr style=\"text-align: right;\">\n",
       "      <th></th>\n",
       "      <th>region</th>\n",
       "      <th>economic_activity</th>\n",
       "      <th>facility_size</th>\n",
       "      <th>year</th>\n",
       "      <th>quarter</th>\n",
       "      <th>no_of_faicility</th>\n",
       "      <th>saudi_employees</th>\n",
       "      <th>male_saudies</th>\n",
       "      <th>female_saudies</th>\n",
       "      <th>foreign_employees</th>\n",
       "      <th>male_foreigners</th>\n",
       "      <th>female_foreigners</th>\n",
       "    </tr>\n",
       "  </thead>\n",
       "  <tbody>\n",
       "    <tr>\n",
       "      <th>0</th>\n",
       "      <td>المنطقة الشرقية</td>\n",
       "      <td>أخرى</td>\n",
       "      <td>صغيرة</td>\n",
       "      <td>68782</td>\n",
       "      <td>34</td>\n",
       "      <td>3358</td>\n",
       "      <td>19873</td>\n",
       "      <td>8389</td>\n",
       "      <td>11484</td>\n",
       "      <td>30148</td>\n",
       "      <td>26841</td>\n",
       "      <td>3307</td>\n",
       "    </tr>\n",
       "    <tr>\n",
       "      <th>1</th>\n",
       "      <td>المنطقة الشرقية</td>\n",
       "      <td>أخرى</td>\n",
       "      <td>كبيرة</td>\n",
       "      <td>44506</td>\n",
       "      <td>22</td>\n",
       "      <td>137</td>\n",
       "      <td>101992</td>\n",
       "      <td>86221</td>\n",
       "      <td>15771</td>\n",
       "      <td>100274</td>\n",
       "      <td>75647</td>\n",
       "      <td>24627</td>\n",
       "    </tr>\n",
       "    <tr>\n",
       "      <th>2</th>\n",
       "      <td>المنطقة الشرقية</td>\n",
       "      <td>أخرى</td>\n",
       "      <td>متناهية الصغر</td>\n",
       "      <td>70805</td>\n",
       "      <td>35</td>\n",
       "      <td>16922</td>\n",
       "      <td>6239</td>\n",
       "      <td>2986</td>\n",
       "      <td>3253</td>\n",
       "      <td>32304</td>\n",
       "      <td>31801</td>\n",
       "      <td>503</td>\n",
       "    </tr>\n",
       "    <tr>\n",
       "      <th>3</th>\n",
       "      <td>المنطقة الشرقية</td>\n",
       "      <td>أخرى</td>\n",
       "      <td>متوسطة</td>\n",
       "      <td>56644</td>\n",
       "      <td>28</td>\n",
       "      <td>507</td>\n",
       "      <td>22943</td>\n",
       "      <td>11319</td>\n",
       "      <td>11624</td>\n",
       "      <td>29787</td>\n",
       "      <td>25006</td>\n",
       "      <td>4781</td>\n",
       "    </tr>\n",
       "    <tr>\n",
       "      <th>4</th>\n",
       "      <td>المنطقة الشرقية</td>\n",
       "      <td>أنشطة المكاتب</td>\n",
       "      <td>صغيرة</td>\n",
       "      <td>4046</td>\n",
       "      <td>2</td>\n",
       "      <td>176</td>\n",
       "      <td>1027</td>\n",
       "      <td>510</td>\n",
       "      <td>517</td>\n",
       "      <td>1412</td>\n",
       "      <td>1369</td>\n",
       "      <td>43</td>\n",
       "    </tr>\n",
       "    <tr>\n",
       "      <th>...</th>\n",
       "      <td>...</td>\n",
       "      <td>...</td>\n",
       "      <td>...</td>\n",
       "      <td>...</td>\n",
       "      <td>...</td>\n",
       "      <td>...</td>\n",
       "      <td>...</td>\n",
       "      <td>...</td>\n",
       "      <td>...</td>\n",
       "      <td>...</td>\n",
       "      <td>...</td>\n",
       "      <td>...</td>\n",
       "    </tr>\n",
       "    <tr>\n",
       "      <th>399</th>\n",
       "      <td>منطقة نجران</td>\n",
       "      <td>الصناعة</td>\n",
       "      <td>متناهية الصغر</td>\n",
       "      <td>40460</td>\n",
       "      <td>20</td>\n",
       "      <td>1390</td>\n",
       "      <td>153</td>\n",
       "      <td>67</td>\n",
       "      <td>86</td>\n",
       "      <td>3255</td>\n",
       "      <td>3182</td>\n",
       "      <td>73</td>\n",
       "    </tr>\n",
       "    <tr>\n",
       "      <th>400</th>\n",
       "      <td>منطقة نجران</td>\n",
       "      <td>الصناعة</td>\n",
       "      <td>متوسطة</td>\n",
       "      <td>18207</td>\n",
       "      <td>9</td>\n",
       "      <td>40</td>\n",
       "      <td>897</td>\n",
       "      <td>469</td>\n",
       "      <td>428</td>\n",
       "      <td>3018</td>\n",
       "      <td>3013</td>\n",
       "      <td>5</td>\n",
       "    </tr>\n",
       "    <tr>\n",
       "      <th>401</th>\n",
       "      <td>منطقة نجران</td>\n",
       "      <td>النقل</td>\n",
       "      <td>صغيرة</td>\n",
       "      <td>6069</td>\n",
       "      <td>3</td>\n",
       "      <td>152</td>\n",
       "      <td>261</td>\n",
       "      <td>115</td>\n",
       "      <td>146</td>\n",
       "      <td>1687</td>\n",
       "      <td>1685</td>\n",
       "      <td>2</td>\n",
       "    </tr>\n",
       "    <tr>\n",
       "      <th>402</th>\n",
       "      <td>منطقة نجران</td>\n",
       "      <td>النقل</td>\n",
       "      <td>متناهية الصغر</td>\n",
       "      <td>8092</td>\n",
       "      <td>4</td>\n",
       "      <td>1507</td>\n",
       "      <td>122</td>\n",
       "      <td>57</td>\n",
       "      <td>65</td>\n",
       "      <td>3850</td>\n",
       "      <td>3840</td>\n",
       "      <td>10</td>\n",
       "    </tr>\n",
       "    <tr>\n",
       "      <th>403</th>\n",
       "      <td>منطقة نجران</td>\n",
       "      <td>النقل</td>\n",
       "      <td>متوسطة</td>\n",
       "      <td>2023</td>\n",
       "      <td>1</td>\n",
       "      <td>5</td>\n",
       "      <td>104</td>\n",
       "      <td>72</td>\n",
       "      <td>32</td>\n",
       "      <td>381</td>\n",
       "      <td>381</td>\n",
       "      <td>0</td>\n",
       "    </tr>\n",
       "  </tbody>\n",
       "</table>\n",
       "<p>404 rows × 12 columns</p>\n",
       "</div>"
      ],
      "text/plain": [
       "              region economic_activity  facility_size   year  quarter  \\\n",
       "0    المنطقة الشرقية              أخرى          صغيرة  68782       34   \n",
       "1    المنطقة الشرقية              أخرى          كبيرة  44506       22   \n",
       "2    المنطقة الشرقية              أخرى  متناهية الصغر  70805       35   \n",
       "3    المنطقة الشرقية              أخرى         متوسطة  56644       28   \n",
       "4    المنطقة الشرقية     أنشطة المكاتب          صغيرة   4046        2   \n",
       "..               ...               ...            ...    ...      ...   \n",
       "399      منطقة نجران           الصناعة  متناهية الصغر  40460       20   \n",
       "400      منطقة نجران           الصناعة         متوسطة  18207        9   \n",
       "401      منطقة نجران             النقل          صغيرة   6069        3   \n",
       "402      منطقة نجران             النقل  متناهية الصغر   8092        4   \n",
       "403      منطقة نجران             النقل         متوسطة   2023        1   \n",
       "\n",
       "     no_of_faicility  saudi_employees  male_saudies  female_saudies  \\\n",
       "0               3358            19873          8389           11484   \n",
       "1                137           101992         86221           15771   \n",
       "2              16922             6239          2986            3253   \n",
       "3                507            22943         11319           11624   \n",
       "4                176             1027           510             517   \n",
       "..               ...              ...           ...             ...   \n",
       "399             1390              153            67              86   \n",
       "400               40              897           469             428   \n",
       "401              152              261           115             146   \n",
       "402             1507              122            57              65   \n",
       "403                5              104            72              32   \n",
       "\n",
       "     foreign_employees  male_foreigners  female_foreigners  \n",
       "0                30148            26841               3307  \n",
       "1               100274            75647              24627  \n",
       "2                32304            31801                503  \n",
       "3                29787            25006               4781  \n",
       "4                 1412             1369                 43  \n",
       "..                 ...              ...                ...  \n",
       "399               3255             3182                 73  \n",
       "400               3018             3013                  5  \n",
       "401               1687             1685                  2  \n",
       "402               3850             3840                 10  \n",
       "403                381              381                  0  \n",
       "\n",
       "[404 rows x 12 columns]"
      ]
     },
     "execution_count": 89,
     "metadata": {},
     "output_type": "execute_result"
    }
   ],
   "source": [
    "df_clean"
   ]
  },
  {
   "cell_type": "markdown",
   "id": "2c61b519-473d-407c-ad5f-357d1697cdcc",
   "metadata": {},
   "source": [
    "**Now after we solved the duplicates problem, we have 404 rows left.**"
   ]
  },
  {
   "cell_type": "code",
   "execution_count": 90,
   "id": "d23e9fbd-8a65-41a0-9c4a-52568f3acf3d",
   "metadata": {},
   "outputs": [
    {
     "data": {
      "text/html": [
       "<div>\n",
       "<style scoped>\n",
       "    .dataframe tbody tr th:only-of-type {\n",
       "        vertical-align: middle;\n",
       "    }\n",
       "\n",
       "    .dataframe tbody tr th {\n",
       "        vertical-align: top;\n",
       "    }\n",
       "\n",
       "    .dataframe thead th {\n",
       "        text-align: right;\n",
       "    }\n",
       "</style>\n",
       "<table border=\"1\" class=\"dataframe\">\n",
       "  <thead>\n",
       "    <tr style=\"text-align: right;\">\n",
       "      <th></th>\n",
       "      <th>region</th>\n",
       "      <th>economic_activity</th>\n",
       "      <th>facility_size</th>\n",
       "      <th>year</th>\n",
       "      <th>quarter</th>\n",
       "      <th>no_of_faicility</th>\n",
       "      <th>saudi_employees</th>\n",
       "      <th>male_saudies</th>\n",
       "      <th>female_saudies</th>\n",
       "      <th>foreign_employees</th>\n",
       "      <th>male_foreigners</th>\n",
       "      <th>female_foreigners</th>\n",
       "    </tr>\n",
       "  </thead>\n",
       "  <tbody>\n",
       "  </tbody>\n",
       "</table>\n",
       "</div>"
      ],
      "text/plain": [
       "Empty DataFrame\n",
       "Columns: [region, economic_activity, facility_size, year, quarter, no_of_faicility, saudi_employees, male_saudies, female_saudies, foreign_employees, male_foreigners, female_foreigners]\n",
       "Index: []"
      ]
     },
     "execution_count": 90,
     "metadata": {},
     "output_type": "execute_result"
    }
   ],
   "source": [
    "#test is there any duplicates\n",
    "df_clean[df_clean.duplicated(subset=['region','economic_activity', 'facility_size'])==True]"
   ]
  },
  {
   "cell_type": "markdown",
   "id": "39ad0c6e-242c-4d4f-9486-bc1b18abc75b",
   "metadata": {},
   "source": [
    "**Save the clean copy of the dataframe in csv file.**"
   ]
  },
  {
   "cell_type": "code",
   "execution_count": 91,
   "id": "59e009f6-da8c-4cb0-886f-8ddf55edb12f",
   "metadata": {},
   "outputs": [],
   "source": [
    "#save the cleaned version\n",
    "df.to_csv('employees-cleaned.csv' , index=False)"
   ]
  },
  {
   "cell_type": "markdown",
   "id": "54ad668c-9bea-4c16-ae1c-17082e5ae26e",
   "metadata": {},
   "source": [
    "> ## 2. Data Analysis"
   ]
  },
  {
   "cell_type": "markdown",
   "id": "43d8f871-0e04-48a5-96c9-f2e2dc811a61",
   "metadata": {},
   "source": [
    "**In this section we'll focus on answering the questions:**\n",
    "- How does the facility size affect the variety of employees?\n",
    "- What is the primary focus economic activity of each region?\n",
    "- how ficilities are distributed on regions around Saudi Arabia?\n",
    "- what are the top 5 regions with the highest saudi employments number?\n",
    "- what is the ratio of the number of saudi employees compared to the number of foreign employees in large facilities?"
   ]
  },
  {
   "cell_type": "markdown",
   "id": "7368a9cf-40c6-4820-9b4f-da85f0b7f5a0",
   "metadata": {},
   "source": [
    "# - Exploaratory Data Analysis (EDA)\n",
    "\n",
    "**First, lets perform exploaratory data analysis:**"
   ]
  },
  {
   "cell_type": "code",
   "execution_count": 92,
   "id": "c167f54d-fd57-4f25-9ba8-afc53dc97ece",
   "metadata": {},
   "outputs": [
    {
     "name": "stdout",
     "output_type": "stream",
     "text": [
      "Requirement already satisfied: python-bidi in /Users/rare/opt/anaconda3/envs/data_analysis1/lib/python3.6/site-packages (0.4.2)\n",
      "Requirement already satisfied: six in /Users/rare/opt/anaconda3/envs/data_analysis1/lib/python3.6/site-packages (from python-bidi) (1.16.0)\n"
     ]
    }
   ],
   "source": [
    "!pip install python-bidi"
   ]
  },
  {
   "cell_type": "code",
   "execution_count": 93,
   "id": "4802a395-d41f-4f26-871b-55160bdb767e",
   "metadata": {},
   "outputs": [
    {
     "name": "stdout",
     "output_type": "stream",
     "text": [
      "Requirement already satisfied: arabic-reshaper in /Users/rare/opt/anaconda3/envs/data_analysis1/lib/python3.6/site-packages (3.0.0)\n"
     ]
    }
   ],
   "source": [
    "!pip install --upgrade arabic-reshaper"
   ]
  },
  {
   "cell_type": "code",
   "execution_count": 351,
   "id": "5d112d37-a567-49c5-b30b-650ef7ac7824",
   "metadata": {},
   "outputs": [],
   "source": [
    "import matplotlib.pyplot as plt\n",
    "import matplotlib.axis as ax\n",
    "import seaborn as sns\n",
    "from bidi.algorithm import get_display\n",
    "import arabic_reshaper\n",
    "\n",
    "\n",
    "#set color palettes\n",
    "palette_heatmap = sns.color_palette(\"ch:start=.2,rot=-.3\", as_cmap=True)\n",
    "crest=sns.color_palette(\"crest\")\n",
    "crest_cmap=sns.color_palette(\"crest\" , as_cmap=True)"
   ]
  },
  {
   "cell_type": "markdown",
   "id": "191ac43b-307f-4611-9b27-ab255ef863ec",
   "metadata": {},
   "source": [
    "#### **Plot a `pairplot` to explore relationships.**"
   ]
  },
  {
   "cell_type": "code",
   "execution_count": null,
   "id": "29bdaa88-941c-48b0-99bf-ddae86824ef4",
   "metadata": {},
   "outputs": [],
   "source": []
  },
  {
   "cell_type": "markdown",
   "id": "8b91a63a-dd02-465c-b35e-f421706fd25c",
   "metadata": {},
   "source": [
    "#### **counts of employees in each region**"
   ]
  },
  {
   "cell_type": "code",
   "execution_count": null,
   "id": "3f1333c8-5092-40c5-93db-a123b37d446f",
   "metadata": {},
   "outputs": [],
   "source": []
  },
  {
   "cell_type": "markdown",
   "id": "d8a2c86a-e384-4cc4-88a6-f570dfc3547c",
   "metadata": {},
   "source": [
    "#### **Plot the number of saudi employees and foreign employees in each `region`**"
   ]
  },
  {
   "cell_type": "code",
   "execution_count": 335,
   "id": "4b4ee7a6-89a3-45dc-9cd2-e508d144eded",
   "metadata": {},
   "outputs": [
    {
     "data": {
      "text/html": [
       "<div>\n",
       "<style scoped>\n",
       "    .dataframe tbody tr th:only-of-type {\n",
       "        vertical-align: middle;\n",
       "    }\n",
       "\n",
       "    .dataframe tbody tr th {\n",
       "        vertical-align: top;\n",
       "    }\n",
       "\n",
       "    .dataframe thead th {\n",
       "        text-align: right;\n",
       "    }\n",
       "</style>\n",
       "<table border=\"1\" class=\"dataframe\">\n",
       "  <thead>\n",
       "    <tr style=\"text-align: right;\">\n",
       "      <th></th>\n",
       "      <th>region</th>\n",
       "      <th>saudi_employees</th>\n",
       "      <th>foreign_employees</th>\n",
       "    </tr>\n",
       "  </thead>\n",
       "  <tbody>\n",
       "    <tr>\n",
       "      <th>0</th>\n",
       "      <td>المنطقة الشرقية</td>\n",
       "      <td>14755.777778</td>\n",
       "      <td>38996.222222</td>\n",
       "    </tr>\n",
       "    <tr>\n",
       "      <th>1</th>\n",
       "      <td>منطقة الباحة</td>\n",
       "      <td>273.125000</td>\n",
       "      <td>1352.875000</td>\n",
       "    </tr>\n",
       "    <tr>\n",
       "      <th>2</th>\n",
       "      <td>منطقة الجوف</td>\n",
       "      <td>367.000000</td>\n",
       "      <td>1997.555556</td>\n",
       "    </tr>\n",
       "    <tr>\n",
       "      <th>3</th>\n",
       "      <td>منطقة الحدود الشمالية</td>\n",
       "      <td>241.142857</td>\n",
       "      <td>1400.892857</td>\n",
       "    </tr>\n",
       "    <tr>\n",
       "      <th>4</th>\n",
       "      <td>منطقة الرياض</td>\n",
       "      <td>27008.055556</td>\n",
       "      <td>97099.888889</td>\n",
       "    </tr>\n",
       "    <tr>\n",
       "      <th>5</th>\n",
       "      <td>منطقة القصيم</td>\n",
       "      <td>1708.878788</td>\n",
       "      <td>10023.000000</td>\n",
       "    </tr>\n",
       "    <tr>\n",
       "      <th>6</th>\n",
       "      <td>منطقة المدينة المنورة</td>\n",
       "      <td>2072.617647</td>\n",
       "      <td>7660.176471</td>\n",
       "    </tr>\n",
       "    <tr>\n",
       "      <th>7</th>\n",
       "      <td>منطقة تبوك</td>\n",
       "      <td>567.593750</td>\n",
       "      <td>2699.937500</td>\n",
       "    </tr>\n",
       "    <tr>\n",
       "      <th>8</th>\n",
       "      <td>منطقة جازان</td>\n",
       "      <td>773.866667</td>\n",
       "      <td>4291.500000</td>\n",
       "    </tr>\n",
       "    <tr>\n",
       "      <th>9</th>\n",
       "      <td>منطقة حائل</td>\n",
       "      <td>583.172414</td>\n",
       "      <td>3743.241379</td>\n",
       "    </tr>\n",
       "    <tr>\n",
       "      <th>10</th>\n",
       "      <td>منطقة عسير</td>\n",
       "      <td>1758.406250</td>\n",
       "      <td>7861.875000</td>\n",
       "    </tr>\n",
       "    <tr>\n",
       "      <th>11</th>\n",
       "      <td>منطقة مكة المكرمة</td>\n",
       "      <td>12496.861111</td>\n",
       "      <td>39019.222222</td>\n",
       "    </tr>\n",
       "    <tr>\n",
       "      <th>12</th>\n",
       "      <td>منطقة نجران</td>\n",
       "      <td>581.222222</td>\n",
       "      <td>3837.037037</td>\n",
       "    </tr>\n",
       "  </tbody>\n",
       "</table>\n",
       "</div>"
      ],
      "text/plain": [
       "                   region  saudi_employees  foreign_employees\n",
       "0         المنطقة الشرقية     14755.777778       38996.222222\n",
       "1            منطقة الباحة       273.125000        1352.875000\n",
       "2             منطقة الجوف       367.000000        1997.555556\n",
       "3   منطقة الحدود الشمالية       241.142857        1400.892857\n",
       "4            منطقة الرياض     27008.055556       97099.888889\n",
       "5            منطقة القصيم      1708.878788       10023.000000\n",
       "6   منطقة المدينة المنورة      2072.617647        7660.176471\n",
       "7              منطقة تبوك       567.593750        2699.937500\n",
       "8             منطقة جازان       773.866667        4291.500000\n",
       "9              منطقة حائل       583.172414        3743.241379\n",
       "10             منطقة عسير      1758.406250        7861.875000\n",
       "11      منطقة مكة المكرمة     12496.861111       39019.222222\n",
       "12            منطقة نجران       581.222222        3837.037037"
      ]
     },
     "execution_count": 335,
     "metadata": {},
     "output_type": "execute_result"
    }
   ],
   "source": [
    "saudies_foreigners_df = df_clean.iloc[:, [0,6,9]]\n",
    "saudies_foreigners_df=saudies_foreigners_df.groupby(['region'])[['saudi_employees','foreign_employees']].mean()\n",
    "saudies_foreigners_df = saudies_foreigners_df.reset_index()\n",
    "saudies_foreigners_df = saudies_foreigners_df.sort_values(by='region')\n",
    "saudies_foreigners_df"
   ]
  },
  {
   "cell_type": "code",
   "execution_count": 352,
   "id": "b96742ac-fd5f-4de3-af73-4dfa885212b6",
   "metadata": {},
   "outputs": [
    {
     "data": {
      "image/png": "[encoded data removed]",
      "text/plain": [
       "<Figure size 864x864 with 1 Axes>"
      ]
     },
     "metadata": {},
     "output_type": "display_data"
    }
   ],
   "source": [
    "#plot\n",
    "ax = saudies_foreigners_df.sort_values(by='saudi_employees' , ascending=True).plot(kind='barh' , figsize=(12,12), color=crest )\n",
    "# Customize the x-axis\n",
    "ax.set_yticks(list(range(0, len(regions_reshaped)))) \n",
    "# Customize the xtick labels\n",
    "ax.set_yticklabels(regions_reshaped , rotation=45);"
   ]
  },
  {
   "cell_type": "markdown",
   "id": "ad2ddd80-03f3-4c86-9b0f-0c03dcfeb444",
   "metadata": {},
   "source": [
    "#### **plot a heatmap of count of facilities according to the `economic_activity` and `region`**"
   ]
  },
  {
   "cell_type": "code",
   "execution_count": 354,
   "id": "9353c938-5d12-468c-8800-c17412aa2d52",
   "metadata": {},
   "outputs": [],
   "source": [
    "#prepare data for heatmap\n",
    "grouped_by_RA = df_clean.groupby(['region' , 'economic_activity'])['no_of_faicility'].sum()\n",
    "grouped_by_RA_df = pd.DataFrame(grouped_by_RA)\n",
    "pivot_table = grouped_by_RA_df.pivot_table(values='no_of_faicility', index='economic_activity', columns='region')\n",
    "\n",
    "#reshape regions\n",
    "regions_dict = {idx:value for idx , value in enumerate(df_clean[\"region\"].unique())}\n",
    "regions_reshaped = list({get_display(arabic_reshaper.reshape(v)) for v in regions_dict.values()})\n",
    "\n",
    "#list of activities reshaped\n",
    "activities_dict = {idx:value for idx , value in enumerate(df_clean[\"economic_activity\"].unique())}\n",
    "activities_reshaped = list({get_display(arabic_reshaper.reshape(v)) for v in activities_dict.values()})"
   ]
  },
  {
   "cell_type": "code",
   "execution_count": 355,
   "id": "2801836e-377e-43fe-b0f9-7cae0b6491c6",
   "metadata": {},
   "outputs": [
    {
     "data": {
      "image/png": "[encoded data removed]",
      "text/plain": [
       "<Figure size 1080x576 with 2 Axes>"
      ]
     },
     "metadata": {},
     "output_type": "display_data"
    }
   ],
   "source": [
    "#subplots \n",
    "fig , ax = plt.subplots()\n",
    "\n",
    "# Create a heatmap\n",
    "ax = sns.heatmap(pivot_table, annot = True  , fmt='d',cmap = crest_cmap , vmin=0 , vmax=50000)\n",
    "\n",
    "fig.set_size_inches(15, 8)\n",
    "\n",
    "\n",
    "# Customize the x-axis\n",
    "ax.set_xticks(list(range(0, len(regions_reshaped)))) \n",
    "# Customize the xtick labels\n",
    "ax.set_xticklabels(regions_reshaped)\n",
    "\n",
    "\n",
    "#set y-ticks\n",
    "ax.set_yticks(list(range(0, len(activities_reshaped))))\n",
    "#set y-tick lable \n",
    "ax.set_yticklabels(activities_reshaped)\n",
    "\n",
    "\n",
    "plt.title(get_display(arabic_reshaper.reshape('عدد المنشآت في كل منطقه حسب النشاط الاقتصادي')))\n",
    "plt.show()"
   ]
  },
  {
   "cell_type": "markdown",
   "id": "3176b0db-69b2-494e-bc19-300ae795ecfc",
   "metadata": {},
   "source": [
    "#### **plot the relationship between `no_of_faculty` and `total_employees` (`total_employees`: sum of `saudi_employees` + `foreign_employees`)**"
   ]
  },
  {
   "cell_type": "code",
   "execution_count": 365,
   "id": "3593dd31-4689-461d-806f-bf13a5fd296e",
   "metadata": {},
   "outputs": [
    {
     "name": "stderr",
     "output_type": "stream",
     "text": [
      "/Users/rare/opt/anaconda3/envs/data_analysis1/lib/python3.6/site-packages/ipykernel_launcher.py:3: SettingWithCopyWarning:\n",
      "\n",
      "\n",
      "A value is trying to be set on a copy of a slice from a DataFrame.\n",
      "Try using .loc[row_indexer,col_indexer] = value instead\n",
      "\n",
      "See the caveats in the documentation: https://pandas.pydata.org/pandas-docs/stable/user_guide/indexing.html#returning-a-view-versus-a-copy\n",
      "\n"
     ]
    },
    {
     "data": {
      "text/html": [
       "<div>\n",
       "<style scoped>\n",
       "    .dataframe tbody tr th:only-of-type {\n",
       "        vertical-align: middle;\n",
       "    }\n",
       "\n",
       "    .dataframe tbody tr th {\n",
       "        vertical-align: top;\n",
       "    }\n",
       "\n",
       "    .dataframe thead th {\n",
       "        text-align: right;\n",
       "    }\n",
       "</style>\n",
       "<table border=\"1\" class=\"dataframe\">\n",
       "  <thead>\n",
       "    <tr style=\"text-align: right;\">\n",
       "      <th></th>\n",
       "      <th>no_of_faicility</th>\n",
       "      <th>saudi_employees</th>\n",
       "      <th>foreign_employees</th>\n",
       "      <th>total_employees</th>\n",
       "    </tr>\n",
       "  </thead>\n",
       "  <tbody>\n",
       "    <tr>\n",
       "      <th>0</th>\n",
       "      <td>3358</td>\n",
       "      <td>19873</td>\n",
       "      <td>30148</td>\n",
       "      <td>50021</td>\n",
       "    </tr>\n",
       "    <tr>\n",
       "      <th>1</th>\n",
       "      <td>137</td>\n",
       "      <td>101992</td>\n",
       "      <td>100274</td>\n",
       "      <td>202266</td>\n",
       "    </tr>\n",
       "    <tr>\n",
       "      <th>2</th>\n",
       "      <td>16922</td>\n",
       "      <td>6239</td>\n",
       "      <td>32304</td>\n",
       "      <td>38543</td>\n",
       "    </tr>\n",
       "    <tr>\n",
       "      <th>3</th>\n",
       "      <td>507</td>\n",
       "      <td>22943</td>\n",
       "      <td>29787</td>\n",
       "      <td>52730</td>\n",
       "    </tr>\n",
       "    <tr>\n",
       "      <th>4</th>\n",
       "      <td>176</td>\n",
       "      <td>1027</td>\n",
       "      <td>1412</td>\n",
       "      <td>2439</td>\n",
       "    </tr>\n",
       "    <tr>\n",
       "      <th>...</th>\n",
       "      <td>...</td>\n",
       "      <td>...</td>\n",
       "      <td>...</td>\n",
       "      <td>...</td>\n",
       "    </tr>\n",
       "    <tr>\n",
       "      <th>399</th>\n",
       "      <td>1390</td>\n",
       "      <td>153</td>\n",
       "      <td>3255</td>\n",
       "      <td>3408</td>\n",
       "    </tr>\n",
       "    <tr>\n",
       "      <th>400</th>\n",
       "      <td>40</td>\n",
       "      <td>897</td>\n",
       "      <td>3018</td>\n",
       "      <td>3915</td>\n",
       "    </tr>\n",
       "    <tr>\n",
       "      <th>401</th>\n",
       "      <td>152</td>\n",
       "      <td>261</td>\n",
       "      <td>1687</td>\n",
       "      <td>1948</td>\n",
       "    </tr>\n",
       "    <tr>\n",
       "      <th>402</th>\n",
       "      <td>1507</td>\n",
       "      <td>122</td>\n",
       "      <td>3850</td>\n",
       "      <td>3972</td>\n",
       "    </tr>\n",
       "    <tr>\n",
       "      <th>403</th>\n",
       "      <td>5</td>\n",
       "      <td>104</td>\n",
       "      <td>381</td>\n",
       "      <td>485</td>\n",
       "    </tr>\n",
       "  </tbody>\n",
       "</table>\n",
       "<p>404 rows × 4 columns</p>\n",
       "</div>"
      ],
      "text/plain": [
       "     no_of_faicility  saudi_employees  foreign_employees  total_employees\n",
       "0               3358            19873              30148            50021\n",
       "1                137           101992             100274           202266\n",
       "2              16922             6239              32304            38543\n",
       "3                507            22943              29787            52730\n",
       "4                176             1027               1412             2439\n",
       "..               ...              ...                ...              ...\n",
       "399             1390              153               3255             3408\n",
       "400               40              897               3018             3915\n",
       "401              152              261               1687             1948\n",
       "402             1507              122               3850             3972\n",
       "403                5              104                381              485\n",
       "\n",
       "[404 rows x 4 columns]"
      ]
     },
     "execution_count": 365,
     "metadata": {},
     "output_type": "execute_result"
    }
   ],
   "source": [
    "#prepare data for plotting\n",
    "total_df = df_clean.iloc[: , [5,6,9]]\n",
    "total_df['total_employees'] = total_df['saudi_employees'] + total_df['foreign_employees']\n",
    "total_df"
   ]
  },
  {
   "cell_type": "code",
   "execution_count": 379,
   "id": "c0e6e321-7568-4db5-8d56-0cf86e9e9a2b",
   "metadata": {},
   "outputs": [
    {
     "data": {
      "image/png": "[encoded data removed]",
      "text/plain": [
       "<Figure size 864x576 with 1 Axes>"
      ]
     },
     "metadata": {},
     "output_type": "display_data"
    }
   ],
   "source": [
    "#plotting\n",
    "fig,ax=plt.subplots()\n",
    "ax = sns.scatterplot(data=total_df, x='total_employees', y='no_of_faicility')\n",
    "\n",
    "fig.set_size_inches(12, 8)\n",
    "\n",
    "plt.ylim(0,5000)\n",
    "plt.ylim(0,12000)\n",
    "\n",
    "\n",
    "plt.title(get_display(arabic_reshaper.reshape('عدد المنشآت في كل منطقه حسب النشاط الاقتصادي')))\n",
    "plt.show()"
   ]
  },
  {
   "cell_type": "markdown",
   "id": "3a708614-515a-4678-a0f2-ab88d1118225",
   "metadata": {},
   "source": [
    "#### **Plot the distribution of `facility_size` in each `regions`**"
   ]
  },
  {
   "cell_type": "code",
   "execution_count": 244,
   "id": "559ff53a-0eb9-40ac-8d59-843a85aecce5",
   "metadata": {
    "tags": []
   },
   "outputs": [],
   "source": [
    "grouped_by_Fsize = df_clean.groupby(['region' ,'facility_size'])['no_of_faicility'].sum()\n",
    "grouped_by_Fsize_df = pd.DataFrame(grouped_by_Fsize)\n",
    "pivot_table2 = grouped_by_Fsize_df.pivot_table(values='no_of_faicility' , index='facility_size' , columns ='region' )\n",
    "\n",
    "#list of facility sizes reshaped\n",
    "Fsizes_dict = {idx:value for idx , value in enumerate(df_clean['facility_size'].unique())}\n",
    "Fsizes_reshaped = list({get_display(arabic_reshaper.reshape(v)) for v in Fsizes_dict.values()})"
   ]
  },
  {
   "cell_type": "code",
   "execution_count": 363,
   "id": "3f9719d0-86ca-4142-a451-6f3e0896a1a4",
   "metadata": {},
   "outputs": [
    {
     "data": {
      "image/png": "[encoded data removed]",
      "text/plain": [
       "<Figure size 1296x288 with 2 Axes>"
      ]
     },
     "metadata": {},
     "output_type": "display_data"
    }
   ],
   "source": [
    "#subplots \n",
    "fig , ax = plt.subplots()\n",
    "\n",
    "# Create a heatmap\n",
    "ax = sns.heatmap(pivot_table2, annot = True  , fmt='d',cmap =crest_cmap , vmin=0 , vmax=100000)\n",
    "\n",
    "fig.set_size_inches(18, 4)\n",
    "\n",
    "\n",
    "# Customize the x-axis\n",
    "ax.set_xticks(list(range(0, len(regions_reshaped)))) \n",
    "# Customize the xtick labels\n",
    "ax.set_xticklabels(regions_reshaped , rotation=30)\n",
    "\n",
    "\n",
    "#set y-ticks\n",
    "ax.set_yticks(list(range(0, len(Fsizes_reshaped))))\n",
    "#set y-tick lable \n",
    "ax.set_yticklabels(Fsizes_reshaped, rotation=30)\n",
    "\n",
    "\n",
    "\n",
    "plt.title(get_display(arabic_reshaper.reshape('عدد المنشآت في كل منطقه حسب حجم المنشأة')))\n",
    "plt.show()"
   ]
  },
  {
   "cell_type": "code",
   "execution_count": 241,
   "id": "4e034d34-0745-4bc4-8d56-bf8ab25304ec",
   "metadata": {},
   "outputs": [
    {
     "data": {
      "image/png": "[encoded data removed]",
      "text/plain": [
       "<Figure size 864x360 with 2 Axes>"
      ]
     },
     "metadata": {},
     "output_type": "display_data"
    }
   ],
   "source": [
    "# Sample data for the bar plots\n",
    "categories = ['Category A', 'Category B', 'Category C']\n",
    "values1 = [10, 15, 20]\n",
    "values2 = [15, 10, 25]\n",
    "\n",
    "# Create a figure with two subplots side by side\n",
    "fig, (ax1, ax2) = plt.subplots(1, 2, figsize=(12, 5))\n",
    "\n",
    "# Plot the first bar chart in the left subplot (ax1)\n",
    "ax1.bar(categories, values1, color='blue')\n",
    "ax1.set_title('Bar Chart 1')\n",
    "\n",
    "# Plot the second bar chart in the right subplot (ax2)\n",
    "ax2.bar(categories, values2, color='green')\n",
    "ax2.set_title('Bar Chart 2')\n",
    "\n",
    "# Add labels and adjust layout\n",
    "ax1.set_ylabel('Values')\n",
    "ax2.set_ylabel('Values')\n",
    "plt.tight_layout()\n",
    "\n",
    "# Display the plot\n",
    "plt.show()"
   ]
  },
  {
   "cell_type": "code",
   "execution_count": null,
   "id": "de003ef2-ef48-4812-9eb9-80016d29cef3",
   "metadata": {},
   "outputs": [],
   "source": []
  },
  {
   "cell_type": "markdown",
   "id": "9312a545-1f51-4fb0-80a7-f5c671dc1b95",
   "metadata": {},
   "source": [
    "> ## 3. Data visualization"
   ]
  },
  {
   "cell_type": "code",
   "execution_count": 35,
   "id": "5351f6e0-f6c2-4242-876f-ab3f12546fd8",
   "metadata": {},
   "outputs": [
    {
     "name": "stdout",
     "output_type": "stream",
     "text": [
      "Requirement already satisfied: plotly==5.17.0 in /Users/rare/opt/anaconda3/envs/data_analysis1/lib/python3.6/site-packages (5.17.0)\n",
      "Requirement already satisfied: packaging in /Users/rare/opt/anaconda3/envs/data_analysis1/lib/python3.6/site-packages (from plotly==5.17.0) (21.3)\n",
      "Requirement already satisfied: tenacity>=6.2.0 in /Users/rare/opt/anaconda3/envs/data_analysis1/lib/python3.6/site-packages (from plotly==5.17.0) (8.2.2)\n",
      "Requirement already satisfied: pyparsing!=3.0.5,>=2.0.2 in /Users/rare/opt/anaconda3/envs/data_analysis1/lib/python3.6/site-packages (from packaging->plotly==5.17.0) (3.0.4)\n"
     ]
    }
   ],
   "source": [
    "!pip install plotly==5.17.0"
   ]
  },
  {
   "cell_type": "code",
   "execution_count": 36,
   "id": "99bf749a-7831-4b83-bea6-ffc63a5273af",
   "metadata": {
    "collapsed": true,
    "jupyter": {
     "outputs_hidden": true
    },
    "tags": []
   },
   "outputs": [
    {
     "name": "stderr",
     "output_type": "stream",
     "text": [
      "/Users/rare/opt/anaconda3/envs/data_analysis1/lib/python3.6/site-packages/ipykernel_launcher.py:2: FutureWarning: Indexing with multiple keys (implicitly converted to a tuple of keys) will be deprecated, use a list instead.\n",
      "  \n"
     ]
    },
    {
     "ename": "TypeError",
     "evalue": "bar() missing 1 required positional argument: 'height'",
     "output_type": "error",
     "traceback": [
      "\u001b[0;31m---------------------------------------------------------------------------\u001b[0m",
      "\u001b[0;31mTypeError\u001b[0m                                 Traceback (most recent call last)",
      "\u001b[0;32m<ipython-input-36-0d4c20b57326>\u001b[0m in \u001b[0;36m<module>\u001b[0;34m\u001b[0m\n\u001b[1;32m      8\u001b[0m           get_display(arabic_reshaper.reshape('متناهية الصغر'))]\n\u001b[1;32m      9\u001b[0m \u001b[0;31m# Create a bar chart\u001b[0m\u001b[0;34m\u001b[0m\u001b[0;34m\u001b[0m\u001b[0;34m\u001b[0m\u001b[0m\n\u001b[0;32m---> 10\u001b[0;31m \u001b[0mplt\u001b[0m\u001b[0;34m.\u001b[0m\u001b[0mbar\u001b[0m\u001b[0;34m(\u001b[0m\u001b[0mdf\u001b[0m\u001b[0;34m)\u001b[0m\u001b[0;34m\u001b[0m\u001b[0;34m\u001b[0m\u001b[0m\n\u001b[0m\u001b[1;32m     11\u001b[0m \u001b[0;34m\u001b[0m\u001b[0m\n\u001b[1;32m     12\u001b[0m \u001b[0;31m# Show the plot\u001b[0m\u001b[0;34m\u001b[0m\u001b[0;34m\u001b[0m\u001b[0;34m\u001b[0m\u001b[0m\n",
      "\u001b[0;31mTypeError\u001b[0m: bar() missing 1 required positional argument: 'height'"
     ]
    }
   ],
   "source": [
    "#plot facility size per saudi_males sudi_females foreign_males foreign_females.(one category vs.mutiple quantities)\n",
    "grouped1 = df_clean.groupby(['facility_size'])['male_saudies' , 'female_saudies' , 'male_foreigners' , 'female_foreigners'].sum()\n",
    "import plotly.express as px\n",
    "\n",
    "df = pd.DataFrame(grouped1)\n",
    "labels = [get_display(arabic_reshaper.reshape('صغيرة')),get_display(arabic_reshaper.reshape('كبيرة')),\n",
    "          get_display(arabic_reshaper.reshape('متوسطة')),\n",
    "          get_display(arabic_reshaper.reshape('متناهية الصغر'))]\n",
    "# Create a bar chart\n",
    "plt.bar(df)\n",
    "\n",
    "# Show the plot\n",
    "fig.show()\n"
   ]
  },
  {
   "cell_type": "code",
   "execution_count": 55,
   "id": "0f755ef9-4fda-45bc-8dc1-d18748b5f726",
   "metadata": {
    "collapsed": true,
    "jupyter": {
     "outputs_hidden": true
    },
    "tags": []
   },
   "outputs": [
    {
     "name": "stdout",
     "output_type": "stream",
     "text": [
      "Requirement already satisfied: matplotlib in /Users/rare/opt/anaconda3/envs/data_analysis1/lib/python3.6/site-packages (3.3.4)\n",
      "Requirement already satisfied: numpy>=1.15 in /Users/rare/opt/anaconda3/envs/data_analysis1/lib/python3.6/site-packages (from matplotlib) (1.19.2)\n",
      "Requirement already satisfied: pyparsing!=2.0.4,!=2.1.2,!=2.1.6,>=2.0.3 in /Users/rare/opt/anaconda3/envs/data_analysis1/lib/python3.6/site-packages (from matplotlib) (3.0.4)\n",
      "Requirement already satisfied: python-dateutil>=2.1 in /Users/rare/opt/anaconda3/envs/data_analysis1/lib/python3.6/site-packages (from matplotlib) (2.8.2)\n",
      "Requirement already satisfied: kiwisolver>=1.0.1 in /Users/rare/opt/anaconda3/envs/data_analysis1/lib/python3.6/site-packages (from matplotlib) (1.3.1)\n",
      "Requirement already satisfied: cycler>=0.10 in /Users/rare/opt/anaconda3/envs/data_analysis1/lib/python3.6/site-packages (from matplotlib) (0.11.0)\n",
      "Requirement already satisfied: pillow>=6.2.0 in /Users/rare/opt/anaconda3/envs/data_analysis1/lib/python3.6/site-packages (from matplotlib) (8.3.1)\n",
      "Requirement already satisfied: six>=1.5 in /Users/rare/opt/anaconda3/envs/data_analysis1/lib/python3.6/site-packages (from python-dateutil>=2.1->matplotlib) (1.16.0)\n"
     ]
    }
   ],
   "source": [
    "!pip install -U matplotlib"
   ]
  },
  {
   "cell_type": "code",
   "execution_count": 57,
   "id": "bc93fb01-6e00-424e-8db0-7b2c34eb3707",
   "metadata": {
    "collapsed": true,
    "jupyter": {
     "outputs_hidden": true,
     "source_hidden": true
    },
    "tags": []
   },
   "outputs": [
    {
     "data": {
      "image/png": "[encoded data removed]",
      "text/plain": [
       "<Figure size 432x288 with 1 Axes>"
      ]
     },
     "metadata": {
      "needs_background": "light"
     },
     "output_type": "display_data"
    }
   ],
   "source": [
    "fig, ax = plt.subplots()\n",
    "\n",
    "fruits = ['apple', 'blueberry', 'cherry', 'orange']\n",
    "counts = [40, 100, 30, 55]\n",
    "bar_labels = ['red', 'blue', '_red', 'orange']\n",
    "bar_colors = ['tab:red', 'tab:blue', 'tab:red', 'tab:orange']\n",
    "\n",
    "ax.bar(fruits, counts, label=bar_labels, color=bar_colors)\n",
    "\n",
    "ax.set_ylabel('fruit supply')\n",
    "ax.set_title('Fruit supply by kind and color')\n",
    "ax.legend(title='Fruit color')\n",
    "\n",
    "plt.show()"
   ]
  },
  {
   "cell_type": "code",
   "execution_count": 385,
   "id": "d1c734f9-595a-42aa-affd-ddfdb649f540",
   "metadata": {},
   "outputs": [
    {
     "data": {
      "text/html": [
       "<div>\n",
       "<style scoped>\n",
       "    .dataframe tbody tr th:only-of-type {\n",
       "        vertical-align: middle;\n",
       "    }\n",
       "\n",
       "    .dataframe tbody tr th {\n",
       "        vertical-align: top;\n",
       "    }\n",
       "\n",
       "    .dataframe thead th {\n",
       "        text-align: right;\n",
       "    }\n",
       "</style>\n",
       "<table border=\"1\" class=\"dataframe\">\n",
       "  <thead>\n",
       "    <tr style=\"text-align: right;\">\n",
       "      <th></th>\n",
       "      <th></th>\n",
       "      <th>no_of_faicility</th>\n",
       "    </tr>\n",
       "    <tr>\n",
       "      <th>region</th>\n",
       "      <th>economic_activity</th>\n",
       "      <th></th>\n",
       "    </tr>\n",
       "  </thead>\n",
       "  <tbody>\n",
       "    <tr>\n",
       "      <th rowspan=\"5\" valign=\"top\">المنطقة الشرقية</th>\n",
       "      <th>أخرى</th>\n",
       "      <td>20924</td>\n",
       "    </tr>\n",
       "    <tr>\n",
       "      <th>أنشطة المكاتب</th>\n",
       "      <td>1097</td>\n",
       "    </tr>\n",
       "    <tr>\n",
       "      <th>الأنشطه المعماريه والهندسيه</th>\n",
       "      <td>30248</td>\n",
       "    </tr>\n",
       "    <tr>\n",
       "      <th>البرمجة</th>\n",
       "      <td>427</td>\n",
       "    </tr>\n",
       "    <tr>\n",
       "      <th>التجارة</th>\n",
       "      <td>39686</td>\n",
       "    </tr>\n",
       "    <tr>\n",
       "      <th>...</th>\n",
       "      <th>...</th>\n",
       "      <td>...</td>\n",
       "    </tr>\n",
       "    <tr>\n",
       "      <th rowspan=\"5\" valign=\"top\">منطقة نجران</th>\n",
       "      <th>التجارة</th>\n",
       "      <td>4748</td>\n",
       "    </tr>\n",
       "    <tr>\n",
       "      <th>التعدين</th>\n",
       "      <td>28</td>\n",
       "    </tr>\n",
       "    <tr>\n",
       "      <th>الخدمات</th>\n",
       "      <td>3799</td>\n",
       "    </tr>\n",
       "    <tr>\n",
       "      <th>الصناعة</th>\n",
       "      <td>1559</td>\n",
       "    </tr>\n",
       "    <tr>\n",
       "      <th>النقل</th>\n",
       "      <td>1664</td>\n",
       "    </tr>\n",
       "  </tbody>\n",
       "</table>\n",
       "<p>117 rows × 1 columns</p>\n",
       "</div>"
      ],
      "text/plain": [
       "                                             no_of_faicility\n",
       "region          economic_activity                           \n",
       "المنطقة الشرقية أخرى                                   20924\n",
       "                أنشطة المكاتب                           1097\n",
       "                الأنشطه المعماريه والهندسيه            30248\n",
       "                البرمجة                                  427\n",
       "                التجارة                                39686\n",
       "...                                                      ...\n",
       "منطقة نجران     التجارة                                 4748\n",
       "                التعدين                                   28\n",
       "                الخدمات                                 3799\n",
       "                الصناعة                                 1559\n",
       "                النقل                                   1664\n",
       "\n",
       "[117 rows x 1 columns]"
      ]
     },
     "execution_count": 385,
     "metadata": {},
     "output_type": "execute_result"
    }
   ],
   "source": [
    "#groupby `region` `economic_activity` count how many no_of_facilities belong to the economic activity for \n",
    "# we want the activity of the maximum no_of_facilities among activities in that region\n",
    "#first count the no_of_facitlits for all activites in every region alone\n",
    "pd.DataFrame(df_clean.groupby(['region' , 'economic_activity'])['no_of_faicility'].sum())\n",
    "#get the activity of the max no_of_facilities in that region \n",
    "#that would be the dominant economic_activity in the region"
   ]
  },
  {
   "cell_type": "code",
   "execution_count": 80,
   "id": "48310b31-021c-4df0-8c4e-2a8560f282df",
   "metadata": {},
   "outputs": [
    {
     "data": {
      "text/plain": [
       "<AxesSubplot:ylabel='region'>"
      ]
     },
     "execution_count": 80,
     "metadata": {},
     "output_type": "execute_result"
    },
    {
     "data": {
      "image/png": "[encoded data removed]",
      "text/plain": [
       "<Figure size 432x288 with 1 Axes>"
      ]
     },
     "metadata": {
      "needs_background": "light"
     },
     "output_type": "display_data"
    }
   ],
   "source": [
    "#the no_of_facility in each region (quantity vs. categorical)\n",
    "#groupby region and sum the no_of_faculty\n",
    "facilities_per_region = df_clean.groupby(['region'])['no_of_faicility'].sum()\n",
    "facilities_per_region_df = facilities_per_region.to_frame()\n",
    "facilities_per_region_df.plot(kind='barh')"
   ]
  },
  {
   "cell_type": "code",
   "execution_count": null,
   "id": "e03bc954-e4f6-424d-b547-49db6473a6f7",
   "metadata": {},
   "outputs": [],
   "source": [
    "#sum the total number of employees in every region\n",
    "#store in dataframe \n",
    "#sort desc\n",
    "#get the first 5 rows of that dataframe"
   ]
  },
  {
   "cell_type": "code",
   "execution_count": 148,
   "id": "5e682638-a68c-495f-9fe1-e2185d43b399",
   "metadata": {},
   "outputs": [
    {
     "name": "stderr",
     "output_type": "stream",
     "text": [
      "/Users/rare/opt/anaconda3/envs/data_analysis1/lib/python3.6/site-packages/ipykernel_launcher.py:2: FutureWarning: Indexing with multiple keys (implicitly converted to a tuple of keys) will be deprecated, use a list instead.\n",
      "  \n"
     ]
    }
   ],
   "source": [
    "#ratio of saudi employees compared to foreign employees grouped by region\n"
   ]
  },
  {
   "cell_type": "code",
   "execution_count": null,
   "id": "2710a586-9db5-4f15-a7c1-cec6fc9c2a34",
   "metadata": {},
   "outputs": [],
   "source": [
    "\n"
   ]
  },
  {
   "cell_type": "markdown",
   "id": "cff9b827-16ca-4627-9ccc-2bd1369eb16b",
   "metadata": {},
   "source": [
    "> ## conclusion"
   ]
  },
  {
   "cell_type": "code",
   "execution_count": null,
   "id": "53d89d6f-45d4-40d1-974f-219eef910e24",
   "metadata": {},
   "outputs": [],
   "source": []
  }
 ],
 "metadata": {
  "kernelspec": {
   "display_name": "Python [conda env:data_analysis1]",
   "language": "python",
   "name": "conda-env-data_analysis1-py"
  },
  "language_info": {
   "codemirror_mode": {
    "name": "ipython",
    "version": 3
   },
   "file_extension": ".py",
   "mimetype": "text/x-python",
   "name": "python",
   "nbconvert_exporter": "python",
   "pygments_lexer": "ipython3",
   "version": "3.6.13"
  }
 },
 "nbformat": 4,
 "nbformat_minor": 5
}
